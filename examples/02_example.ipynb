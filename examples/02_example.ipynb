{
 "cells": [
  {
   "cell_type": "markdown",
   "metadata": {},
   "source": [
    "# Example notebook 02\n",
    "\n",
    "Using the data generated from notebook `00_create_data.ipynb` this notebook takes you through some of the basic functionality using the `Checks` class:\n",
    "\n",
    "+ [Required keys](#Required-keys)\n",
    "+ [Looking at the issues ouput](#Looking-at-the-issues-ouput)\n",
    "+ [category](#category)\n",
    "+ [long_description](#long_description)\n",
    "+ [columns](#columns)\n",
    "+ [count_condition](#count_condition)\n",
    "+ [index_position](#index_position)\n",
    "+ [check_condition](#check_condition)\n",
    "+ [relevant_columns](#relevant_columns)\n",
    "+ [idx_flag](#idx_flag)\n",
    "+ [Defaults](#Defaults)\n",
    "\n",
    "## Setup\n",
    "<hr>"
   ]
  },
  {
   "cell_type": "markdown",
   "metadata": {},
   "source": [
    "Imports and settings options"
   ]
  },
  {
   "cell_type": "code",
   "execution_count": 1,
   "metadata": {},
   "outputs": [],
   "source": [
    "import IPython.core.display as ICD\n",
    "import pickle\n",
    "from datetime import datetime\n",
    "\n",
    "import pandas as pd\n",
    "\n",
    "pd.set_option('display.max_rows', 12)\n",
    "pd.set_option('display.max_columns', None)\n",
    "pd.set_option('display.float_format', '{:,.2f}'.format)"
   ]
  },
  {
   "cell_type": "code",
   "execution_count": 2,
   "metadata": {},
   "outputs": [],
   "source": [
    "from data_etl import Checks"
   ]
  },
  {
   "cell_type": "markdown",
   "metadata": {},
   "source": [
    "## Examples\n",
    "<hr>"
   ]
  },
  {
   "cell_type": "markdown",
   "metadata": {},
   "source": [
    "Initialise the class"
   ]
  },
  {
   "cell_type": "code",
   "execution_count": 3,
   "metadata": {},
   "outputs": [],
   "source": [
    "var_start_time = datetime.now()\n",
    "ch_checks = Checks(var_start_time, '1')"
   ]
  },
  {
   "cell_type": "markdown",
   "metadata": {},
   "source": [
    "Set the data, here we are doing it as a dictionary which is the same output as `DataCuration.tables` gives if multiple tables are defined"
   ]
  },
  {
   "cell_type": "code",
   "execution_count": 4,
   "metadata": {},
   "outputs": [],
   "source": [
    "dict_data = {\n",
    "    'df_checks.pkl': pickle.load(open('data/df_checks.pkl', 'rb')),\n",
    "    'df_checks_issues.pkl': pickle.load(open('data/df_checks_issues.pkl', 'rb'))\n",
    "}"
   ]
  },
  {
   "cell_type": "markdown",
   "metadata": {},
   "source": [
    "The `Checks` class also works with a `DataFrame` input  which is the same output `DataCuration.tables` gives if the tables are not separated in dictionary format\n",
    "\n",
    "Each check is defined by a dictionary entry, each dictionary entry has both required and optional inputs which will be looked at below"
   ]
  },
  {
   "cell_type": "markdown",
   "metadata": {},
   "source": [
    "### Required keys\n",
    "<hr>"
   ]
  },
  {
   "cell_type": "markdown",
   "metadata": {},
   "source": [
    "The required keys are:\n",
    "+ A short description of the check, this will be output as the short description if an issue is found so it needs to give an understanding of what is being checked\n",
    "+ A `calc_condition` value, this is a lambda function which will output a series representing if an issue has been found or not"
   ]
  },
  {
   "cell_type": "markdown",
   "metadata": {},
   "source": [
    "Initialise the dictionary to contain the checks, this can be useful if you have very complex checks that involve extra user defined functions that you want to keep in a sensible group"
   ]
  },
  {
   "cell_type": "code",
   "execution_count": 5,
   "metadata": {},
   "outputs": [],
   "source": [
    "dict_checks = dict()"
   ]
  },
  {
   "cell_type": "markdown",
   "metadata": {},
   "source": [
    "Our simple check has a label of `Number should be greater than 0` and the `calc_condition` is a lambda function which takes three arguments of:\n",
    "+ `df`, this is the individual table that is being checked at that time\n",
    "+ `col`, this is passing information provided in an optional argument `columns` which has an example later in this notebook \n",
    "+ `**kwargs`, for some checks you may want to check against other information such as records that already exist in a database, the kwargs allows you to pass any information that you need for the checks"
   ]
  },
  {
   "cell_type": "code",
   "execution_count": 6,
   "metadata": {},
   "outputs": [],
   "source": [
    "dict_checks['Number should be greater than 0'] = {\n",
    "    'calc_condition': lambda df, col, **kwargs: df['number'] <= 0\n",
    "}"
   ]
  },
  {
   "cell_type": "markdown",
   "metadata": {},
   "source": [
    "Apply the dictionary of checks to the dictionary of tables"
   ]
  },
  {
   "cell_type": "code",
   "execution_count": 7,
   "metadata": {},
   "outputs": [],
   "source": [
    "ch_checks.apply_checks(dict_data, dictionary=dict_checks)"
   ]
  },
  {
   "cell_type": "markdown",
   "metadata": {},
   "source": [
    "Look at the issues that were found"
   ]
  },
  {
   "cell_type": "code",
   "execution_count": 8,
   "metadata": {},
   "outputs": [
    {
     "data": {
      "text/html": [
       "<div>\n",
       "<style scoped>\n",
       "    .dataframe tbody tr th:only-of-type {\n",
       "        vertical-align: middle;\n",
       "    }\n",
       "\n",
       "    .dataframe tbody tr th {\n",
       "        vertical-align: top;\n",
       "    }\n",
       "\n",
       "    .dataframe thead th {\n",
       "        text-align: right;\n",
       "    }\n",
       "</style>\n",
       "<table border=\"1\" class=\"dataframe\">\n",
       "  <thead>\n",
       "    <tr style=\"text-align: right;\">\n",
       "      <th></th>\n",
       "      <th>key_1</th>\n",
       "      <th>key_2</th>\n",
       "      <th>key_3</th>\n",
       "      <th>file</th>\n",
       "      <th>sub_file</th>\n",
       "      <th>step_number</th>\n",
       "      <th>category</th>\n",
       "      <th>issue_short_desc</th>\n",
       "      <th>issue_long_desc</th>\n",
       "      <th>column</th>\n",
       "      <th>issue_count</th>\n",
       "      <th>issue_idx</th>\n",
       "      <th>grouping</th>\n",
       "    </tr>\n",
       "  </thead>\n",
       "  <tbody>\n",
       "    <tr>\n",
       "      <th>0</th>\n",
       "      <td>1</td>\n",
       "      <td>None</td>\n",
       "      <td>None</td>\n",
       "      <td>df_checks_issues.pkl</td>\n",
       "      <td>NaN</td>\n",
       "      <td>0</td>\n",
       "      <td>NaN</td>\n",
       "      <td>Number should be greater than 0</td>\n",
       "      <td></td>\n",
       "      <td>NaN</td>\n",
       "      <td>1</td>\n",
       "      <td>4</td>\n",
       "      <td>2020-05-25 20:34:34.483263</td>\n",
       "    </tr>\n",
       "  </tbody>\n",
       "</table>\n",
       "</div>"
      ],
      "text/plain": [
       "  key_1 key_2 key_3                  file sub_file  step_number category  \\\n",
       "0     1  None  None  df_checks_issues.pkl      NaN            0      NaN   \n",
       "\n",
       "                  issue_short_desc issue_long_desc column issue_count  \\\n",
       "0  Number should be greater than 0                    NaN           1   \n",
       "\n",
       "  issue_idx                   grouping  \n",
       "0         4 2020-05-25 20:34:34.483263  "
      ]
     },
     "execution_count": 8,
     "metadata": {},
     "output_type": "execute_result"
    }
   ],
   "source": [
    "ch_checks.df_issues"
   ]
  },
  {
   "cell_type": "markdown",
   "metadata": {},
   "source": [
    "So we can go back to the data and find that problem value"
   ]
  },
  {
   "cell_type": "code",
   "execution_count": 9,
   "metadata": {},
   "outputs": [
    {
     "data": {
      "text/html": [
       "<div>\n",
       "<style scoped>\n",
       "    .dataframe tbody tr th:only-of-type {\n",
       "        vertical-align: middle;\n",
       "    }\n",
       "\n",
       "    .dataframe tbody tr th {\n",
       "        vertical-align: top;\n",
       "    }\n",
       "\n",
       "    .dataframe thead th {\n",
       "        text-align: right;\n",
       "    }\n",
       "</style>\n",
       "<table border=\"1\" class=\"dataframe\">\n",
       "  <thead>\n",
       "    <tr style=\"text-align: right;\">\n",
       "      <th></th>\n",
       "      <th>number</th>\n",
       "      <th>category_1</th>\n",
       "      <th>category_2</th>\n",
       "    </tr>\n",
       "  </thead>\n",
       "  <tbody>\n",
       "    <tr>\n",
       "      <th>4</th>\n",
       "      <td>-1</td>\n",
       "      <td>C</td>\n",
       "      <td>c</td>\n",
       "    </tr>\n",
       "  </tbody>\n",
       "</table>\n",
       "</div>"
      ],
      "text/plain": [
       "   number category_1 category_2\n",
       "4      -1          C          c"
      ]
     },
     "execution_count": 9,
     "metadata": {},
     "output_type": "execute_result"
    }
   ],
   "source": [
    "dict_data['df_checks_issues.pkl'].loc[[4], :]"
   ]
  },
  {
   "cell_type": "markdown",
   "metadata": {},
   "source": [
    "### Looking at the issues ouput\n",
    "<hr>"
   ]
  },
  {
   "cell_type": "markdown",
   "metadata": {},
   "source": [
    "Re output an example"
   ]
  },
  {
   "cell_type": "code",
   "execution_count": 10,
   "metadata": {},
   "outputs": [
    {
     "data": {
      "text/html": [
       "<div>\n",
       "<style scoped>\n",
       "    .dataframe tbody tr th:only-of-type {\n",
       "        vertical-align: middle;\n",
       "    }\n",
       "\n",
       "    .dataframe tbody tr th {\n",
       "        vertical-align: top;\n",
       "    }\n",
       "\n",
       "    .dataframe thead th {\n",
       "        text-align: right;\n",
       "    }\n",
       "</style>\n",
       "<table border=\"1\" class=\"dataframe\">\n",
       "  <thead>\n",
       "    <tr style=\"text-align: right;\">\n",
       "      <th></th>\n",
       "      <th>key_1</th>\n",
       "      <th>key_2</th>\n",
       "      <th>key_3</th>\n",
       "      <th>file</th>\n",
       "      <th>sub_file</th>\n",
       "      <th>step_number</th>\n",
       "      <th>category</th>\n",
       "      <th>issue_short_desc</th>\n",
       "      <th>issue_long_desc</th>\n",
       "      <th>column</th>\n",
       "      <th>issue_count</th>\n",
       "      <th>issue_idx</th>\n",
       "      <th>grouping</th>\n",
       "    </tr>\n",
       "  </thead>\n",
       "  <tbody>\n",
       "    <tr>\n",
       "      <th>0</th>\n",
       "      <td>1</td>\n",
       "      <td>None</td>\n",
       "      <td>None</td>\n",
       "      <td>df_checks_issues.pkl</td>\n",
       "      <td>NaN</td>\n",
       "      <td>0</td>\n",
       "      <td>NaN</td>\n",
       "      <td>Number should be greater than 0</td>\n",
       "      <td></td>\n",
       "      <td>NaN</td>\n",
       "      <td>1</td>\n",
       "      <td>4</td>\n",
       "      <td>2020-05-25 20:34:34.483263</td>\n",
       "    </tr>\n",
       "  </tbody>\n",
       "</table>\n",
       "</div>"
      ],
      "text/plain": [
       "  key_1 key_2 key_3                  file sub_file  step_number category  \\\n",
       "0     1  None  None  df_checks_issues.pkl      NaN            0      NaN   \n",
       "\n",
       "                  issue_short_desc issue_long_desc column issue_count  \\\n",
       "0  Number should be greater than 0                    NaN           1   \n",
       "\n",
       "  issue_idx                   grouping  \n",
       "0         4 2020-05-25 20:34:34.483263  "
      ]
     },
     "execution_count": 10,
     "metadata": {},
     "output_type": "execute_result"
    }
   ],
   "source": [
    "ch_checks.df_issues"
   ]
  },
  {
   "cell_type": "markdown",
   "metadata": {},
   "source": [
    "A quick look at the columns, all the optional inputs have examples later in the notebook:\n",
    "+ `key_1`, `key_2`, `key_3`, `grouping`, as with the `DataCuration` object when you initialise it you can set some keys and a grouping value to kelp identify an individual purpose for the process and an individual run, if you keep the same values across your `DataCuration` and `Checks` objects then it helps to link them together\n",
    "+ `file`, this is the key that you provided for your data so you know which table it is from, this is useful when you are checking multiple files individually\n",
    "+ `sub_file`, if you are using spreadsheets which multiple tabs that you are using this gives the opportunity to have an individual label of the source, it uses the internal parameter `\\_\\_key_separator` to split the input key from the data\n",
    "    + E.g. Data key 'Spreadsheet name -:- Sheet1' will have a file value of 'Spreadhseet name' and a sub_file value of 'Sheet1' to help identify the source of the issue\n",
    "+ `step_number`, for some processes it is required that you have checks at different points, the step number allows you to block these checks together in a meaningful way, the value is set against the `Checks` object\n",
    "+ `category`, an optional input that can be used to indicate if the issue has to be resolved before continuing or is for information purposes or any other labelling that you would find useful\n",
    "+ `issue_short_desc`, this is the label for the check that defines the unique check, e.g. in our example above 'Number should be greater than 0' is the dictionary key and the `issue_short_desc`\n",
    "+ `issue_long_desc`, an optional input that can be used to give more detail, for instance if there are invalid value it could note what values are considered invalid\n",
    "+ `column`, linked to an optional input if the same check is applied to multiple columns individually this will note which column (or set of columns) the check was applied to when an issue was found\n",
    "+ `issue_count`, an optional input, the default value is to sum the output of `calc_condition` to get a count of the rows with the issue\n",
    "+ `issue_idx`, an optional input, the default value is to take the index values of the table where an issue was found and create a comma separated list of those indexes\n",
    "\n",
    "All optional inputs also have a default value in the `Checks` class, these will be looked at later in the notebook\n",
    "\n",
    "If your data has been provided by someone else who is the data owner these issue / validation logs, potentially modified, can be passed back to them to correct the information before you proceed with your work or put the data into a database"
   ]
  },
  {
   "cell_type": "markdown",
   "metadata": {},
   "source": [
    "### category\n",
    "<hr>"
   ]
  },
  {
   "cell_type": "markdown",
   "metadata": {},
   "source": [
    "Set a new step number to differentiate any new issues found"
   ]
  },
  {
   "cell_type": "code",
   "execution_count": 11,
   "metadata": {},
   "outputs": [],
   "source": [
    "ch_checks.set_step_no(1)"
   ]
  },
  {
   "cell_type": "markdown",
   "metadata": {},
   "source": [
    "Create a new dictionary for the checks and put in a category label"
   ]
  },
  {
   "cell_type": "code",
   "execution_count": 12,
   "metadata": {},
   "outputs": [],
   "source": [
    "dict_checks_category = dict()\n",
    "dict_checks_category['Number should be greater than 2'] = {\n",
    "    'calc_condition': lambda df, col, **kwargs: df['number'] <= 2,\n",
    "    'category': 'severe'\n",
    "}"
   ]
  },
  {
   "cell_type": "markdown",
   "metadata": {},
   "source": [
    "Apply the dictionary of checks to the dictionary of tables"
   ]
  },
  {
   "cell_type": "code",
   "execution_count": 13,
   "metadata": {},
   "outputs": [],
   "source": [
    "ch_checks.apply_checks(dict_data, dictionary=dict_checks_category)"
   ]
  },
  {
   "cell_type": "markdown",
   "metadata": {},
   "source": [
    "Look at the issues that were found"
   ]
  },
  {
   "cell_type": "code",
   "execution_count": 14,
   "metadata": {},
   "outputs": [
    {
     "data": {
      "text/html": [
       "<div>\n",
       "<style scoped>\n",
       "    .dataframe tbody tr th:only-of-type {\n",
       "        vertical-align: middle;\n",
       "    }\n",
       "\n",
       "    .dataframe tbody tr th {\n",
       "        vertical-align: top;\n",
       "    }\n",
       "\n",
       "    .dataframe thead th {\n",
       "        text-align: right;\n",
       "    }\n",
       "</style>\n",
       "<table border=\"1\" class=\"dataframe\">\n",
       "  <thead>\n",
       "    <tr style=\"text-align: right;\">\n",
       "      <th></th>\n",
       "      <th>key_1</th>\n",
       "      <th>key_2</th>\n",
       "      <th>key_3</th>\n",
       "      <th>file</th>\n",
       "      <th>sub_file</th>\n",
       "      <th>step_number</th>\n",
       "      <th>category</th>\n",
       "      <th>issue_short_desc</th>\n",
       "      <th>issue_long_desc</th>\n",
       "      <th>column</th>\n",
       "      <th>issue_count</th>\n",
       "      <th>issue_idx</th>\n",
       "      <th>grouping</th>\n",
       "    </tr>\n",
       "  </thead>\n",
       "  <tbody>\n",
       "    <tr>\n",
       "      <th>0</th>\n",
       "      <td>1</td>\n",
       "      <td>None</td>\n",
       "      <td>None</td>\n",
       "      <td>df_checks_issues.pkl</td>\n",
       "      <td>NaN</td>\n",
       "      <td>0</td>\n",
       "      <td>NaN</td>\n",
       "      <td>Number should be greater than 0</td>\n",
       "      <td></td>\n",
       "      <td>NaN</td>\n",
       "      <td>1</td>\n",
       "      <td>4</td>\n",
       "      <td>2020-05-25 20:34:34.483263</td>\n",
       "    </tr>\n",
       "    <tr>\n",
       "      <th>1</th>\n",
       "      <td>1</td>\n",
       "      <td>None</td>\n",
       "      <td>None</td>\n",
       "      <td>df_checks_issues.pkl</td>\n",
       "      <td>NaN</td>\n",
       "      <td>1</td>\n",
       "      <td>severe</td>\n",
       "      <td>Number should be greater than 2</td>\n",
       "      <td></td>\n",
       "      <td>NaN</td>\n",
       "      <td>2</td>\n",
       "      <td>0, 4</td>\n",
       "      <td>2020-05-25 20:34:34.483263</td>\n",
       "    </tr>\n",
       "  </tbody>\n",
       "</table>\n",
       "</div>"
      ],
      "text/plain": [
       "  key_1 key_2 key_3                  file sub_file  step_number category  \\\n",
       "0     1  None  None  df_checks_issues.pkl      NaN            0      NaN   \n",
       "1     1  None  None  df_checks_issues.pkl      NaN            1   severe   \n",
       "\n",
       "                  issue_short_desc issue_long_desc column issue_count  \\\n",
       "0  Number should be greater than 0                    NaN           1   \n",
       "1  Number should be greater than 2                    NaN           2   \n",
       "\n",
       "  issue_idx                   grouping  \n",
       "0         4 2020-05-25 20:34:34.483263  \n",
       "1      0, 4 2020-05-25 20:34:34.483263  "
      ]
     },
     "execution_count": 14,
     "metadata": {},
     "output_type": "execute_result"
    }
   ],
   "source": [
    "ch_checks.df_issues"
   ]
  },
  {
   "cell_type": "markdown",
   "metadata": {},
   "source": [
    "We have the previous one and a new one with our new step number, and the category is filled in for our new issue\n",
    "\n",
    "Looking at the data for where the issues are"
   ]
  },
  {
   "cell_type": "code",
   "execution_count": 15,
   "metadata": {},
   "outputs": [
    {
     "data": {
      "text/html": [
       "<div>\n",
       "<style scoped>\n",
       "    .dataframe tbody tr th:only-of-type {\n",
       "        vertical-align: middle;\n",
       "    }\n",
       "\n",
       "    .dataframe tbody tr th {\n",
       "        vertical-align: top;\n",
       "    }\n",
       "\n",
       "    .dataframe thead th {\n",
       "        text-align: right;\n",
       "    }\n",
       "</style>\n",
       "<table border=\"1\" class=\"dataframe\">\n",
       "  <thead>\n",
       "    <tr style=\"text-align: right;\">\n",
       "      <th></th>\n",
       "      <th>number</th>\n",
       "      <th>category_1</th>\n",
       "      <th>category_2</th>\n",
       "    </tr>\n",
       "  </thead>\n",
       "  <tbody>\n",
       "    <tr>\n",
       "      <th>0</th>\n",
       "      <td>1</td>\n",
       "      <td>Z</td>\n",
       "      <td>y</td>\n",
       "    </tr>\n",
       "    <tr>\n",
       "      <th>4</th>\n",
       "      <td>-1</td>\n",
       "      <td>C</td>\n",
       "      <td>c</td>\n",
       "    </tr>\n",
       "  </tbody>\n",
       "</table>\n",
       "</div>"
      ],
      "text/plain": [
       "   number category_1 category_2\n",
       "0       1          Z          y\n",
       "4      -1          C          c"
      ]
     },
     "execution_count": 15,
     "metadata": {},
     "output_type": "execute_result"
    }
   ],
   "source": [
    "dict_data['df_checks_issues.pkl'].iloc[[0, 4], :]"
   ]
  },
  {
   "cell_type": "markdown",
   "metadata": {},
   "source": [
    "### long_description\n",
    "<hr>"
   ]
  },
  {
   "cell_type": "markdown",
   "metadata": {},
   "source": [
    "Set a new step number to differentiate any new issues found"
   ]
  },
  {
   "cell_type": "code",
   "execution_count": 16,
   "metadata": {},
   "outputs": [],
   "source": [
    "ch_checks.set_step_no(2)"
   ]
  },
  {
   "cell_type": "markdown",
   "metadata": {},
   "source": [
    "Using the same check as before we will add in a long description"
   ]
  },
  {
   "cell_type": "code",
   "execution_count": 17,
   "metadata": {},
   "outputs": [],
   "source": [
    "dict_checks_long_description = {\n",
    "    'check values in list': {\n",
    "        'calc_condition': lambda df, col, **kwargs: ~df['category_1'].isin(['A', 'B', 'C', 'D']),\n",
    "        'long_description': lambda df, col, condition, **kwargs: \n",
    "            f\"The invalid values are: \"\n",
    "            f\"{df.loc[~df['category_1'].isin(['A', 'B', 'C', 'D'])]['category_1'].unique().tolist()}\"\n",
    "    }\n",
    "}"
   ]
  },
  {
   "cell_type": "markdown",
   "metadata": {},
   "source": [
    "Apply the dictionary of checks to the dictionary of tables"
   ]
  },
  {
   "cell_type": "code",
   "execution_count": 18,
   "metadata": {},
   "outputs": [],
   "source": [
    "ch_checks.apply_checks(dict_data, dictionary=dict_checks_long_description)"
   ]
  },
  {
   "cell_type": "markdown",
   "metadata": {},
   "source": [
    "Look at the issues that were found"
   ]
  },
  {
   "cell_type": "code",
   "execution_count": 19,
   "metadata": {},
   "outputs": [
    {
     "data": {
      "text/html": [
       "<div>\n",
       "<style scoped>\n",
       "    .dataframe tbody tr th:only-of-type {\n",
       "        vertical-align: middle;\n",
       "    }\n",
       "\n",
       "    .dataframe tbody tr th {\n",
       "        vertical-align: top;\n",
       "    }\n",
       "\n",
       "    .dataframe thead th {\n",
       "        text-align: right;\n",
       "    }\n",
       "</style>\n",
       "<table border=\"1\" class=\"dataframe\">\n",
       "  <thead>\n",
       "    <tr style=\"text-align: right;\">\n",
       "      <th></th>\n",
       "      <th>key_1</th>\n",
       "      <th>key_2</th>\n",
       "      <th>key_3</th>\n",
       "      <th>file</th>\n",
       "      <th>sub_file</th>\n",
       "      <th>step_number</th>\n",
       "      <th>category</th>\n",
       "      <th>issue_short_desc</th>\n",
       "      <th>issue_long_desc</th>\n",
       "      <th>column</th>\n",
       "      <th>issue_count</th>\n",
       "      <th>issue_idx</th>\n",
       "      <th>grouping</th>\n",
       "    </tr>\n",
       "  </thead>\n",
       "  <tbody>\n",
       "    <tr>\n",
       "      <th>0</th>\n",
       "      <td>1</td>\n",
       "      <td>None</td>\n",
       "      <td>None</td>\n",
       "      <td>df_checks_issues.pkl</td>\n",
       "      <td>NaN</td>\n",
       "      <td>0</td>\n",
       "      <td>NaN</td>\n",
       "      <td>Number should be greater than 0</td>\n",
       "      <td></td>\n",
       "      <td>NaN</td>\n",
       "      <td>1</td>\n",
       "      <td>4</td>\n",
       "      <td>2020-05-25 20:34:34.483263</td>\n",
       "    </tr>\n",
       "    <tr>\n",
       "      <th>1</th>\n",
       "      <td>1</td>\n",
       "      <td>None</td>\n",
       "      <td>None</td>\n",
       "      <td>df_checks_issues.pkl</td>\n",
       "      <td>NaN</td>\n",
       "      <td>1</td>\n",
       "      <td>severe</td>\n",
       "      <td>Number should be greater than 2</td>\n",
       "      <td></td>\n",
       "      <td>NaN</td>\n",
       "      <td>2</td>\n",
       "      <td>0, 4</td>\n",
       "      <td>2020-05-25 20:34:34.483263</td>\n",
       "    </tr>\n",
       "    <tr>\n",
       "      <th>2</th>\n",
       "      <td>1</td>\n",
       "      <td>None</td>\n",
       "      <td>None</td>\n",
       "      <td>df_checks_issues.pkl</td>\n",
       "      <td>NaN</td>\n",
       "      <td>2</td>\n",
       "      <td>NaN</td>\n",
       "      <td>check values in list</td>\n",
       "      <td>The invalid values are: ['Z', 'Y']</td>\n",
       "      <td>NaN</td>\n",
       "      <td>2</td>\n",
       "      <td>0, 2</td>\n",
       "      <td>2020-05-25 20:34:34.483263</td>\n",
       "    </tr>\n",
       "  </tbody>\n",
       "</table>\n",
       "</div>"
      ],
      "text/plain": [
       "  key_1 key_2 key_3                  file sub_file  step_number category  \\\n",
       "0     1  None  None  df_checks_issues.pkl      NaN            0      NaN   \n",
       "1     1  None  None  df_checks_issues.pkl      NaN            1   severe   \n",
       "2     1  None  None  df_checks_issues.pkl      NaN            2      NaN   \n",
       "\n",
       "                  issue_short_desc                     issue_long_desc column  \\\n",
       "0  Number should be greater than 0                                        NaN   \n",
       "1  Number should be greater than 2                                        NaN   \n",
       "2             check values in list  The invalid values are: ['Z', 'Y']    NaN   \n",
       "\n",
       "  issue_count issue_idx                   grouping  \n",
       "0           1         4 2020-05-25 20:34:34.483263  \n",
       "1           2      0, 4 2020-05-25 20:34:34.483263  \n",
       "2           2      0, 2 2020-05-25 20:34:34.483263  "
      ]
     },
     "execution_count": 19,
     "metadata": {},
     "output_type": "execute_result"
    }
   ],
   "source": [
    "ch_checks.df_issues"
   ]
  },
  {
   "cell_type": "markdown",
   "metadata": {},
   "source": [
    "So the description that is set up is now dynamic to the data it is passed, the short and long are just ways to differentiate between the two descriptions rather than to indicate length"
   ]
  },
  {
   "cell_type": "markdown",
   "metadata": {},
   "source": [
    "### columns\n",
    "<hr>"
   ]
  },
  {
   "cell_type": "markdown",
   "metadata": {},
   "source": [
    "Set a new step number to differentiate any new issues found"
   ]
  },
  {
   "cell_type": "code",
   "execution_count": 20,
   "metadata": {},
   "outputs": [],
   "source": [
    "ch_checks.set_step_no(3)"
   ]
  },
  {
   "cell_type": "markdown",
   "metadata": {},
   "source": [
    "Sometimes the same check will apply to multiple columns but it would be verbose to define the check for each one individually, so you can use the columns key instead"
   ]
  },
  {
   "cell_type": "code",
   "execution_count": 21,
   "metadata": {},
   "outputs": [],
   "source": [
    "dict_checks_columns = dict()\n",
    "dict_checks_columns['Letter should be upper case'] = {\n",
    "    'columns': ['category_1', 'category_2'],\n",
    "    'calc_condition': lambda df, col, **kwargs: df[col] == df[col].str.upper()\n",
    "}\n",
    "dict_checks_columns['Letter should not be one of B, z'] = {\n",
    "    'columns': ['category_1', 'category_2'],\n",
    "    'calc_condition': lambda df, col, **kwargs: df[col].isin(['B', 'z'])\n",
    "}"
   ]
  },
  {
   "cell_type": "markdown",
   "metadata": {},
   "source": [
    "Apply the dictionary of checks to the dictionary of tables"
   ]
  },
  {
   "cell_type": "code",
   "execution_count": 22,
   "metadata": {},
   "outputs": [],
   "source": [
    "ch_checks.apply_checks(dict_data, dictionary=dict_checks_columns)"
   ]
  },
  {
   "cell_type": "markdown",
   "metadata": {},
   "source": [
    "Look at the issues that were found"
   ]
  },
  {
   "cell_type": "code",
   "execution_count": 23,
   "metadata": {},
   "outputs": [
    {
     "data": {
      "text/html": [
       "<div>\n",
       "<style scoped>\n",
       "    .dataframe tbody tr th:only-of-type {\n",
       "        vertical-align: middle;\n",
       "    }\n",
       "\n",
       "    .dataframe tbody tr th {\n",
       "        vertical-align: top;\n",
       "    }\n",
       "\n",
       "    .dataframe thead th {\n",
       "        text-align: right;\n",
       "    }\n",
       "</style>\n",
       "<table border=\"1\" class=\"dataframe\">\n",
       "  <thead>\n",
       "    <tr style=\"text-align: right;\">\n",
       "      <th></th>\n",
       "      <th>key_1</th>\n",
       "      <th>key_2</th>\n",
       "      <th>key_3</th>\n",
       "      <th>file</th>\n",
       "      <th>sub_file</th>\n",
       "      <th>step_number</th>\n",
       "      <th>category</th>\n",
       "      <th>issue_short_desc</th>\n",
       "      <th>issue_long_desc</th>\n",
       "      <th>column</th>\n",
       "      <th>issue_count</th>\n",
       "      <th>issue_idx</th>\n",
       "      <th>grouping</th>\n",
       "    </tr>\n",
       "  </thead>\n",
       "  <tbody>\n",
       "    <tr>\n",
       "      <th>3</th>\n",
       "      <td>1</td>\n",
       "      <td>None</td>\n",
       "      <td>None</td>\n",
       "      <td>df_checks.pkl</td>\n",
       "      <td>NaN</td>\n",
       "      <td>3</td>\n",
       "      <td>NaN</td>\n",
       "      <td>Letter should be upper case</td>\n",
       "      <td></td>\n",
       "      <td>category_1</td>\n",
       "      <td>5</td>\n",
       "      <td>0, 1, 2, 3, 4</td>\n",
       "      <td>2020-05-25 20:34:34.483263</td>\n",
       "    </tr>\n",
       "    <tr>\n",
       "      <th>4</th>\n",
       "      <td>1</td>\n",
       "      <td>None</td>\n",
       "      <td>None</td>\n",
       "      <td>df_checks.pkl</td>\n",
       "      <td>NaN</td>\n",
       "      <td>3</td>\n",
       "      <td>NaN</td>\n",
       "      <td>Letter should not be one of B, z</td>\n",
       "      <td></td>\n",
       "      <td>category_1</td>\n",
       "      <td>1</td>\n",
       "      <td>2</td>\n",
       "      <td>2020-05-25 20:34:34.483263</td>\n",
       "    </tr>\n",
       "    <tr>\n",
       "      <th>5</th>\n",
       "      <td>1</td>\n",
       "      <td>None</td>\n",
       "      <td>None</td>\n",
       "      <td>df_checks.pkl</td>\n",
       "      <td>NaN</td>\n",
       "      <td>3</td>\n",
       "      <td>NaN</td>\n",
       "      <td>Letter should not be one of B, z</td>\n",
       "      <td></td>\n",
       "      <td>category_2</td>\n",
       "      <td>1</td>\n",
       "      <td>1</td>\n",
       "      <td>2020-05-25 20:34:34.483263</td>\n",
       "    </tr>\n",
       "    <tr>\n",
       "      <th>6</th>\n",
       "      <td>1</td>\n",
       "      <td>None</td>\n",
       "      <td>None</td>\n",
       "      <td>df_checks_issues.pkl</td>\n",
       "      <td>NaN</td>\n",
       "      <td>3</td>\n",
       "      <td>NaN</td>\n",
       "      <td>Letter should be upper case</td>\n",
       "      <td></td>\n",
       "      <td>category_1</td>\n",
       "      <td>5</td>\n",
       "      <td>0, 1, 2, 3, 4</td>\n",
       "      <td>2020-05-25 20:34:34.483263</td>\n",
       "    </tr>\n",
       "    <tr>\n",
       "      <th>7</th>\n",
       "      <td>1</td>\n",
       "      <td>None</td>\n",
       "      <td>None</td>\n",
       "      <td>df_checks_issues.pkl</td>\n",
       "      <td>NaN</td>\n",
       "      <td>3</td>\n",
       "      <td>NaN</td>\n",
       "      <td>Letter should not be one of B, z</td>\n",
       "      <td></td>\n",
       "      <td>category_1</td>\n",
       "      <td>1</td>\n",
       "      <td>3</td>\n",
       "      <td>2020-05-25 20:34:34.483263</td>\n",
       "    </tr>\n",
       "  </tbody>\n",
       "</table>\n",
       "</div>"
      ],
      "text/plain": [
       "  key_1 key_2 key_3                  file sub_file  step_number category  \\\n",
       "3     1  None  None         df_checks.pkl      NaN            3      NaN   \n",
       "4     1  None  None         df_checks.pkl      NaN            3      NaN   \n",
       "5     1  None  None         df_checks.pkl      NaN            3      NaN   \n",
       "6     1  None  None  df_checks_issues.pkl      NaN            3      NaN   \n",
       "7     1  None  None  df_checks_issues.pkl      NaN            3      NaN   \n",
       "\n",
       "                   issue_short_desc issue_long_desc      column issue_count  \\\n",
       "3       Letter should be upper case                  category_1           5   \n",
       "4  Letter should not be one of B, z                  category_1           1   \n",
       "5  Letter should not be one of B, z                  category_2           1   \n",
       "6       Letter should be upper case                  category_1           5   \n",
       "7  Letter should not be one of B, z                  category_1           1   \n",
       "\n",
       "       issue_idx                   grouping  \n",
       "3  0, 1, 2, 3, 4 2020-05-25 20:34:34.483263  \n",
       "4              2 2020-05-25 20:34:34.483263  \n",
       "5              1 2020-05-25 20:34:34.483263  \n",
       "6  0, 1, 2, 3, 4 2020-05-25 20:34:34.483263  \n",
       "7              3 2020-05-25 20:34:34.483263  "
      ]
     },
     "execution_count": 23,
     "metadata": {},
     "output_type": "execute_result"
    }
   ],
   "source": [
    "ch_checks.df_issues.loc[ch_checks.df_issues['step_number'] == 3]"
   ]
  },
  {
   "cell_type": "markdown",
   "metadata": {},
   "source": [
    "There are now issues for the df_checks.pkl file, but it's easy to differentiate them from the issues in the other file"
   ]
  },
  {
   "cell_type": "markdown",
   "metadata": {},
   "source": [
    "A break down of these issues are:\n",
    "+ For the check 'Letter should be upper case'\n",
    "    + The column category_1 errored for all rows for both tables of data\n",
    "+ For the check 'Letter should not be one of \\[B, z\\]\n",
    "    + Both columns errored for df_checks.pkl for one entry each\n",
    "    + Only column category_1 errored for df_check_issues.pkl for one entry\n",
    "\n",
    "We can look at the original table to spot these problem values"
   ]
  },
  {
   "cell_type": "code",
   "execution_count": 24,
   "metadata": {},
   "outputs": [
    {
     "data": {
      "text/html": [
       "<div>\n",
       "<style scoped>\n",
       "    .dataframe tbody tr th:only-of-type {\n",
       "        vertical-align: middle;\n",
       "    }\n",
       "\n",
       "    .dataframe tbody tr th {\n",
       "        vertical-align: top;\n",
       "    }\n",
       "\n",
       "    .dataframe thead th {\n",
       "        text-align: right;\n",
       "    }\n",
       "</style>\n",
       "<table border=\"1\" class=\"dataframe\">\n",
       "  <thead>\n",
       "    <tr style=\"text-align: right;\">\n",
       "      <th></th>\n",
       "      <th>number</th>\n",
       "      <th>category_1</th>\n",
       "      <th>category_2</th>\n",
       "    </tr>\n",
       "  </thead>\n",
       "  <tbody>\n",
       "    <tr>\n",
       "      <th>0</th>\n",
       "      <td>3</td>\n",
       "      <td>A</td>\n",
       "      <td>a</td>\n",
       "    </tr>\n",
       "    <tr>\n",
       "      <th>1</th>\n",
       "      <td>10</td>\n",
       "      <td>A</td>\n",
       "      <td>z</td>\n",
       "    </tr>\n",
       "    <tr>\n",
       "      <th>2</th>\n",
       "      <td>9</td>\n",
       "      <td>B</td>\n",
       "      <td>b</td>\n",
       "    </tr>\n",
       "    <tr>\n",
       "      <th>3</th>\n",
       "      <td>4</td>\n",
       "      <td>D</td>\n",
       "      <td>d</td>\n",
       "    </tr>\n",
       "    <tr>\n",
       "      <th>4</th>\n",
       "      <td>7</td>\n",
       "      <td>C</td>\n",
       "      <td>c</td>\n",
       "    </tr>\n",
       "  </tbody>\n",
       "</table>\n",
       "</div>"
      ],
      "text/plain": [
       "   number category_1 category_2\n",
       "0       3          A          a\n",
       "1      10          A          z\n",
       "2       9          B          b\n",
       "3       4          D          d\n",
       "4       7          C          c"
      ]
     },
     "metadata": {},
     "output_type": "display_data"
    },
    {
     "data": {
      "text/html": [
       "<div>\n",
       "<style scoped>\n",
       "    .dataframe tbody tr th:only-of-type {\n",
       "        vertical-align: middle;\n",
       "    }\n",
       "\n",
       "    .dataframe tbody tr th {\n",
       "        vertical-align: top;\n",
       "    }\n",
       "\n",
       "    .dataframe thead th {\n",
       "        text-align: right;\n",
       "    }\n",
       "</style>\n",
       "<table border=\"1\" class=\"dataframe\">\n",
       "  <thead>\n",
       "    <tr style=\"text-align: right;\">\n",
       "      <th></th>\n",
       "      <th>number</th>\n",
       "      <th>category_1</th>\n",
       "      <th>category_2</th>\n",
       "    </tr>\n",
       "  </thead>\n",
       "  <tbody>\n",
       "    <tr>\n",
       "      <th>0</th>\n",
       "      <td>1</td>\n",
       "      <td>Z</td>\n",
       "      <td>y</td>\n",
       "    </tr>\n",
       "    <tr>\n",
       "      <th>1</th>\n",
       "      <td>10</td>\n",
       "      <td>A</td>\n",
       "      <td>a</td>\n",
       "    </tr>\n",
       "    <tr>\n",
       "      <th>2</th>\n",
       "      <td>9</td>\n",
       "      <td>Y</td>\n",
       "      <td>b</td>\n",
       "    </tr>\n",
       "    <tr>\n",
       "      <th>3</th>\n",
       "      <td>4</td>\n",
       "      <td>B</td>\n",
       "      <td>b</td>\n",
       "    </tr>\n",
       "    <tr>\n",
       "      <th>4</th>\n",
       "      <td>-1</td>\n",
       "      <td>C</td>\n",
       "      <td>c</td>\n",
       "    </tr>\n",
       "  </tbody>\n",
       "</table>\n",
       "</div>"
      ],
      "text/plain": [
       "   number category_1 category_2\n",
       "0       1          Z          y\n",
       "1      10          A          a\n",
       "2       9          Y          b\n",
       "3       4          B          b\n",
       "4      -1          C          c"
      ]
     },
     "metadata": {},
     "output_type": "display_data"
    }
   ],
   "source": [
    "ICD.display(dict_data['df_checks.pkl'])\n",
    "ICD.display(dict_data['df_checks_issues.pkl'])"
   ]
  },
  {
   "cell_type": "markdown",
   "metadata": {},
   "source": [
    "### count_condition\n",
    "<hr>"
   ]
  },
  {
   "cell_type": "markdown",
   "metadata": {},
   "source": [
    "Set a new step number to differentiate any new issues found"
   ]
  },
  {
   "cell_type": "code",
   "execution_count": 25,
   "metadata": {},
   "outputs": [],
   "source": [
    "ch_checks.set_step_no(4)"
   ]
  },
  {
   "cell_type": "markdown",
   "metadata": {},
   "source": [
    "Create a new dictionary for the checks and put in a new count condition, we will use the same check as for adding in the category (step 1) so we can compare the outputs\n",
    "\n",
    "In the lambda for `count_condition` we have an extra argument of `condition`, this is the output of `calc_condition`"
   ]
  },
  {
   "cell_type": "code",
   "execution_count": 26,
   "metadata": {},
   "outputs": [],
   "source": [
    "dict_checks_count_condition = dict()\n",
    "dict_checks_count_condition['Number should be greater than 2'] = {\n",
    "    'calc_condition': lambda df, col, **kwargs: df['number'] <= 2,\n",
    "    'category': 'severe',\n",
    "    'count_condition': lambda df, col, condition, **kwargs: -1\n",
    "}"
   ]
  },
  {
   "cell_type": "markdown",
   "metadata": {},
   "source": [
    "Apply the dictionary of checks to the dictionary of tables"
   ]
  },
  {
   "cell_type": "code",
   "execution_count": 27,
   "metadata": {},
   "outputs": [],
   "source": [
    "ch_checks.apply_checks(dict_data, dictionary=dict_checks_count_condition)"
   ]
  },
  {
   "cell_type": "markdown",
   "metadata": {},
   "source": [
    "Look at the issues that were found"
   ]
  },
  {
   "cell_type": "code",
   "execution_count": 28,
   "metadata": {},
   "outputs": [
    {
     "data": {
      "text/html": [
       "<div>\n",
       "<style scoped>\n",
       "    .dataframe tbody tr th:only-of-type {\n",
       "        vertical-align: middle;\n",
       "    }\n",
       "\n",
       "    .dataframe tbody tr th {\n",
       "        vertical-align: top;\n",
       "    }\n",
       "\n",
       "    .dataframe thead th {\n",
       "        text-align: right;\n",
       "    }\n",
       "</style>\n",
       "<table border=\"1\" class=\"dataframe\">\n",
       "  <thead>\n",
       "    <tr style=\"text-align: right;\">\n",
       "      <th></th>\n",
       "      <th>key_1</th>\n",
       "      <th>key_2</th>\n",
       "      <th>key_3</th>\n",
       "      <th>file</th>\n",
       "      <th>sub_file</th>\n",
       "      <th>step_number</th>\n",
       "      <th>category</th>\n",
       "      <th>issue_short_desc</th>\n",
       "      <th>issue_long_desc</th>\n",
       "      <th>column</th>\n",
       "      <th>issue_count</th>\n",
       "      <th>issue_idx</th>\n",
       "      <th>grouping</th>\n",
       "    </tr>\n",
       "  </thead>\n",
       "  <tbody>\n",
       "    <tr>\n",
       "      <th>1</th>\n",
       "      <td>1</td>\n",
       "      <td>None</td>\n",
       "      <td>None</td>\n",
       "      <td>df_checks_issues.pkl</td>\n",
       "      <td>NaN</td>\n",
       "      <td>1</td>\n",
       "      <td>severe</td>\n",
       "      <td>Number should be greater than 2</td>\n",
       "      <td></td>\n",
       "      <td>NaN</td>\n",
       "      <td>2</td>\n",
       "      <td>0, 4</td>\n",
       "      <td>2020-05-25 20:34:34.483263</td>\n",
       "    </tr>\n",
       "    <tr>\n",
       "      <th>8</th>\n",
       "      <td>1</td>\n",
       "      <td>None</td>\n",
       "      <td>None</td>\n",
       "      <td>df_checks_issues.pkl</td>\n",
       "      <td>NaN</td>\n",
       "      <td>4</td>\n",
       "      <td>severe</td>\n",
       "      <td>Number should be greater than 2</td>\n",
       "      <td></td>\n",
       "      <td>NaN</td>\n",
       "      <td>-1</td>\n",
       "      <td>0, 4</td>\n",
       "      <td>2020-05-25 20:34:34.483263</td>\n",
       "    </tr>\n",
       "  </tbody>\n",
       "</table>\n",
       "</div>"
      ],
      "text/plain": [
       "  key_1 key_2 key_3                  file sub_file  step_number category  \\\n",
       "1     1  None  None  df_checks_issues.pkl      NaN            1   severe   \n",
       "8     1  None  None  df_checks_issues.pkl      NaN            4   severe   \n",
       "\n",
       "                  issue_short_desc issue_long_desc column issue_count  \\\n",
       "1  Number should be greater than 2                    NaN           2   \n",
       "8  Number should be greater than 2                    NaN          -1   \n",
       "\n",
       "  issue_idx                   grouping  \n",
       "1      0, 4 2020-05-25 20:34:34.483263  \n",
       "8      0, 4 2020-05-25 20:34:34.483263  "
      ]
     },
     "execution_count": 28,
     "metadata": {},
     "output_type": "execute_result"
    }
   ],
   "source": [
    "ch_checks.df_issues.loc[ch_checks.df_issues['step_number'].isin([1, 4])]"
   ]
  },
  {
   "cell_type": "markdown",
   "metadata": {},
   "source": [
    "### index_position\n",
    "<hr>"
   ]
  },
  {
   "cell_type": "markdown",
   "metadata": {},
   "source": [
    "Set a new step number to differentiate any new issues found"
   ]
  },
  {
   "cell_type": "code",
   "execution_count": 29,
   "metadata": {},
   "outputs": [],
   "source": [
    "ch_checks.set_step_no(5)"
   ]
  },
  {
   "cell_type": "markdown",
   "metadata": {},
   "source": [
    "Create a new dictionary for the checks and put in a new index position lambda, this will point you to what row of the data has had an issue\n",
    "\n",
    "Using the checks from step 0\n",
    "\n",
    "You may want to have it 1 indexed instead of 0 or if you know that the end user will have 4 header rows and is looking at it in a spreadsheet then you may want the output to be teh spreadsheet row label\n",
    "\n",
    "You can also choose to keep the default and then make this modification separately before sending out if needed"
   ]
  },
  {
   "cell_type": "code",
   "execution_count": 30,
   "metadata": {},
   "outputs": [],
   "source": [
    "dict_checks_index_position = dict()\n",
    "dict_checks_index_position['Number should be greater than 0'] = {\n",
    "    'calc_condition': lambda df, col, **kwargs: df['number'] <= 0,\n",
    "    'index_position': lambda df, col, condition, **kwargs: \n",
    "        pd.Series(\n",
    "            condition.values.tolist(), \n",
    "            index=[item + 1 for item in condition.index.tolist()]\n",
    "        )\n",
    "}"
   ]
  },
  {
   "cell_type": "markdown",
   "metadata": {},
   "source": [
    "Apply the dictionary of checks to the dictionary of tables"
   ]
  },
  {
   "cell_type": "code",
   "execution_count": 31,
   "metadata": {},
   "outputs": [],
   "source": [
    "ch_checks.apply_checks(dict_data, dictionary=dict_checks_index_position)"
   ]
  },
  {
   "cell_type": "markdown",
   "metadata": {},
   "source": [
    "Look at the issues that were found"
   ]
  },
  {
   "cell_type": "code",
   "execution_count": 32,
   "metadata": {},
   "outputs": [
    {
     "data": {
      "text/html": [
       "<div>\n",
       "<style scoped>\n",
       "    .dataframe tbody tr th:only-of-type {\n",
       "        vertical-align: middle;\n",
       "    }\n",
       "\n",
       "    .dataframe tbody tr th {\n",
       "        vertical-align: top;\n",
       "    }\n",
       "\n",
       "    .dataframe thead th {\n",
       "        text-align: right;\n",
       "    }\n",
       "</style>\n",
       "<table border=\"1\" class=\"dataframe\">\n",
       "  <thead>\n",
       "    <tr style=\"text-align: right;\">\n",
       "      <th></th>\n",
       "      <th>key_1</th>\n",
       "      <th>key_2</th>\n",
       "      <th>key_3</th>\n",
       "      <th>file</th>\n",
       "      <th>sub_file</th>\n",
       "      <th>step_number</th>\n",
       "      <th>category</th>\n",
       "      <th>issue_short_desc</th>\n",
       "      <th>issue_long_desc</th>\n",
       "      <th>column</th>\n",
       "      <th>issue_count</th>\n",
       "      <th>issue_idx</th>\n",
       "      <th>grouping</th>\n",
       "    </tr>\n",
       "  </thead>\n",
       "  <tbody>\n",
       "    <tr>\n",
       "      <th>0</th>\n",
       "      <td>1</td>\n",
       "      <td>None</td>\n",
       "      <td>None</td>\n",
       "      <td>df_checks_issues.pkl</td>\n",
       "      <td>NaN</td>\n",
       "      <td>0</td>\n",
       "      <td>NaN</td>\n",
       "      <td>Number should be greater than 0</td>\n",
       "      <td></td>\n",
       "      <td>NaN</td>\n",
       "      <td>1</td>\n",
       "      <td>4</td>\n",
       "      <td>2020-05-25 20:34:34.483263</td>\n",
       "    </tr>\n",
       "    <tr>\n",
       "      <th>9</th>\n",
       "      <td>1</td>\n",
       "      <td>None</td>\n",
       "      <td>None</td>\n",
       "      <td>df_checks_issues.pkl</td>\n",
       "      <td>NaN</td>\n",
       "      <td>5</td>\n",
       "      <td>NaN</td>\n",
       "      <td>Number should be greater than 0</td>\n",
       "      <td></td>\n",
       "      <td>NaN</td>\n",
       "      <td>1</td>\n",
       "      <td>5</td>\n",
       "      <td>2020-05-25 20:34:34.483263</td>\n",
       "    </tr>\n",
       "  </tbody>\n",
       "</table>\n",
       "</div>"
      ],
      "text/plain": [
       "  key_1 key_2 key_3                  file sub_file  step_number category  \\\n",
       "0     1  None  None  df_checks_issues.pkl      NaN            0      NaN   \n",
       "9     1  None  None  df_checks_issues.pkl      NaN            5      NaN   \n",
       "\n",
       "                  issue_short_desc issue_long_desc column issue_count  \\\n",
       "0  Number should be greater than 0                    NaN           1   \n",
       "9  Number should be greater than 0                    NaN           1   \n",
       "\n",
       "  issue_idx                   grouping  \n",
       "0         4 2020-05-25 20:34:34.483263  \n",
       "9         5 2020-05-25 20:34:34.483263  "
      ]
     },
     "execution_count": 32,
     "metadata": {},
     "output_type": "execute_result"
    }
   ],
   "source": [
    "ch_checks.df_issues.loc[ch_checks.df_issues['step_number'].isin([0, 5])]"
   ]
  },
  {
   "cell_type": "markdown",
   "metadata": {},
   "source": [
    "### check_condition\n",
    "<hr>"
   ]
  },
  {
   "cell_type": "markdown",
   "metadata": {},
   "source": [
    "Set a new step number to differentiate any new issues found"
   ]
  },
  {
   "cell_type": "code",
   "execution_count": 33,
   "metadata": {},
   "outputs": [],
   "source": [
    "ch_checks.set_step_no(6)"
   ]
  },
  {
   "cell_type": "markdown",
   "metadata": {},
   "source": [
    "Create a new dictionary for the checks and put in a new check condition key, this will mean a new trigger for an issue being raised is defined"
   ]
  },
  {
   "cell_type": "code",
   "execution_count": 34,
   "metadata": {},
   "outputs": [],
   "source": [
    "dict_checks_check_condition = dict()\n",
    "dict_checks_check_condition['Letter should be upper case'] = {\n",
    "    'columns': ['category_1', 'category_2'],\n",
    "    'calc_condition': lambda df, col, **kwargs: df[col] == df[col].str.upper(),\n",
    "    'check_condition': lambda df, col, condition, **kwargs: condition.sum() > 2\n",
    "}\n",
    "dict_checks_check_condition['Letter should not be one of B, z'] = {\n",
    "    'columns': ['category_1', 'category_2'],\n",
    "    'calc_condition': lambda df, col, **kwargs: df[col].isin(['B', 'z']),\n",
    "    'check_condition': lambda df, col, condition, **kwargs: condition.sum() > 2\n",
    "}"
   ]
  },
  {
   "cell_type": "markdown",
   "metadata": {},
   "source": [
    "Apply the dictionary of checks to the dictionary of tables"
   ]
  },
  {
   "cell_type": "code",
   "execution_count": 35,
   "metadata": {},
   "outputs": [],
   "source": [
    "ch_checks.apply_checks(dict_data, dictionary=dict_checks_check_condition)"
   ]
  },
  {
   "cell_type": "markdown",
   "metadata": {},
   "source": [
    "Look at the issues that were found"
   ]
  },
  {
   "cell_type": "code",
   "execution_count": 36,
   "metadata": {},
   "outputs": [
    {
     "data": {
      "text/html": [
       "<div>\n",
       "<style scoped>\n",
       "    .dataframe tbody tr th:only-of-type {\n",
       "        vertical-align: middle;\n",
       "    }\n",
       "\n",
       "    .dataframe tbody tr th {\n",
       "        vertical-align: top;\n",
       "    }\n",
       "\n",
       "    .dataframe thead th {\n",
       "        text-align: right;\n",
       "    }\n",
       "</style>\n",
       "<table border=\"1\" class=\"dataframe\">\n",
       "  <thead>\n",
       "    <tr style=\"text-align: right;\">\n",
       "      <th></th>\n",
       "      <th>key_1</th>\n",
       "      <th>key_2</th>\n",
       "      <th>key_3</th>\n",
       "      <th>file</th>\n",
       "      <th>sub_file</th>\n",
       "      <th>step_number</th>\n",
       "      <th>category</th>\n",
       "      <th>issue_short_desc</th>\n",
       "      <th>issue_long_desc</th>\n",
       "      <th>column</th>\n",
       "      <th>issue_count</th>\n",
       "      <th>issue_idx</th>\n",
       "      <th>grouping</th>\n",
       "    </tr>\n",
       "  </thead>\n",
       "  <tbody>\n",
       "    <tr>\n",
       "      <th>3</th>\n",
       "      <td>1</td>\n",
       "      <td>None</td>\n",
       "      <td>None</td>\n",
       "      <td>df_checks.pkl</td>\n",
       "      <td>NaN</td>\n",
       "      <td>3</td>\n",
       "      <td>NaN</td>\n",
       "      <td>Letter should be upper case</td>\n",
       "      <td></td>\n",
       "      <td>category_1</td>\n",
       "      <td>5</td>\n",
       "      <td>0, 1, 2, 3, 4</td>\n",
       "      <td>2020-05-25 20:34:34.483263</td>\n",
       "    </tr>\n",
       "    <tr>\n",
       "      <th>4</th>\n",
       "      <td>1</td>\n",
       "      <td>None</td>\n",
       "      <td>None</td>\n",
       "      <td>df_checks.pkl</td>\n",
       "      <td>NaN</td>\n",
       "      <td>3</td>\n",
       "      <td>NaN</td>\n",
       "      <td>Letter should not be one of B, z</td>\n",
       "      <td></td>\n",
       "      <td>category_1</td>\n",
       "      <td>1</td>\n",
       "      <td>2</td>\n",
       "      <td>2020-05-25 20:34:34.483263</td>\n",
       "    </tr>\n",
       "    <tr>\n",
       "      <th>5</th>\n",
       "      <td>1</td>\n",
       "      <td>None</td>\n",
       "      <td>None</td>\n",
       "      <td>df_checks.pkl</td>\n",
       "      <td>NaN</td>\n",
       "      <td>3</td>\n",
       "      <td>NaN</td>\n",
       "      <td>Letter should not be one of B, z</td>\n",
       "      <td></td>\n",
       "      <td>category_2</td>\n",
       "      <td>1</td>\n",
       "      <td>1</td>\n",
       "      <td>2020-05-25 20:34:34.483263</td>\n",
       "    </tr>\n",
       "    <tr>\n",
       "      <th>6</th>\n",
       "      <td>1</td>\n",
       "      <td>None</td>\n",
       "      <td>None</td>\n",
       "      <td>df_checks_issues.pkl</td>\n",
       "      <td>NaN</td>\n",
       "      <td>3</td>\n",
       "      <td>NaN</td>\n",
       "      <td>Letter should be upper case</td>\n",
       "      <td></td>\n",
       "      <td>category_1</td>\n",
       "      <td>5</td>\n",
       "      <td>0, 1, 2, 3, 4</td>\n",
       "      <td>2020-05-25 20:34:34.483263</td>\n",
       "    </tr>\n",
       "    <tr>\n",
       "      <th>7</th>\n",
       "      <td>1</td>\n",
       "      <td>None</td>\n",
       "      <td>None</td>\n",
       "      <td>df_checks_issues.pkl</td>\n",
       "      <td>NaN</td>\n",
       "      <td>3</td>\n",
       "      <td>NaN</td>\n",
       "      <td>Letter should not be one of B, z</td>\n",
       "      <td></td>\n",
       "      <td>category_1</td>\n",
       "      <td>1</td>\n",
       "      <td>3</td>\n",
       "      <td>2020-05-25 20:34:34.483263</td>\n",
       "    </tr>\n",
       "    <tr>\n",
       "      <th>10</th>\n",
       "      <td>1</td>\n",
       "      <td>None</td>\n",
       "      <td>None</td>\n",
       "      <td>df_checks.pkl</td>\n",
       "      <td>NaN</td>\n",
       "      <td>6</td>\n",
       "      <td>NaN</td>\n",
       "      <td>Letter should be upper case</td>\n",
       "      <td></td>\n",
       "      <td>category_1</td>\n",
       "      <td>5</td>\n",
       "      <td>0, 1, 2, 3, 4</td>\n",
       "      <td>2020-05-25 20:34:34.483263</td>\n",
       "    </tr>\n",
       "    <tr>\n",
       "      <th>11</th>\n",
       "      <td>1</td>\n",
       "      <td>None</td>\n",
       "      <td>None</td>\n",
       "      <td>df_checks_issues.pkl</td>\n",
       "      <td>NaN</td>\n",
       "      <td>6</td>\n",
       "      <td>NaN</td>\n",
       "      <td>Letter should be upper case</td>\n",
       "      <td></td>\n",
       "      <td>category_1</td>\n",
       "      <td>5</td>\n",
       "      <td>0, 1, 2, 3, 4</td>\n",
       "      <td>2020-05-25 20:34:34.483263</td>\n",
       "    </tr>\n",
       "  </tbody>\n",
       "</table>\n",
       "</div>"
      ],
      "text/plain": [
       "   key_1 key_2 key_3                  file sub_file  step_number category  \\\n",
       "3      1  None  None         df_checks.pkl      NaN            3      NaN   \n",
       "4      1  None  None         df_checks.pkl      NaN            3      NaN   \n",
       "5      1  None  None         df_checks.pkl      NaN            3      NaN   \n",
       "6      1  None  None  df_checks_issues.pkl      NaN            3      NaN   \n",
       "7      1  None  None  df_checks_issues.pkl      NaN            3      NaN   \n",
       "10     1  None  None         df_checks.pkl      NaN            6      NaN   \n",
       "11     1  None  None  df_checks_issues.pkl      NaN            6      NaN   \n",
       "\n",
       "                    issue_short_desc issue_long_desc      column issue_count  \\\n",
       "3        Letter should be upper case                  category_1           5   \n",
       "4   Letter should not be one of B, z                  category_1           1   \n",
       "5   Letter should not be one of B, z                  category_2           1   \n",
       "6        Letter should be upper case                  category_1           5   \n",
       "7   Letter should not be one of B, z                  category_1           1   \n",
       "10       Letter should be upper case                  category_1           5   \n",
       "11       Letter should be upper case                  category_1           5   \n",
       "\n",
       "        issue_idx                   grouping  \n",
       "3   0, 1, 2, 3, 4 2020-05-25 20:34:34.483263  \n",
       "4               2 2020-05-25 20:34:34.483263  \n",
       "5               1 2020-05-25 20:34:34.483263  \n",
       "6   0, 1, 2, 3, 4 2020-05-25 20:34:34.483263  \n",
       "7               3 2020-05-25 20:34:34.483263  \n",
       "10  0, 1, 2, 3, 4 2020-05-25 20:34:34.483263  \n",
       "11  0, 1, 2, 3, 4 2020-05-25 20:34:34.483263  "
      ]
     },
     "execution_count": 36,
     "metadata": {},
     "output_type": "execute_result"
    }
   ],
   "source": [
    "ch_checks.df_issues.loc[ch_checks.df_issues['step_number'].isin([3, 6])]"
   ]
  },
  {
   "cell_type": "markdown",
   "metadata": {},
   "source": [
    "We can see that the 3 issues with one one problem found have not appeard for step 6, this is because the set our check condition to only trigger if more than 2 problems were found"
   ]
  },
  {
   "cell_type": "markdown",
   "metadata": {},
   "source": [
    "### relevant_columns\n",
    "<hr>"
   ]
  },
  {
   "cell_type": "markdown",
   "metadata": {},
   "source": [
    "Set a new step number to differentiate any new issues found"
   ]
  },
  {
   "cell_type": "code",
   "execution_count": 37,
   "metadata": {},
   "outputs": [],
   "source": [
    "ch_checks.set_step_no(7)"
   ]
  },
  {
   "cell_type": "markdown",
   "metadata": {},
   "source": [
    "Create a new dictionary for the checks and put in a new relevant columns key, this will mean even though the columns key is not defined there will still be an output in the 'column' column of the issues table "
   ]
  },
  {
   "cell_type": "code",
   "execution_count": 38,
   "metadata": {},
   "outputs": [],
   "source": [
    "dict_checks_relevant_columns = dict()\n",
    "dict_checks_relevant_columns['Number should be greater than 0'] = {\n",
    "    'calc_condition': lambda df, col, **kwargs: df['number'] <= 0,\n",
    "    'relevant_columns': lambda df, col, condition, **kwargs: 'number'\n",
    "}"
   ]
  },
  {
   "cell_type": "markdown",
   "metadata": {},
   "source": [
    "Apply the dictionary of checks to the dictionary of tables"
   ]
  },
  {
   "cell_type": "code",
   "execution_count": 39,
   "metadata": {},
   "outputs": [],
   "source": [
    "ch_checks.apply_checks(dict_data, dictionary=dict_checks_relevant_columns)"
   ]
  },
  {
   "cell_type": "markdown",
   "metadata": {},
   "source": [
    "Look at the issues that were found"
   ]
  },
  {
   "cell_type": "code",
   "execution_count": 40,
   "metadata": {},
   "outputs": [
    {
     "data": {
      "text/html": [
       "<div>\n",
       "<style scoped>\n",
       "    .dataframe tbody tr th:only-of-type {\n",
       "        vertical-align: middle;\n",
       "    }\n",
       "\n",
       "    .dataframe tbody tr th {\n",
       "        vertical-align: top;\n",
       "    }\n",
       "\n",
       "    .dataframe thead th {\n",
       "        text-align: right;\n",
       "    }\n",
       "</style>\n",
       "<table border=\"1\" class=\"dataframe\">\n",
       "  <thead>\n",
       "    <tr style=\"text-align: right;\">\n",
       "      <th></th>\n",
       "      <th>key_1</th>\n",
       "      <th>key_2</th>\n",
       "      <th>key_3</th>\n",
       "      <th>file</th>\n",
       "      <th>sub_file</th>\n",
       "      <th>step_number</th>\n",
       "      <th>category</th>\n",
       "      <th>issue_short_desc</th>\n",
       "      <th>issue_long_desc</th>\n",
       "      <th>column</th>\n",
       "      <th>issue_count</th>\n",
       "      <th>issue_idx</th>\n",
       "      <th>grouping</th>\n",
       "    </tr>\n",
       "  </thead>\n",
       "  <tbody>\n",
       "    <tr>\n",
       "      <th>0</th>\n",
       "      <td>1</td>\n",
       "      <td>None</td>\n",
       "      <td>None</td>\n",
       "      <td>df_checks_issues.pkl</td>\n",
       "      <td>NaN</td>\n",
       "      <td>0</td>\n",
       "      <td>NaN</td>\n",
       "      <td>Number should be greater than 0</td>\n",
       "      <td></td>\n",
       "      <td>NaN</td>\n",
       "      <td>1</td>\n",
       "      <td>4</td>\n",
       "      <td>2020-05-25 20:34:34.483263</td>\n",
       "    </tr>\n",
       "    <tr>\n",
       "      <th>12</th>\n",
       "      <td>1</td>\n",
       "      <td>None</td>\n",
       "      <td>None</td>\n",
       "      <td>df_checks_issues.pkl</td>\n",
       "      <td>NaN</td>\n",
       "      <td>7</td>\n",
       "      <td>NaN</td>\n",
       "      <td>Number should be greater than 0</td>\n",
       "      <td></td>\n",
       "      <td>number</td>\n",
       "      <td>1</td>\n",
       "      <td>4</td>\n",
       "      <td>2020-05-25 20:34:34.483263</td>\n",
       "    </tr>\n",
       "  </tbody>\n",
       "</table>\n",
       "</div>"
      ],
      "text/plain": [
       "   key_1 key_2 key_3                  file sub_file  step_number category  \\\n",
       "0      1  None  None  df_checks_issues.pkl      NaN            0      NaN   \n",
       "12     1  None  None  df_checks_issues.pkl      NaN            7      NaN   \n",
       "\n",
       "                   issue_short_desc issue_long_desc  column issue_count  \\\n",
       "0   Number should be greater than 0                     NaN           1   \n",
       "12  Number should be greater than 0                  number           1   \n",
       "\n",
       "   issue_idx                   grouping  \n",
       "0          4 2020-05-25 20:34:34.483263  \n",
       "12         4 2020-05-25 20:34:34.483263  "
      ]
     },
     "execution_count": 40,
     "metadata": {},
     "output_type": "execute_result"
    }
   ],
   "source": [
    "ch_checks.df_issues.loc[ch_checks.df_issues['step_number'].isin([0, 7])]"
   ]
  },
  {
   "cell_type": "markdown",
   "metadata": {},
   "source": [
    "### idx_flag\n",
    "<hr>"
   ]
  },
  {
   "cell_type": "markdown",
   "metadata": {},
   "source": [
    "Set a new step number to differentiate any new issues found"
   ]
  },
  {
   "cell_type": "code",
   "execution_count": 41,
   "metadata": {},
   "outputs": [],
   "source": [
    "ch_checks.set_step_no(8)"
   ]
  },
  {
   "cell_type": "markdown",
   "metadata": {},
   "source": [
    "Create a new dictionary for the checks and put in a new idx flag key, sometimes it is easier to define a function for when a value is correct = True verses when a value is incorrect = True, the idx flag allows you to switch between them "
   ]
  },
  {
   "cell_type": "code",
   "execution_count": 42,
   "metadata": {},
   "outputs": [],
   "source": [
    "dict_checks_idx_flag = dict()\n",
    "dict_checks_idx_flag['Number should be greater than 0'] = {\n",
    "    'calc_condition': lambda df, col, **kwargs: df['number'] <= 0,\n",
    "    'idx_flag': False\n",
    "}"
   ]
  },
  {
   "cell_type": "markdown",
   "metadata": {},
   "source": [
    "Apply the dictionary of checks to the dictionary of tables"
   ]
  },
  {
   "cell_type": "code",
   "execution_count": 43,
   "metadata": {},
   "outputs": [],
   "source": [
    "ch_checks.apply_checks(dict_data, dictionary=dict_checks_idx_flag)"
   ]
  },
  {
   "cell_type": "markdown",
   "metadata": {},
   "source": [
    "Look at the issues that were found"
   ]
  },
  {
   "cell_type": "code",
   "execution_count": 44,
   "metadata": {},
   "outputs": [
    {
     "data": {
      "text/html": [
       "<div>\n",
       "<style scoped>\n",
       "    .dataframe tbody tr th:only-of-type {\n",
       "        vertical-align: middle;\n",
       "    }\n",
       "\n",
       "    .dataframe tbody tr th {\n",
       "        vertical-align: top;\n",
       "    }\n",
       "\n",
       "    .dataframe thead th {\n",
       "        text-align: right;\n",
       "    }\n",
       "</style>\n",
       "<table border=\"1\" class=\"dataframe\">\n",
       "  <thead>\n",
       "    <tr style=\"text-align: right;\">\n",
       "      <th></th>\n",
       "      <th>key_1</th>\n",
       "      <th>key_2</th>\n",
       "      <th>key_3</th>\n",
       "      <th>file</th>\n",
       "      <th>sub_file</th>\n",
       "      <th>step_number</th>\n",
       "      <th>category</th>\n",
       "      <th>issue_short_desc</th>\n",
       "      <th>issue_long_desc</th>\n",
       "      <th>column</th>\n",
       "      <th>issue_count</th>\n",
       "      <th>issue_idx</th>\n",
       "      <th>grouping</th>\n",
       "    </tr>\n",
       "  </thead>\n",
       "  <tbody>\n",
       "    <tr>\n",
       "      <th>0</th>\n",
       "      <td>1</td>\n",
       "      <td>None</td>\n",
       "      <td>None</td>\n",
       "      <td>df_checks_issues.pkl</td>\n",
       "      <td>NaN</td>\n",
       "      <td>0</td>\n",
       "      <td>NaN</td>\n",
       "      <td>Number should be greater than 0</td>\n",
       "      <td></td>\n",
       "      <td>NaN</td>\n",
       "      <td>1</td>\n",
       "      <td>4</td>\n",
       "      <td>2020-05-25 20:34:34.483263</td>\n",
       "    </tr>\n",
       "    <tr>\n",
       "      <th>13</th>\n",
       "      <td>1</td>\n",
       "      <td>None</td>\n",
       "      <td>None</td>\n",
       "      <td>df_checks_issues.pkl</td>\n",
       "      <td>NaN</td>\n",
       "      <td>8</td>\n",
       "      <td>NaN</td>\n",
       "      <td>Number should be greater than 0</td>\n",
       "      <td></td>\n",
       "      <td>NaN</td>\n",
       "      <td>1</td>\n",
       "      <td>0, 1, 2, 3</td>\n",
       "      <td>2020-05-25 20:34:34.483263</td>\n",
       "    </tr>\n",
       "  </tbody>\n",
       "</table>\n",
       "</div>"
      ],
      "text/plain": [
       "   key_1 key_2 key_3                  file sub_file  step_number category  \\\n",
       "0      1  None  None  df_checks_issues.pkl      NaN            0      NaN   \n",
       "13     1  None  None  df_checks_issues.pkl      NaN            8      NaN   \n",
       "\n",
       "                   issue_short_desc issue_long_desc column issue_count  \\\n",
       "0   Number should be greater than 0                    NaN           1   \n",
       "13  Number should be greater than 0                    NaN           1   \n",
       "\n",
       "     issue_idx                   grouping  \n",
       "0            4 2020-05-25 20:34:34.483263  \n",
       "13  0, 1, 2, 3 2020-05-25 20:34:34.483263  "
      ]
     },
     "execution_count": 44,
     "metadata": {},
     "output_type": "execute_result"
    }
   ],
   "source": [
    "ch_checks.df_issues.loc[ch_checks.df_issues['step_number'].isin([0, 8])]"
   ]
  },
  {
   "cell_type": "markdown",
   "metadata": {},
   "source": [
    "We can see that all the ones which are correct are flagging as wrong for step 8"
   ]
  },
  {
   "cell_type": "markdown",
   "metadata": {},
   "source": [
    "### Defaults\n",
    "<hr>"
   ]
  },
  {
   "cell_type": "markdown",
   "metadata": {},
   "source": [
    "For the optional parameters there are defaults for if you don't pass a key value pair for it, these defaults are overrideable using the `set_defaults` function in the `Checks` object\n",
    "\n",
    "The default values are:\n",
    "+ `columns`: \\[np.nan\\]\n",
    "+ `check_condition`: lambda df, col, condition, \\**kwargs: condition.sum() > 0,\n",
    "+ `count_condition`: lambda df, col, condition, \\**kwargs: condition.sum(),\n",
    "+ `index_position`: lambda df, col, condition, \\**kwargs: condition,\n",
    "+ `relevant_columns`: lambda df, col, condition, \\**kwargs: col,\n",
    "+ `long_description`: lambda df, col, condition, \\**kwargs: \"\",\n",
    "+ `idx_flag`: True,\n",
    "+ `category`: np.nan\n",
    "\n",
    "There are some checks on the values that you pass to replace the defaults with so it may error as the below does"
   ]
  },
  {
   "cell_type": "code",
   "execution_count": 45,
   "metadata": {},
   "outputs": [
    {
     "name": "stderr",
     "output_type": "stream",
     "text": [
      "The passed value for `check_condition` is not a function\n"
     ]
    },
    {
     "ename": "ValueError",
     "evalue": "The passed value for `check_condition` is not a function",
     "output_type": "error",
     "traceback": [
      "\u001b[1;31m---------------------------------------------------------------------------\u001b[0m",
      "\u001b[1;31mValueError\u001b[0m                                Traceback (most recent call last)",
      "\u001b[1;32m<ipython-input-45-f7d99e73e6ef>\u001b[0m in \u001b[0;36m<module>\u001b[1;34m\u001b[0m\n\u001b[1;32m----> 1\u001b[1;33m \u001b[0mch_checks\u001b[0m\u001b[1;33m.\u001b[0m\u001b[0mset_defaults\u001b[0m\u001b[1;33m(\u001b[0m\u001b[0mcheck_condition\u001b[0m\u001b[1;33m=\u001b[0m\u001b[1;34m'check_it'\u001b[0m\u001b[1;33m)\u001b[0m\u001b[1;33m\u001b[0m\u001b[1;33m\u001b[0m\u001b[0m\n\u001b[0m",
      "\u001b[1;32mc:\\users\\georg\\documents\\workspace\\modules\\data_etl\\data_etl\\checks.py\u001b[0m in \u001b[0;36mset_defaults\u001b[1;34m(self, columns, check_condition, count_condition, index_position, relevant_columns, long_description, idx_flag)\u001b[0m\n\u001b[0;32m     94\u001b[0m             \u001b[0mself\u001b[0m\u001b[1;33m.\u001b[0m\u001b[0m__checks_defaults\u001b[0m\u001b[1;33m[\u001b[0m\u001b[1;34m'columns'\u001b[0m\u001b[1;33m]\u001b[0m \u001b[1;33m=\u001b[0m \u001b[0mcolumns\u001b[0m\u001b[1;33m\u001b[0m\u001b[1;33m\u001b[0m\u001b[0m\n\u001b[0;32m     95\u001b[0m         \u001b[1;32mif\u001b[0m \u001b[0mcheck_condition\u001b[0m \u001b[1;32mis\u001b[0m \u001b[1;32mnot\u001b[0m \u001b[1;32mNone\u001b[0m\u001b[1;33m:\u001b[0m\u001b[1;33m\u001b[0m\u001b[1;33m\u001b[0m\u001b[0m\n\u001b[1;32m---> 96\u001b[1;33m             \u001b[0mself\u001b[0m\u001b[1;33m.\u001b[0m\u001b[0m__set_defaults_check\u001b[0m\u001b[1;33m(\u001b[0m\u001b[0mcheck_condition\u001b[0m\u001b[1;33m,\u001b[0m \u001b[1;34m'check_condition'\u001b[0m\u001b[1;33m)\u001b[0m\u001b[1;33m\u001b[0m\u001b[1;33m\u001b[0m\u001b[0m\n\u001b[0m\u001b[0;32m     97\u001b[0m             \u001b[0mself\u001b[0m\u001b[1;33m.\u001b[0m\u001b[0m__checks_defaults\u001b[0m\u001b[1;33m[\u001b[0m\u001b[1;34m'check_condition'\u001b[0m\u001b[1;33m]\u001b[0m \u001b[1;33m=\u001b[0m \u001b[0mcheck_condition\u001b[0m\u001b[1;33m\u001b[0m\u001b[1;33m\u001b[0m\u001b[0m\n\u001b[0;32m     98\u001b[0m         \u001b[1;32mif\u001b[0m \u001b[0mcount_condition\u001b[0m \u001b[1;32mis\u001b[0m \u001b[1;32mnot\u001b[0m \u001b[1;32mNone\u001b[0m\u001b[1;33m:\u001b[0m\u001b[1;33m\u001b[0m\u001b[1;33m\u001b[0m\u001b[0m\n",
      "\u001b[1;32mc:\\users\\georg\\documents\\workspace\\modules\\data_etl\\data_etl\\checks.py\u001b[0m in \u001b[0;36m__set_defaults_check\u001b[1;34m(function, label)\u001b[0m\n\u001b[0;32m    122\u001b[0m             \u001b[0mvar_msg\u001b[0m \u001b[1;33m=\u001b[0m \u001b[1;34mf'The passed value for `{label}` is not a function'\u001b[0m\u001b[1;33m\u001b[0m\u001b[1;33m\u001b[0m\u001b[0m\n\u001b[0;32m    123\u001b[0m             \u001b[0mmodule_logger\u001b[0m\u001b[1;33m.\u001b[0m\u001b[0merror\u001b[0m\u001b[1;33m(\u001b[0m\u001b[0mvar_msg\u001b[0m\u001b[1;33m)\u001b[0m\u001b[1;33m\u001b[0m\u001b[1;33m\u001b[0m\u001b[0m\n\u001b[1;32m--> 124\u001b[1;33m             \u001b[1;32mraise\u001b[0m \u001b[0mValueError\u001b[0m\u001b[1;33m(\u001b[0m\u001b[0mvar_msg\u001b[0m\u001b[1;33m)\u001b[0m\u001b[1;33m\u001b[0m\u001b[1;33m\u001b[0m\u001b[0m\n\u001b[0m\u001b[0;32m    125\u001b[0m         \u001b[0marg_spec\u001b[0m \u001b[1;33m=\u001b[0m \u001b[0mgetfullargspec\u001b[0m\u001b[1;33m(\u001b[0m\u001b[0mfunction\u001b[0m\u001b[1;33m)\u001b[0m\u001b[1;33m\u001b[0m\u001b[1;33m\u001b[0m\u001b[0m\n\u001b[0;32m    126\u001b[0m         \u001b[1;32mif\u001b[0m \u001b[0marg_spec\u001b[0m\u001b[1;33m.\u001b[0m\u001b[0margs\u001b[0m \u001b[1;33m!=\u001b[0m \u001b[1;33m[\u001b[0m\u001b[1;34m'df'\u001b[0m\u001b[1;33m,\u001b[0m \u001b[1;34m'col'\u001b[0m\u001b[1;33m,\u001b[0m \u001b[1;34m'condition'\u001b[0m\u001b[1;33m]\u001b[0m\u001b[1;33m:\u001b[0m\u001b[1;33m\u001b[0m\u001b[1;33m\u001b[0m\u001b[0m\n",
      "\u001b[1;31mValueError\u001b[0m: The passed value for `check_condition` is not a function"
     ]
    }
   ],
   "source": [
    "ch_checks.set_defaults(check_condition='check_it')"
   ]
  },
  {
   "cell_type": "markdown",
   "metadata": {},
   "source": [
    "---\n",
    "**GigiSR**"
   ]
  }
 ],
 "metadata": {
  "kernelspec": {
   "display_name": "Python 3",
   "language": "python",
   "name": "python3"
  },
  "language_info": {
   "codemirror_mode": {
    "name": "ipython",
    "version": 3
   },
   "file_extension": ".py",
   "mimetype": "text/x-python",
   "name": "python",
   "nbconvert_exporter": "python",
   "pygments_lexer": "ipython3",
   "version": "3.6.10"
  }
 },
 "nbformat": 4,
 "nbformat_minor": 2
}
