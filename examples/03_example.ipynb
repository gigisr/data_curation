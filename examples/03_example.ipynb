{
 "cells": [
  {
   "cell_type": "markdown",
   "metadata": {},
   "source": [
    "# Example notebook 03\n",
    "\n",
    "Using the data generated from notebook `00_create_data.ipynb` this notebook takes you through some of the basic functionality using the `Connections` class:\n",
    "\n",
    "+ [Initialise a SqliteDB connection](#Initialise-a-SqliteDB-connection)\n",
    "+ [Read from cnx](#Read-from-cnx)\n",
    "+ [Write to a table](#Write-to-a-table)\n",
    "\n",
    "## Setup\n",
    "<hr>\n",
    "\n",
    "Imports and setting options"
   ]
  },
  {
   "cell_type": "code",
   "execution_count": 1,
   "metadata": {},
   "outputs": [],
   "source": [
    "from datetime import datetime\n",
    "import pickle\n",
    "\n",
    "from data_etl import Connections, Checks"
   ]
  },
  {
   "cell_type": "markdown",
   "metadata": {},
   "source": [
    "## Examples\n",
    "<hr>"
   ]
  },
  {
   "cell_type": "markdown",
   "metadata": {},
   "source": [
    "Initialise the class"
   ]
  },
  {
   "cell_type": "code",
   "execution_count": 2,
   "metadata": {},
   "outputs": [],
   "source": [
    "cnxs = Connections()"
   ]
  },
  {
   "cell_type": "markdown",
   "metadata": {},
   "source": [
    "### Initialise a SqliteDB connection\n",
    "<hr>"
   ]
  },
  {
   "cell_type": "markdown",
   "metadata": {},
   "source": [
    "Initialise the SqliteDB, it doesn't already exist so a warning message is output that a file is being created\n",
    "\n",
    "The optional kwarg `sqlite_df_issues_create` creates a table structure to match the issues tables present in `DataCuration` and `Checks` objects"
   ]
  },
  {
   "cell_type": "code",
   "execution_count": 3,
   "metadata": {},
   "outputs": [
    {
     "name": "stderr",
     "output_type": "stream",
     "text": [
      "The `file_path` data/00_db.db is not valid so this file will be created\n"
     ]
    }
   ],
   "source": [
    "cnxs.add_cnx(\n",
    "    cnx_key='df_issues', \n",
    "    cnx_type='sqlite3',\n",
    "    table_name='df_issues',\n",
    "    file_path='data/00_db.db',\n",
    "    sqlite_df_issues_create=True\n",
    ")"
   ]
  },
  {
   "cell_type": "markdown",
   "metadata": {},
   "source": [
    "### Read from cnx\n",
    "<hr>"
   ]
  },
  {
   "cell_type": "markdown",
   "metadata": {},
   "source": [
    "Using `read_from_db` you can read data out from a table, or from a database on the same connection"
   ]
  },
  {
   "cell_type": "code",
   "execution_count": 4,
   "metadata": {},
   "outputs": [
    {
     "data": {
      "text/html": [
       "<div>\n",
       "<style scoped>\n",
       "    .dataframe tbody tr th:only-of-type {\n",
       "        vertical-align: middle;\n",
       "    }\n",
       "\n",
       "    .dataframe tbody tr th {\n",
       "        vertical-align: top;\n",
       "    }\n",
       "\n",
       "    .dataframe thead th {\n",
       "        text-align: right;\n",
       "    }\n",
       "</style>\n",
       "<table border=\"1\" class=\"dataframe\">\n",
       "  <thead>\n",
       "    <tr style=\"text-align: right;\">\n",
       "      <th></th>\n",
       "      <th>key_1</th>\n",
       "      <th>key_2</th>\n",
       "      <th>key_3</th>\n",
       "      <th>file</th>\n",
       "      <th>sub_file</th>\n",
       "      <th>step_number</th>\n",
       "      <th>category</th>\n",
       "      <th>issue_short_desc</th>\n",
       "      <th>issue_long_desc</th>\n",
       "      <th>column</th>\n",
       "      <th>issue_count</th>\n",
       "      <th>issue_idx</th>\n",
       "      <th>grouping</th>\n",
       "    </tr>\n",
       "  </thead>\n",
       "  <tbody>\n",
       "  </tbody>\n",
       "</table>\n",
       "</div>"
      ],
      "text/plain": [
       "Empty DataFrame\n",
       "Columns: [key_1, key_2, key_3, file, sub_file, step_number, category, issue_short_desc, issue_long_desc, column, issue_count, issue_idx, grouping]\n",
       "Index: []"
      ]
     },
     "execution_count": 4,
     "metadata": {},
     "output_type": "execute_result"
    }
   ],
   "source": [
    "cnxs.read_from_db('df_issues', 'SELECT * FROM df_issues')"
   ]
  },
  {
   "cell_type": "markdown",
   "metadata": {},
   "source": [
    "### Write to a table\n",
    "<hr>"
   ]
  },
  {
   "cell_type": "markdown",
   "metadata": {},
   "source": [
    "We needs some issues to write to the table"
   ]
  },
  {
   "cell_type": "code",
   "execution_count": 5,
   "metadata": {},
   "outputs": [
    {
     "data": {
      "text/html": [
       "<div>\n",
       "<style scoped>\n",
       "    .dataframe tbody tr th:only-of-type {\n",
       "        vertical-align: middle;\n",
       "    }\n",
       "\n",
       "    .dataframe tbody tr th {\n",
       "        vertical-align: top;\n",
       "    }\n",
       "\n",
       "    .dataframe thead th {\n",
       "        text-align: right;\n",
       "    }\n",
       "</style>\n",
       "<table border=\"1\" class=\"dataframe\">\n",
       "  <thead>\n",
       "    <tr style=\"text-align: right;\">\n",
       "      <th></th>\n",
       "      <th>key_1</th>\n",
       "      <th>key_2</th>\n",
       "      <th>key_3</th>\n",
       "      <th>file</th>\n",
       "      <th>sub_file</th>\n",
       "      <th>step_number</th>\n",
       "      <th>category</th>\n",
       "      <th>issue_short_desc</th>\n",
       "      <th>issue_long_desc</th>\n",
       "      <th>column</th>\n",
       "      <th>issue_count</th>\n",
       "      <th>issue_idx</th>\n",
       "      <th>grouping</th>\n",
       "    </tr>\n",
       "  </thead>\n",
       "  <tbody>\n",
       "    <tr>\n",
       "      <th>0</th>\n",
       "      <td>1</td>\n",
       "      <td>None</td>\n",
       "      <td>None</td>\n",
       "      <td>df_checks_issues.pkl</td>\n",
       "      <td>NaN</td>\n",
       "      <td>0</td>\n",
       "      <td>NaN</td>\n",
       "      <td>Number should be greater than 0</td>\n",
       "      <td></td>\n",
       "      <td>NaN</td>\n",
       "      <td>1</td>\n",
       "      <td>4</td>\n",
       "      <td>2020-05-25 20:35:03.604898</td>\n",
       "    </tr>\n",
       "  </tbody>\n",
       "</table>\n",
       "</div>"
      ],
      "text/plain": [
       "  key_1 key_2 key_3                  file sub_file  step_number category  \\\n",
       "0     1  None  None  df_checks_issues.pkl      NaN            0      NaN   \n",
       "\n",
       "                  issue_short_desc issue_long_desc column issue_count  \\\n",
       "0  Number should be greater than 0                    NaN           1   \n",
       "\n",
       "  issue_idx                   grouping  \n",
       "0         4 2020-05-25 20:35:03.604898  "
      ]
     },
     "execution_count": 5,
     "metadata": {},
     "output_type": "execute_result"
    }
   ],
   "source": [
    "var_start_time = datetime.now()\n",
    "ch_checks = Checks(var_start_time, '1')\n",
    "\n",
    "dict_data = {\n",
    "    'df_checks_issues.pkl': pickle.load(open('data/df_checks_issues.pkl', 'rb'))\n",
    "}\n",
    "\n",
    "dict_checks = dict()\n",
    "dict_checks['Number should be greater than 0'] = {\n",
    "    'calc_condition': lambda df, col, **kwargs: df['number'] <= 0\n",
    "}\n",
    "\n",
    "ch_checks.apply_checks(dict_data, dictionary=dict_checks)\n",
    "\n",
    "ch_checks.df_issues"
   ]
  },
  {
   "cell_type": "markdown",
   "metadata": {},
   "source": [
    "Using `write_to_db` creates a temporary table in the background which the data is written to, if that has written with no issues then it moves all that data to the main table"
   ]
  },
  {
   "cell_type": "code",
   "execution_count": 6,
   "metadata": {},
   "outputs": [],
   "source": [
    "cnxs.write_to_db('df_issues', ch_checks.df_issues)"
   ]
  },
  {
   "cell_type": "markdown",
   "metadata": {},
   "source": [
    "And then check it wrote to the table"
   ]
  },
  {
   "cell_type": "code",
   "execution_count": 7,
   "metadata": {},
   "outputs": [
    {
     "data": {
      "text/html": [
       "<div>\n",
       "<style scoped>\n",
       "    .dataframe tbody tr th:only-of-type {\n",
       "        vertical-align: middle;\n",
       "    }\n",
       "\n",
       "    .dataframe tbody tr th {\n",
       "        vertical-align: top;\n",
       "    }\n",
       "\n",
       "    .dataframe thead th {\n",
       "        text-align: right;\n",
       "    }\n",
       "</style>\n",
       "<table border=\"1\" class=\"dataframe\">\n",
       "  <thead>\n",
       "    <tr style=\"text-align: right;\">\n",
       "      <th></th>\n",
       "      <th>key_1</th>\n",
       "      <th>key_2</th>\n",
       "      <th>key_3</th>\n",
       "      <th>file</th>\n",
       "      <th>sub_file</th>\n",
       "      <th>step_number</th>\n",
       "      <th>category</th>\n",
       "      <th>issue_short_desc</th>\n",
       "      <th>issue_long_desc</th>\n",
       "      <th>column</th>\n",
       "      <th>issue_count</th>\n",
       "      <th>issue_idx</th>\n",
       "      <th>grouping</th>\n",
       "    </tr>\n",
       "  </thead>\n",
       "  <tbody>\n",
       "    <tr>\n",
       "      <th>0</th>\n",
       "      <td>1</td>\n",
       "      <td>None</td>\n",
       "      <td>None</td>\n",
       "      <td>df_checks_issues.pkl</td>\n",
       "      <td>None</td>\n",
       "      <td>0</td>\n",
       "      <td>None</td>\n",
       "      <td>Number should be greater than 0</td>\n",
       "      <td></td>\n",
       "      <td>None</td>\n",
       "      <td>1</td>\n",
       "      <td>4</td>\n",
       "      <td>2020-05-25 20:35:03.604898</td>\n",
       "    </tr>\n",
       "  </tbody>\n",
       "</table>\n",
       "</div>"
      ],
      "text/plain": [
       "  key_1 key_2 key_3                  file sub_file  step_number category  \\\n",
       "0     1  None  None  df_checks_issues.pkl     None            0     None   \n",
       "\n",
       "                  issue_short_desc issue_long_desc column  issue_count  \\\n",
       "0  Number should be greater than 0                   None            1   \n",
       "\n",
       "  issue_idx                    grouping  \n",
       "0         4  2020-05-25 20:35:03.604898  "
      ]
     },
     "execution_count": 7,
     "metadata": {},
     "output_type": "execute_result"
    }
   ],
   "source": [
    "cnxs.read_from_db('df_issues', 'SELECT * FROM df_issues')"
   ]
  },
  {
   "cell_type": "markdown",
   "metadata": {},
   "source": [
    "---\n",
    "**GigiSR**"
   ]
  }
 ],
 "metadata": {
  "kernelspec": {
   "display_name": "Python 3",
   "language": "python",
   "name": "python3"
  },
  "language_info": {
   "codemirror_mode": {
    "name": "ipython",
    "version": 3
   },
   "file_extension": ".py",
   "mimetype": "text/x-python",
   "name": "python",
   "nbconvert_exporter": "python",
   "pygments_lexer": "ipython3",
   "version": "3.6.10"
  }
 },
 "nbformat": 4,
 "nbformat_minor": 2
}
