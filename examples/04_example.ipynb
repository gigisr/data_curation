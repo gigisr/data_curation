{
 "cells": [
  {
   "cell_type": "markdown",
   "metadata": {},
   "source": [
    "# Example notebook 04\n",
    "\n",
    "Using the data generated from notebook `00_create_data.ipynb` this notebook takes you through some of the basic functionality using the `general_functions` module:\n",
    "\n",
    "+ [Initialise logging](#Initialise-logging)\n",
    "+ [Import attribute](#Import-attribute)\n",
    "+ [Check for issues](#Check-for-issues)\n",
    "\n",
    "\n",
    "## Setup\n",
    "<hr>"
   ]
  },
  {
   "cell_type": "markdown",
   "metadata": {},
   "source": [
    "Imports and setting options"
   ]
  },
  {
   "cell_type": "code",
   "execution_count": 1,
   "metadata": {},
   "outputs": [],
   "source": [
    "from datetime import datetime\n",
    "import pickle\n",
    "\n",
    "from data_etl import Checks, Connections, general_functions"
   ]
  },
  {
   "cell_type": "markdown",
   "metadata": {},
   "source": [
    "### Initialise logging\n",
    "<hr>"
   ]
  },
  {
   "cell_type": "markdown",
   "metadata": {},
   "source": [
    "When running interlocking scripts it can be useful to have logging so that if a problem is encountered there's hopefully enough information provided to debug\n",
    "\n",
    "This function helps to set up a logging file"
   ]
  },
  {
   "cell_type": "code",
   "execution_count": 2,
   "metadata": {},
   "outputs": [],
   "source": [
    "general_functions.func_initialise_logging(\n",
    "    'example_04', 'logs/', '1', None, None, datetime.now()\n",
    ")"
   ]
  },
  {
   "cell_type": "markdown",
   "metadata": {},
   "source": [
    "### Import attribute\n",
    "<hr>"
   ]
  },
  {
   "cell_type": "markdown",
   "metadata": {},
   "source": [
    "Quite often it is more useful to define the large dictionaries that go into the checks in a separate script so that it is in a collection but doesn't clutter up the main script where the flow of processing is defined\n",
    "\n",
    "This function is also used in the classes as reading in from other scripts is a frequent action for clarity of the code"
   ]
  },
  {
   "cell_type": "code",
   "execution_count": 3,
   "metadata": {},
   "outputs": [
    {
     "data": {
      "text/plain": [
       "{'Number should be greater than 0': {'calc_condition': <function 04_example.<lambda>(df, col, **kwargs)>},\n",
       " 'Number should be greater than 2': {'columns': ['number'],\n",
       "  'calc_condition': <function 04_example.<lambda>(df, col, **kwargs)>,\n",
       "  'category': 'severe'},\n",
       " 'check values in list': {'columns': ['category_1'],\n",
       "  'calc_condition': <function 04_example.<lambda>(df, col, **kwargs)>,\n",
       "  'long_description': <function 04_example.<lambda>(df, col, condition, **kwargs)>},\n",
       " 'The category_1 column can only map to certain values': {'calc_condition': <function 04_example.<lambda>(df, col, **kwargs)>,\n",
       "  'check_condition': <function 04_example.<lambda>(df, col, condition, **kwargs)>,\n",
       "  'count_condition': <function 04_example.<lambda>(df, col, condition, **kwargs)>,\n",
       "  'index_position': <function 04_example.<lambda>(df, col, condition, **kwargs)>,\n",
       "  'relevant_columns': <function 04_example.<lambda>(df, col, condition, **kwargs)>,\n",
       "  'long_description': <function 04_example.<lambda>(df, col, condition, **kwargs)>}}"
      ]
     },
     "execution_count": 3,
     "metadata": {},
     "output_type": "execute_result"
    }
   ],
   "source": [
    "dict_checks = general_functions.import_attr('.', '04_example', 'dict_checks')\n",
    "dict_checks"
   ]
  },
  {
   "cell_type": "markdown",
   "metadata": {},
   "source": [
    "And this can then be used or modified and used in the `DataCuration` and `Checks` classes"
   ]
  },
  {
   "cell_type": "markdown",
   "metadata": {},
   "source": [
    "### Check for issues\n",
    "<hr>"
   ]
  },
  {
   "cell_type": "markdown",
   "metadata": {},
   "source": [
    "The aim of this function is to have a way to create a break in the code if there is are issues, and to store the issues before erroring out of the script\n",
    "\n",
    "To use this function we need a class instance with issue entries and a connections class instance to write the issues out to"
   ]
  },
  {
   "cell_type": "code",
   "execution_count": 4,
   "metadata": {},
   "outputs": [
    {
     "data": {
      "text/html": [
       "<div>\n",
       "<style scoped>\n",
       "    .dataframe tbody tr th:only-of-type {\n",
       "        vertical-align: middle;\n",
       "    }\n",
       "\n",
       "    .dataframe tbody tr th {\n",
       "        vertical-align: top;\n",
       "    }\n",
       "\n",
       "    .dataframe thead th {\n",
       "        text-align: right;\n",
       "    }\n",
       "</style>\n",
       "<table border=\"1\" class=\"dataframe\">\n",
       "  <thead>\n",
       "    <tr style=\"text-align: right;\">\n",
       "      <th></th>\n",
       "      <th>key_1</th>\n",
       "      <th>key_2</th>\n",
       "      <th>key_3</th>\n",
       "      <th>file</th>\n",
       "      <th>sub_file</th>\n",
       "      <th>step_number</th>\n",
       "      <th>category</th>\n",
       "      <th>issue_short_desc</th>\n",
       "      <th>issue_long_desc</th>\n",
       "      <th>column</th>\n",
       "      <th>issue_count</th>\n",
       "      <th>issue_idx</th>\n",
       "      <th>grouping</th>\n",
       "    </tr>\n",
       "  </thead>\n",
       "  <tbody>\n",
       "    <tr>\n",
       "      <th>0</th>\n",
       "      <td>1</td>\n",
       "      <td>None</td>\n",
       "      <td>None</td>\n",
       "      <td>df_checks_issues.pkl</td>\n",
       "      <td>NaN</td>\n",
       "      <td>0</td>\n",
       "      <td>NaN</td>\n",
       "      <td>Number should be greater than 0</td>\n",
       "      <td></td>\n",
       "      <td>NaN</td>\n",
       "      <td>1</td>\n",
       "      <td>4</td>\n",
       "      <td>2020-05-26 07:43:04.328680</td>\n",
       "    </tr>\n",
       "    <tr>\n",
       "      <th>1</th>\n",
       "      <td>1</td>\n",
       "      <td>None</td>\n",
       "      <td>None</td>\n",
       "      <td>df_checks_issues.pkl</td>\n",
       "      <td>NaN</td>\n",
       "      <td>1</td>\n",
       "      <td>NaN</td>\n",
       "      <td>Number should be greater than 0</td>\n",
       "      <td></td>\n",
       "      <td>NaN</td>\n",
       "      <td>1</td>\n",
       "      <td>4</td>\n",
       "      <td>2020-05-26 07:43:04.328680</td>\n",
       "    </tr>\n",
       "    <tr>\n",
       "      <th>2</th>\n",
       "      <td>1</td>\n",
       "      <td>None</td>\n",
       "      <td>None</td>\n",
       "      <td>df_checks_issues.pkl</td>\n",
       "      <td>NaN</td>\n",
       "      <td>2</td>\n",
       "      <td>NaN</td>\n",
       "      <td>Number should be greater than 0</td>\n",
       "      <td></td>\n",
       "      <td>NaN</td>\n",
       "      <td>1</td>\n",
       "      <td>4</td>\n",
       "      <td>2020-05-26 07:43:04.328680</td>\n",
       "    </tr>\n",
       "    <tr>\n",
       "      <th>3</th>\n",
       "      <td>1</td>\n",
       "      <td>None</td>\n",
       "      <td>None</td>\n",
       "      <td>df_checks_issues.pkl</td>\n",
       "      <td>NaN</td>\n",
       "      <td>3</td>\n",
       "      <td>NaN</td>\n",
       "      <td>Number should be greater than 0</td>\n",
       "      <td></td>\n",
       "      <td>NaN</td>\n",
       "      <td>1</td>\n",
       "      <td>4</td>\n",
       "      <td>2020-05-26 07:43:04.328680</td>\n",
       "    </tr>\n",
       "    <tr>\n",
       "      <th>4</th>\n",
       "      <td>1</td>\n",
       "      <td>None</td>\n",
       "      <td>None</td>\n",
       "      <td>df_checks_issues.pkl</td>\n",
       "      <td>NaN</td>\n",
       "      <td>4</td>\n",
       "      <td>NaN</td>\n",
       "      <td>Number should be greater than 0</td>\n",
       "      <td></td>\n",
       "      <td>NaN</td>\n",
       "      <td>1</td>\n",
       "      <td>4</td>\n",
       "      <td>2020-05-26 07:43:04.328680</td>\n",
       "    </tr>\n",
       "  </tbody>\n",
       "</table>\n",
       "</div>"
      ],
      "text/plain": [
       "  key_1 key_2 key_3                  file sub_file  step_number category  \\\n",
       "0     1  None  None  df_checks_issues.pkl      NaN            0      NaN   \n",
       "1     1  None  None  df_checks_issues.pkl      NaN            1      NaN   \n",
       "2     1  None  None  df_checks_issues.pkl      NaN            2      NaN   \n",
       "3     1  None  None  df_checks_issues.pkl      NaN            3      NaN   \n",
       "4     1  None  None  df_checks_issues.pkl      NaN            4      NaN   \n",
       "\n",
       "                  issue_short_desc issue_long_desc column issue_count  \\\n",
       "0  Number should be greater than 0                    NaN           1   \n",
       "1  Number should be greater than 0                    NaN           1   \n",
       "2  Number should be greater than 0                    NaN           1   \n",
       "3  Number should be greater than 0                    NaN           1   \n",
       "4  Number should be greater than 0                    NaN           1   \n",
       "\n",
       "  issue_idx                   grouping  \n",
       "0         4 2020-05-26 07:43:04.328680  \n",
       "1         4 2020-05-26 07:43:04.328680  \n",
       "2         4 2020-05-26 07:43:04.328680  \n",
       "3         4 2020-05-26 07:43:04.328680  \n",
       "4         4 2020-05-26 07:43:04.328680  "
      ]
     },
     "execution_count": 4,
     "metadata": {},
     "output_type": "execute_result"
    }
   ],
   "source": [
    "var_start_time = datetime.now()\n",
    "ch_checks = Checks(var_start_time, '1')\n",
    "\n",
    "dict_data = {\n",
    "    'df_checks_issues.pkl': pickle.load(open('data/df_checks_issues.pkl', 'rb'))\n",
    "}\n",
    "\n",
    "dict_checks = dict()\n",
    "dict_checks['Number should be greater than 0'] = {\n",
    "    'calc_condition': lambda df, col, **kwargs: df['number'] <= 0\n",
    "}\n",
    "\n",
    "for step_no in range(5):\n",
    "    ch_checks.set_step_no(step_no)\n",
    "    ch_checks.apply_checks(dict_data, dictionary=dict_checks)\n",
    "\n",
    "ch_checks.df_issues"
   ]
  },
  {
   "cell_type": "code",
   "execution_count": 5,
   "metadata": {},
   "outputs": [],
   "source": [
    "cnxs = Connections()\n",
    "cnxs.add_cnx(\n",
    "    cnx_key='df_issues', \n",
    "    cnx_type='sqlite3',\n",
    "    table_name='df_issues',\n",
    "    file_path='data/00_db.db'\n",
    ")"
   ]
  },
  {
   "cell_type": "markdown",
   "metadata": {},
   "source": [
    "Now use the issues table in the function"
   ]
  },
  {
   "cell_type": "code",
   "execution_count": 6,
   "metadata": {},
   "outputs": [],
   "source": [
    "general_functions.func_check_for_issues(\n",
    "    ch_checks.get_issue_count(), \n",
    "    cnxs, \n",
    "    'df_issues', \n",
    "    ch_checks.df_issues, \n",
    "    ch_checks.get_step_no(),\n",
    "    override=True\n",
    ")"
   ]
  },
  {
   "cell_type": "markdown",
   "metadata": {},
   "source": [
    "The above has `override=True`, this means even if problems are found it will not error out, the below doesn't have `override=True` and intentionally errors"
   ]
  },
  {
   "cell_type": "code",
   "execution_count": 7,
   "metadata": {},
   "outputs": [
    {
     "ename": "ValueError",
     "evalue": "There were 5 issues found at step 4",
     "output_type": "error",
     "traceback": [
      "\u001b[1;31m---------------------------------------------------------------------------\u001b[0m",
      "\u001b[1;31mValueError\u001b[0m                                Traceback (most recent call last)",
      "\u001b[1;32m<ipython-input-7-b270c52e9ad6>\u001b[0m in \u001b[0;36m<module>\u001b[1;34m\u001b[0m\n\u001b[0;32m      4\u001b[0m     \u001b[1;34m'df_issues'\u001b[0m\u001b[1;33m,\u001b[0m\u001b[1;33m\u001b[0m\u001b[1;33m\u001b[0m\u001b[0m\n\u001b[0;32m      5\u001b[0m     \u001b[0mch_checks\u001b[0m\u001b[1;33m.\u001b[0m\u001b[0mdf_issues\u001b[0m\u001b[1;33m,\u001b[0m\u001b[1;33m\u001b[0m\u001b[1;33m\u001b[0m\u001b[0m\n\u001b[1;32m----> 6\u001b[1;33m     \u001b[0mch_checks\u001b[0m\u001b[1;33m.\u001b[0m\u001b[0mget_step_no\u001b[0m\u001b[1;33m(\u001b[0m\u001b[1;33m)\u001b[0m\u001b[1;33m\u001b[0m\u001b[1;33m\u001b[0m\u001b[0m\n\u001b[0m\u001b[0;32m      7\u001b[0m )\n",
      "\u001b[1;32mc:\\users\\georg\\documents\\workspace\\modules\\data_etl\\data_etl\\general_functions.py\u001b[0m in \u001b[0;36mfunc_check_for_issues\u001b[1;34m(issue_count, cnx, cnx_key, table, step_no, override, start_time)\u001b[0m\n\u001b[0;32m     38\u001b[0m             module_logger.info(\"Script time taken: {}\".format(\n\u001b[0;32m     39\u001b[0m                 str(datetime.now() - start_time)))\n\u001b[1;32m---> 40\u001b[1;33m         \u001b[1;32mraise\u001b[0m \u001b[0mValueError\u001b[0m\u001b[1;33m(\u001b[0m\u001b[0mvar_msg\u001b[0m\u001b[1;33m)\u001b[0m\u001b[1;33m\u001b[0m\u001b[1;33m\u001b[0m\u001b[0m\n\u001b[0m\u001b[0;32m     41\u001b[0m \u001b[1;33m\u001b[0m\u001b[0m\n\u001b[0;32m     42\u001b[0m \u001b[1;33m\u001b[0m\u001b[0m\n",
      "\u001b[1;31mValueError\u001b[0m: There were 5 issues found at step 4"
     ]
    }
   ],
   "source": [
    "general_functions.func_check_for_issues(\n",
    "    ch_checks.get_issue_count(), \n",
    "    cnxs, \n",
    "    'df_issues', \n",
    "    ch_checks.df_issues, \n",
    "    ch_checks.get_step_no()\n",
    ")"
   ]
  },
  {
   "cell_type": "markdown",
   "metadata": {},
   "source": [
    "The benefit of the `override` argument is that you may have a mixture of issues you want definitely resolving and those you can live with, this allows you to have errors but to carry on regardless"
   ]
  },
  {
   "cell_type": "markdown",
   "metadata": {},
   "source": [
    "---\n",
    "**GigiSR**"
   ]
  }
 ],
 "metadata": {
  "kernelspec": {
   "display_name": "Python 3",
   "language": "python",
   "name": "python3"
  },
  "language_info": {
   "codemirror_mode": {
    "name": "ipython",
    "version": 3
   },
   "file_extension": ".py",
   "mimetype": "text/x-python",
   "name": "python",
   "nbconvert_exporter": "python",
   "pygments_lexer": "ipython3",
   "version": "3.6.10"
  }
 },
 "nbformat": 4,
 "nbformat_minor": 2
}
