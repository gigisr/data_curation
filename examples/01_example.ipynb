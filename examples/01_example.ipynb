{
 "cells": [
  {
   "cell_type": "markdown",
   "metadata": {},
   "source": [
    "# Example notebook 01\n",
    "\n",
    "Using the data generated from notebook `00_create_data.ipynb`, this notebook takes you through some of the basic functionality using the `DataCuration` class:\n",
    "+ [Finding files](#Finding-files)\n",
    "+ [Reading in data](#Reading-in-data)\n",
    "+ [Convert to the correct dtypes](#Convert-to-the-correct-dtypes)\n",
    "+ [\\_\\_repr_html\\_\\_](#__repr_html__)\n",
    "+ [Set new header values](#Set-new-header-values)\n",
    "+ [Disable the logging messages](#Disable-the-logging-messages)\n",
    "+ [Set the data](#Set-the-data)\n",
    "+ [Alter existing columns](#Alter-existing-columns)\n",
    "+ [Assert nulls](#Assert-nulls)\n",
    "+ [Forming summary tables](#Forming-summary-tables)\n",
    "\n",
    "## Setup\n",
    "\n",
    "<hr>"
   ]
  },
  {
   "cell_type": "markdown",
   "metadata": {},
   "source": [
    "Imports and settings options"
   ]
  },
  {
   "cell_type": "code",
   "execution_count": 1,
   "metadata": {},
   "outputs": [],
   "source": [
    "import IPython.core.display as ICD\n",
    "import pickle\n",
    "import os\n",
    "from datetime import datetime\n",
    "import glob\n",
    "import logging\n",
    "\n",
    "import pandas as pd\n",
    "import numpy as np\n",
    "\n",
    "pd.set_option('display.max_columns', None)\n",
    "pd.set_option('display.max_rows', 12)\n",
    "pd.set_option('display.float_format', '{:,.2f}'.format)\n",
    "\n",
    "logger = logging.getLogger()"
   ]
  },
  {
   "cell_type": "code",
   "execution_count": 2,
   "metadata": {
    "scrolled": false
   },
   "outputs": [],
   "source": [
    "from data_etl import DataCuration"
   ]
  },
  {
   "cell_type": "markdown",
   "metadata": {},
   "source": [
    "## Examples\n",
    "<hr>"
   ]
  },
  {
   "cell_type": "markdown",
   "metadata": {},
   "source": [
    "### Finding files\n",
    "<hr>"
   ]
  },
  {
   "cell_type": "markdown",
   "metadata": {},
   "source": [
    "Initialise the class"
   ]
  },
  {
   "cell_type": "code",
   "execution_count": 3,
   "metadata": {},
   "outputs": [],
   "source": [
    "var_start_time = datetime.now()\n",
    "dc_data = DataCuration(var_start_time, '1')"
   ]
  },
  {
   "cell_type": "markdown",
   "metadata": {},
   "source": [
    "Define a function to search for the files and look at what files are found"
   ]
  },
  {
   "cell_type": "code",
   "execution_count": 4,
   "metadata": {},
   "outputs": [],
   "source": [
    "def find_files(files_path):\n",
    "    list_files = [os.path.abspath(file) for file in glob.glob(f'{files_path}/*_convert*.tsv')]\n",
    "    return list_files"
   ]
  },
  {
   "cell_type": "markdown",
   "metadata": {},
   "source": [
    "Apply it to the `dc_data` object to get a list of the files"
   ]
  },
  {
   "cell_type": "code",
   "execution_count": 5,
   "metadata": {},
   "outputs": [
    {
     "data": {
      "text/plain": [
       "['C:\\\\Users\\\\georg\\\\Documents\\\\workspace\\\\modules\\\\data_etl\\\\examples\\\\data\\\\df_convert.tsv',\n",
       " 'C:\\\\Users\\\\georg\\\\Documents\\\\workspace\\\\modules\\\\data_etl\\\\examples\\\\data\\\\df_convert_issues.tsv']"
      ]
     },
     "execution_count": 5,
     "metadata": {},
     "output_type": "execute_result"
    }
   ],
   "source": [
    "dc_data.find_files(function=lambda files_path: find_files(files_path), files_path='data')\n",
    "dc_data.list_files"
   ]
  },
  {
   "cell_type": "markdown",
   "metadata": {},
   "source": [
    "### Reading in data\n",
    "<hr>"
   ]
  },
  {
   "cell_type": "markdown",
   "metadata": {},
   "source": [
    "Continuing on from the `dc_data` object defined above, define a function to read in the files"
   ]
  },
  {
   "cell_type": "code",
   "execution_count": 6,
   "metadata": {},
   "outputs": [],
   "source": [
    "def read_in(list_files):\n",
    "    dict_tables = dict()\n",
    "    for file in list_files:\n",
    "        var_filename = file.split('\\\\')[-1]\n",
    "        dict_tables[var_filename] = pd.read_csv(file, sep='\\t', dtype=str)\n",
    "    return dict_tables"
   ]
  },
  {
   "cell_type": "markdown",
   "metadata": {},
   "source": [
    "Apply it to the `dc_data` object to get the data"
   ]
  },
  {
   "cell_type": "code",
   "execution_count": 7,
   "metadata": {},
   "outputs": [
    {
     "data": {
      "text/plain": [
       "{'df_convert.tsv':   object int float        date\n",
       " 0      A   1   0.6  2019-01-01\n",
       " 1      B   4   5.2  2019-02-05\n",
       " 2      C   1   5.6  2018-12-17\n",
       " 3      D  10  15.9  2019-07-18\n",
       " 4      E  -8   4.7  2018-03-09,\n",
       " 'df_convert_issues.tsv':   object  int float        date\n",
       " 0      A    1   0.6  2019-02-29\n",
       " 1      B  4.5     A  2019-22-05\n",
       " 2      C    1   5.6  2018-12-17\n",
       " 3      D    b  15.9  2019-09-31\n",
       " 4      5   -8   4.7  2018-03-09}"
      ]
     },
     "execution_count": 7,
     "metadata": {},
     "output_type": "execute_result"
    }
   ],
   "source": [
    "dc_data.reading_in(function=read_in)\n",
    "dc_data.tables"
   ]
  },
  {
   "cell_type": "markdown",
   "metadata": {},
   "source": [
    "### Convert to the correct dtypes\n",
    "<hr>"
   ]
  },
  {
   "cell_type": "markdown",
   "metadata": {},
   "source": [
    "Continuing on from the `dc_data` object defined above, define the functions for converting columns to specific dtypes"
   ]
  },
  {
   "cell_type": "code",
   "execution_count": 8,
   "metadata": {},
   "outputs": [],
   "source": [
    "def func_try_float_cnv(x): \n",
    "    try:\n",
    "        var = float(x)\n",
    "    except:\n",
    "        return True\n",
    "    return False\n",
    "\n",
    "\n",
    "def func_try_int_cnv(x): \n",
    "    try:\n",
    "        var = int(x)\n",
    "    except:\n",
    "        return True\n",
    "    return False\n",
    "\n",
    "\n",
    "def func_str_cnv(s):\n",
    "    var_is_null_pre = s.isnull().sum()\n",
    "    s_cnv = s.map(func_to_int).str.strip()\n",
    "    var_is_null_post = s_cnv.isnull().sum()\n",
    "    if var_is_null_post != var_is_null_pre:\n",
    "        raise ValueError\n",
    "    return s_cnv\n",
    "\n",
    "\n",
    "def func_to_int(x):\n",
    "    try:\n",
    "        return int(x)\n",
    "    except: \n",
    "        return x\n",
    "\n",
    "\n",
    "def func_try_str_cnv(s):\n",
    "    var_is_null_pre = s.isnull().sum()\n",
    "    s_cnv = s.map(func_to_int).str.strip()\n",
    "    var_is_null_post = s_cnv.isnull().sum()\n",
    "    return s != s_cnv\n",
    "\n",
    "\n",
    "def func_try_date_cnv(x):\n",
    "    if pd.isnull(x):\n",
    "        return False\n",
    "    if pd.isnull(pd.to_datetime(x, format='%Y-%m-%d', errors='coerce')):\n",
    "        return True\n",
    "    return False"
   ]
  },
  {
   "cell_type": "markdown",
   "metadata": {},
   "source": [
    "Define the dictionary used by the `DataCuration` class that will do the conversions"
   ]
  },
  {
   "cell_type": "code",
   "execution_count": 9,
   "metadata": {},
   "outputs": [],
   "source": [
    "dict_convert = {\n",
    "    'float': {\n",
    "        'columns': ['float'],\n",
    "        'dtypes': ['float'],\n",
    "        'functions': {\n",
    "            1: lambda df, col, **kwargs: df[col].astype(float)\n",
    "        },\n",
    "        'idx_function': lambda df, col, **kwargs: df[col].map(func_try_float_cnv)\n",
    "    },\n",
    "    'int': {\n",
    "        'columns': ['int'],\n",
    "        'dtypes': ['int'],\n",
    "        'functions': {\n",
    "            1: lambda df, col, **kwargs: df[col].astype(int)\n",
    "        },\n",
    "        'idx_function': lambda df, col, **kwargs: df[col].map(func_try_int_cnv)\n",
    "    },\n",
    "    'object': {\n",
    "        'columns': ['object'],\n",
    "        'dtypes': [],\n",
    "        'functions': {\n",
    "            1: lambda df, col, **kwargs: func_str_cnv(df[col])\n",
    "        },\n",
    "        'idx_function': lambda df, col, **kwargs: func_try_str_cnv(df[col])\n",
    "    },\n",
    "    'date': {\n",
    "        'columns': ['date'],\n",
    "        'dtypes': ['date', '[ns]'],\n",
    "        'functions': {\n",
    "            1: lambda df, col, **kwargs: pd.to_datetime(df[col], format='%Y-%m-%d')\n",
    "        },\n",
    "        'idx_function': lambda df, col, **kwargs: df[col].map(func_try_date_cnv)\n",
    "    }\n",
    "}"
   ]
  },
  {
   "cell_type": "markdown",
   "metadata": {},
   "source": [
    "Apply it to the `dc_data` object to convert the data, the warnings are for where problems were found, these are the logging messages the class outputs"
   ]
  },
  {
   "cell_type": "code",
   "execution_count": 10,
   "metadata": {},
   "outputs": [
    {
     "name": "stderr",
     "output_type": "stream",
     "text": [
      "The conversion failed for keys float, 1, trying next\n",
      "The conversion for column float for convert_key float failed.\n",
      "The conversion failed for keys int, 1, trying next\n",
      "The conversion for column int for convert_key int failed.\n",
      "The conversion failed for keys object, 1, trying next\n",
      "The conversion for column object for convert_key object failed.\n",
      "The conversion failed for keys date, 1, trying next\n",
      "The conversion for column date for convert_key date failed.\n"
     ]
    }
   ],
   "source": [
    "dc_data.convert_columns(dictionary=dict_convert)"
   ]
  },
  {
   "cell_type": "markdown",
   "metadata": {},
   "source": [
    "A look at the table that has issues with the conversion"
   ]
  },
  {
   "cell_type": "code",
   "execution_count": 11,
   "metadata": {},
   "outputs": [
    {
     "data": {
      "text/html": [
       "<div>\n",
       "<style scoped>\n",
       "    .dataframe tbody tr th:only-of-type {\n",
       "        vertical-align: middle;\n",
       "    }\n",
       "\n",
       "    .dataframe tbody tr th {\n",
       "        vertical-align: top;\n",
       "    }\n",
       "\n",
       "    .dataframe thead th {\n",
       "        text-align: right;\n",
       "    }\n",
       "</style>\n",
       "<table border=\"1\" class=\"dataframe\">\n",
       "  <thead>\n",
       "    <tr style=\"text-align: right;\">\n",
       "      <th></th>\n",
       "      <th>object</th>\n",
       "      <th>int</th>\n",
       "      <th>float</th>\n",
       "      <th>date</th>\n",
       "    </tr>\n",
       "  </thead>\n",
       "  <tbody>\n",
       "    <tr>\n",
       "      <th>0</th>\n",
       "      <td>A</td>\n",
       "      <td>1</td>\n",
       "      <td>0.6</td>\n",
       "      <td>2019-02-29</td>\n",
       "    </tr>\n",
       "    <tr>\n",
       "      <th>1</th>\n",
       "      <td>B</td>\n",
       "      <td>4.5</td>\n",
       "      <td>A</td>\n",
       "      <td>2019-22-05</td>\n",
       "    </tr>\n",
       "    <tr>\n",
       "      <th>2</th>\n",
       "      <td>C</td>\n",
       "      <td>1</td>\n",
       "      <td>5.6</td>\n",
       "      <td>2018-12-17</td>\n",
       "    </tr>\n",
       "    <tr>\n",
       "      <th>3</th>\n",
       "      <td>D</td>\n",
       "      <td>b</td>\n",
       "      <td>15.9</td>\n",
       "      <td>2019-09-31</td>\n",
       "    </tr>\n",
       "    <tr>\n",
       "      <th>4</th>\n",
       "      <td>5</td>\n",
       "      <td>-8</td>\n",
       "      <td>4.7</td>\n",
       "      <td>2018-03-09</td>\n",
       "    </tr>\n",
       "  </tbody>\n",
       "</table>\n",
       "</div>"
      ],
      "text/plain": [
       "  object  int float        date\n",
       "0      A    1   0.6  2019-02-29\n",
       "1      B  4.5     A  2019-22-05\n",
       "2      C    1   5.6  2018-12-17\n",
       "3      D    b  15.9  2019-09-31\n",
       "4      5   -8   4.7  2018-03-09"
      ]
     },
     "execution_count": 11,
     "metadata": {},
     "output_type": "execute_result"
    }
   ],
   "source": [
    "dc_data.tables['df_convert_issues.tsv']"
   ]
  },
  {
   "cell_type": "markdown",
   "metadata": {},
   "source": [
    "A look at the issues log that is created within the class, these link in with the warning messages a few cells above"
   ]
  },
  {
   "cell_type": "code",
   "execution_count": 12,
   "metadata": {},
   "outputs": [
    {
     "data": {
      "text/html": [
       "<div>\n",
       "<style scoped>\n",
       "    .dataframe tbody tr th:only-of-type {\n",
       "        vertical-align: middle;\n",
       "    }\n",
       "\n",
       "    .dataframe tbody tr th {\n",
       "        vertical-align: top;\n",
       "    }\n",
       "\n",
       "    .dataframe thead th {\n",
       "        text-align: right;\n",
       "    }\n",
       "</style>\n",
       "<table border=\"1\" class=\"dataframe\">\n",
       "  <thead>\n",
       "    <tr style=\"text-align: right;\">\n",
       "      <th></th>\n",
       "      <th>key_1</th>\n",
       "      <th>key_2</th>\n",
       "      <th>key_3</th>\n",
       "      <th>file</th>\n",
       "      <th>sub_file</th>\n",
       "      <th>step_number</th>\n",
       "      <th>category</th>\n",
       "      <th>issue_short_desc</th>\n",
       "      <th>issue_long_desc</th>\n",
       "      <th>column</th>\n",
       "      <th>issue_count</th>\n",
       "      <th>issue_idx</th>\n",
       "      <th>grouping</th>\n",
       "    </tr>\n",
       "  </thead>\n",
       "  <tbody>\n",
       "    <tr>\n",
       "      <th>0</th>\n",
       "      <td>1</td>\n",
       "      <td>None</td>\n",
       "      <td>None</td>\n",
       "      <td>df_convert_issues.tsv</td>\n",
       "      <td>NaN</td>\n",
       "      <td>0</td>\n",
       "      <td>NaN</td>\n",
       "      <td></td>\n",
       "      <td>The conversion failed to format float</td>\n",
       "      <td>float</td>\n",
       "      <td>1</td>\n",
       "      <td>1</td>\n",
       "      <td>2020-05-25 20:34:18.277847</td>\n",
       "    </tr>\n",
       "    <tr>\n",
       "      <th>1</th>\n",
       "      <td>1</td>\n",
       "      <td>None</td>\n",
       "      <td>None</td>\n",
       "      <td>df_convert_issues.tsv</td>\n",
       "      <td>NaN</td>\n",
       "      <td>0</td>\n",
       "      <td>NaN</td>\n",
       "      <td></td>\n",
       "      <td>The conversion failed to format int</td>\n",
       "      <td>int</td>\n",
       "      <td>2</td>\n",
       "      <td>1, 3</td>\n",
       "      <td>2020-05-25 20:34:18.277847</td>\n",
       "    </tr>\n",
       "    <tr>\n",
       "      <th>2</th>\n",
       "      <td>1</td>\n",
       "      <td>None</td>\n",
       "      <td>None</td>\n",
       "      <td>df_convert_issues.tsv</td>\n",
       "      <td>NaN</td>\n",
       "      <td>0</td>\n",
       "      <td>NaN</td>\n",
       "      <td></td>\n",
       "      <td>The conversion failed to format object</td>\n",
       "      <td>object</td>\n",
       "      <td>1</td>\n",
       "      <td>4</td>\n",
       "      <td>2020-05-25 20:34:18.277847</td>\n",
       "    </tr>\n",
       "    <tr>\n",
       "      <th>3</th>\n",
       "      <td>1</td>\n",
       "      <td>None</td>\n",
       "      <td>None</td>\n",
       "      <td>df_convert_issues.tsv</td>\n",
       "      <td>NaN</td>\n",
       "      <td>0</td>\n",
       "      <td>NaN</td>\n",
       "      <td></td>\n",
       "      <td>The conversion failed to format date</td>\n",
       "      <td>date</td>\n",
       "      <td>3</td>\n",
       "      <td>0, 1, 3</td>\n",
       "      <td>2020-05-25 20:34:18.277847</td>\n",
       "    </tr>\n",
       "  </tbody>\n",
       "</table>\n",
       "</div>"
      ],
      "text/plain": [
       "  key_1 key_2 key_3                   file sub_file  step_number category  \\\n",
       "0     1  None  None  df_convert_issues.tsv      NaN            0      NaN   \n",
       "1     1  None  None  df_convert_issues.tsv      NaN            0      NaN   \n",
       "2     1  None  None  df_convert_issues.tsv      NaN            0      NaN   \n",
       "3     1  None  None  df_convert_issues.tsv      NaN            0      NaN   \n",
       "\n",
       "  issue_short_desc                         issue_long_desc  column  \\\n",
       "0                    The conversion failed to format float   float   \n",
       "1                      The conversion failed to format int     int   \n",
       "2                   The conversion failed to format object  object   \n",
       "3                     The conversion failed to format date    date   \n",
       "\n",
       "  issue_count issue_idx                   grouping  \n",
       "0           1         1 2020-05-25 20:34:18.277847  \n",
       "1           2      1, 3 2020-05-25 20:34:18.277847  \n",
       "2           1         4 2020-05-25 20:34:18.277847  \n",
       "3           3   0, 1, 3 2020-05-25 20:34:18.277847  "
      ]
     },
     "execution_count": 12,
     "metadata": {},
     "output_type": "execute_result"
    }
   ],
   "source": [
    "dc_data.df_issues"
   ]
  },
  {
   "cell_type": "markdown",
   "metadata": {},
   "source": [
    "### \\_\\_repr_html\\_\\_\n",
    "<hr>"
   ]
  },
  {
   "cell_type": "markdown",
   "metadata": {},
   "source": [
    "A quick summary of some of the important information from the tables stored in the `dc_data` object, this output is configured for html representation\n",
    "\n",
    "You can see that the `df_convert_issues.tsv` table has only got object columns"
   ]
  },
  {
   "cell_type": "code",
   "execution_count": 13,
   "metadata": {},
   "outputs": [
    {
     "data": {
      "text/html": [
       "\n",
       "<table style=\"width:30%\">\n",
       "  <tr>\n",
       "    <th>Grouping</th>\n",
       "    <td>2020-05-25 20:34:18.277847</td>\n",
       "  </tr>\n",
       "  <tr>\n",
       "    <th>Key 1</th>\n",
       "    <td>1</td>\n",
       "  </tr>\n",
       "  <tr>\n",
       "    <th>Key 2</th>\n",
       "    <td>None</td>\n",
       "  </tr>\n",
       "  <tr>\n",
       "    <th>Key 3</th>\n",
       "    <td></td>\n",
       "  </tr>\n",
       "</table>\n",
       "        <br><br>\n",
       "<table style=\"width:100%\">\n",
       "  <tr>\n",
       "    <th>Dictionary key</th>\n",
       "    <th>Dataframe shape</th>\n",
       "    <th>Count numeric columns</th>\n",
       "    <th>Count date columns</th>\n",
       "    <th>Count object columns</th>\n",
       "  </tr>\n",
       "  \n",
       "  <tr>\n",
       "    <td>df_convert.tsv</td>\n",
       "    <td>(5, 4)</td>\n",
       "    <td>2</td>\n",
       "    <td>1</td>\n",
       "    <td>1</td>\n",
       "  </tr>\n",
       "  \n",
       "  <tr>\n",
       "    <td>df_convert_issues.tsv</td>\n",
       "    <td>(5, 4)</td>\n",
       "    <td>0</td>\n",
       "    <td>0</td>\n",
       "    <td>4</td>\n",
       "  </tr>\n",
       "  \n",
       "                    \n",
       "                    \n",
       "</table>\n",
       "            <br><br>\n",
       "        "
      ],
      "text/plain": [
       "<data_etl.data_files.DataCuration at 0x18cc98fa2e8>"
      ]
     },
     "execution_count": 13,
     "metadata": {},
     "output_type": "execute_result"
    }
   ],
   "source": [
    "dc_data"
   ]
  },
  {
   "cell_type": "markdown",
   "metadata": {},
   "source": [
    "### Set new header values\n",
    "<hr>"
   ]
  },
  {
   "cell_type": "markdown",
   "metadata": {},
   "source": [
    "As the tables have the same number of columns we can pass a list to assign the new headers"
   ]
  },
  {
   "cell_type": "code",
   "execution_count": 14,
   "metadata": {},
   "outputs": [],
   "source": [
    "dc_data.set_headers(list_cols=['o_object', 'i_integer', 'f_float', 'd_datetime'])"
   ]
  },
  {
   "cell_type": "markdown",
   "metadata": {},
   "source": [
    "Looking at the tables they both have the new header values"
   ]
  },
  {
   "cell_type": "code",
   "execution_count": 15,
   "metadata": {},
   "outputs": [
    {
     "data": {
      "text/html": [
       "<div>\n",
       "<style scoped>\n",
       "    .dataframe tbody tr th:only-of-type {\n",
       "        vertical-align: middle;\n",
       "    }\n",
       "\n",
       "    .dataframe tbody tr th {\n",
       "        vertical-align: top;\n",
       "    }\n",
       "\n",
       "    .dataframe thead th {\n",
       "        text-align: right;\n",
       "    }\n",
       "</style>\n",
       "<table border=\"1\" class=\"dataframe\">\n",
       "  <thead>\n",
       "    <tr style=\"text-align: right;\">\n",
       "      <th></th>\n",
       "      <th>o_object</th>\n",
       "      <th>i_integer</th>\n",
       "      <th>f_float</th>\n",
       "      <th>d_datetime</th>\n",
       "    </tr>\n",
       "  </thead>\n",
       "  <tbody>\n",
       "    <tr>\n",
       "      <th>0</th>\n",
       "      <td>A</td>\n",
       "      <td>1</td>\n",
       "      <td>0.60</td>\n",
       "      <td>2019-01-01</td>\n",
       "    </tr>\n",
       "    <tr>\n",
       "      <th>1</th>\n",
       "      <td>B</td>\n",
       "      <td>4</td>\n",
       "      <td>5.20</td>\n",
       "      <td>2019-02-05</td>\n",
       "    </tr>\n",
       "    <tr>\n",
       "      <th>2</th>\n",
       "      <td>C</td>\n",
       "      <td>1</td>\n",
       "      <td>5.60</td>\n",
       "      <td>2018-12-17</td>\n",
       "    </tr>\n",
       "    <tr>\n",
       "      <th>3</th>\n",
       "      <td>D</td>\n",
       "      <td>10</td>\n",
       "      <td>15.90</td>\n",
       "      <td>2019-07-18</td>\n",
       "    </tr>\n",
       "    <tr>\n",
       "      <th>4</th>\n",
       "      <td>E</td>\n",
       "      <td>-8</td>\n",
       "      <td>4.70</td>\n",
       "      <td>2018-03-09</td>\n",
       "    </tr>\n",
       "  </tbody>\n",
       "</table>\n",
       "</div>"
      ],
      "text/plain": [
       "  o_object  i_integer  f_float d_datetime\n",
       "0        A          1     0.60 2019-01-01\n",
       "1        B          4     5.20 2019-02-05\n",
       "2        C          1     5.60 2018-12-17\n",
       "3        D         10    15.90 2019-07-18\n",
       "4        E         -8     4.70 2018-03-09"
      ]
     },
     "metadata": {},
     "output_type": "display_data"
    },
    {
     "data": {
      "text/html": [
       "<div>\n",
       "<style scoped>\n",
       "    .dataframe tbody tr th:only-of-type {\n",
       "        vertical-align: middle;\n",
       "    }\n",
       "\n",
       "    .dataframe tbody tr th {\n",
       "        vertical-align: top;\n",
       "    }\n",
       "\n",
       "    .dataframe thead th {\n",
       "        text-align: right;\n",
       "    }\n",
       "</style>\n",
       "<table border=\"1\" class=\"dataframe\">\n",
       "  <thead>\n",
       "    <tr style=\"text-align: right;\">\n",
       "      <th></th>\n",
       "      <th>o_object</th>\n",
       "      <th>i_integer</th>\n",
       "      <th>f_float</th>\n",
       "      <th>d_datetime</th>\n",
       "    </tr>\n",
       "  </thead>\n",
       "  <tbody>\n",
       "    <tr>\n",
       "      <th>0</th>\n",
       "      <td>A</td>\n",
       "      <td>1</td>\n",
       "      <td>0.6</td>\n",
       "      <td>2019-02-29</td>\n",
       "    </tr>\n",
       "    <tr>\n",
       "      <th>1</th>\n",
       "      <td>B</td>\n",
       "      <td>4.5</td>\n",
       "      <td>A</td>\n",
       "      <td>2019-22-05</td>\n",
       "    </tr>\n",
       "    <tr>\n",
       "      <th>2</th>\n",
       "      <td>C</td>\n",
       "      <td>1</td>\n",
       "      <td>5.6</td>\n",
       "      <td>2018-12-17</td>\n",
       "    </tr>\n",
       "    <tr>\n",
       "      <th>3</th>\n",
       "      <td>D</td>\n",
       "      <td>b</td>\n",
       "      <td>15.9</td>\n",
       "      <td>2019-09-31</td>\n",
       "    </tr>\n",
       "    <tr>\n",
       "      <th>4</th>\n",
       "      <td>5</td>\n",
       "      <td>-8</td>\n",
       "      <td>4.7</td>\n",
       "      <td>2018-03-09</td>\n",
       "    </tr>\n",
       "  </tbody>\n",
       "</table>\n",
       "</div>"
      ],
      "text/plain": [
       "  o_object i_integer f_float  d_datetime\n",
       "0        A         1     0.6  2019-02-29\n",
       "1        B       4.5       A  2019-22-05\n",
       "2        C         1     5.6  2018-12-17\n",
       "3        D         b    15.9  2019-09-31\n",
       "4        5        -8     4.7  2018-03-09"
      ]
     },
     "metadata": {},
     "output_type": "display_data"
    }
   ],
   "source": [
    "ICD.display(dc_data.tables['df_convert.tsv'])\n",
    "ICD.display(dc_data.tables['df_convert_issues.tsv'])"
   ]
  },
  {
   "cell_type": "markdown",
   "metadata": {},
   "source": [
    "You can also use a function input"
   ]
  },
  {
   "cell_type": "code",
   "execution_count": 16,
   "metadata": {},
   "outputs": [],
   "source": [
    "dc_data.set_headers(function=lambda x: x.split('_')[1])"
   ]
  },
  {
   "cell_type": "markdown",
   "metadata": {},
   "source": [
    "Looking at the tables they both have the transformed header values"
   ]
  },
  {
   "cell_type": "code",
   "execution_count": 17,
   "metadata": {},
   "outputs": [
    {
     "data": {
      "text/html": [
       "<div>\n",
       "<style scoped>\n",
       "    .dataframe tbody tr th:only-of-type {\n",
       "        vertical-align: middle;\n",
       "    }\n",
       "\n",
       "    .dataframe tbody tr th {\n",
       "        vertical-align: top;\n",
       "    }\n",
       "\n",
       "    .dataframe thead th {\n",
       "        text-align: right;\n",
       "    }\n",
       "</style>\n",
       "<table border=\"1\" class=\"dataframe\">\n",
       "  <thead>\n",
       "    <tr style=\"text-align: right;\">\n",
       "      <th></th>\n",
       "      <th>object</th>\n",
       "      <th>integer</th>\n",
       "      <th>float</th>\n",
       "      <th>datetime</th>\n",
       "    </tr>\n",
       "  </thead>\n",
       "  <tbody>\n",
       "    <tr>\n",
       "      <th>0</th>\n",
       "      <td>A</td>\n",
       "      <td>1</td>\n",
       "      <td>0.60</td>\n",
       "      <td>2019-01-01</td>\n",
       "    </tr>\n",
       "    <tr>\n",
       "      <th>1</th>\n",
       "      <td>B</td>\n",
       "      <td>4</td>\n",
       "      <td>5.20</td>\n",
       "      <td>2019-02-05</td>\n",
       "    </tr>\n",
       "    <tr>\n",
       "      <th>2</th>\n",
       "      <td>C</td>\n",
       "      <td>1</td>\n",
       "      <td>5.60</td>\n",
       "      <td>2018-12-17</td>\n",
       "    </tr>\n",
       "    <tr>\n",
       "      <th>3</th>\n",
       "      <td>D</td>\n",
       "      <td>10</td>\n",
       "      <td>15.90</td>\n",
       "      <td>2019-07-18</td>\n",
       "    </tr>\n",
       "    <tr>\n",
       "      <th>4</th>\n",
       "      <td>E</td>\n",
       "      <td>-8</td>\n",
       "      <td>4.70</td>\n",
       "      <td>2018-03-09</td>\n",
       "    </tr>\n",
       "  </tbody>\n",
       "</table>\n",
       "</div>"
      ],
      "text/plain": [
       "  object  integer  float   datetime\n",
       "0      A        1   0.60 2019-01-01\n",
       "1      B        4   5.20 2019-02-05\n",
       "2      C        1   5.60 2018-12-17\n",
       "3      D       10  15.90 2019-07-18\n",
       "4      E       -8   4.70 2018-03-09"
      ]
     },
     "metadata": {},
     "output_type": "display_data"
    },
    {
     "data": {
      "text/html": [
       "<div>\n",
       "<style scoped>\n",
       "    .dataframe tbody tr th:only-of-type {\n",
       "        vertical-align: middle;\n",
       "    }\n",
       "\n",
       "    .dataframe tbody tr th {\n",
       "        vertical-align: top;\n",
       "    }\n",
       "\n",
       "    .dataframe thead th {\n",
       "        text-align: right;\n",
       "    }\n",
       "</style>\n",
       "<table border=\"1\" class=\"dataframe\">\n",
       "  <thead>\n",
       "    <tr style=\"text-align: right;\">\n",
       "      <th></th>\n",
       "      <th>object</th>\n",
       "      <th>integer</th>\n",
       "      <th>float</th>\n",
       "      <th>datetime</th>\n",
       "    </tr>\n",
       "  </thead>\n",
       "  <tbody>\n",
       "    <tr>\n",
       "      <th>0</th>\n",
       "      <td>A</td>\n",
       "      <td>1</td>\n",
       "      <td>0.6</td>\n",
       "      <td>2019-02-29</td>\n",
       "    </tr>\n",
       "    <tr>\n",
       "      <th>1</th>\n",
       "      <td>B</td>\n",
       "      <td>4.5</td>\n",
       "      <td>A</td>\n",
       "      <td>2019-22-05</td>\n",
       "    </tr>\n",
       "    <tr>\n",
       "      <th>2</th>\n",
       "      <td>C</td>\n",
       "      <td>1</td>\n",
       "      <td>5.6</td>\n",
       "      <td>2018-12-17</td>\n",
       "    </tr>\n",
       "    <tr>\n",
       "      <th>3</th>\n",
       "      <td>D</td>\n",
       "      <td>b</td>\n",
       "      <td>15.9</td>\n",
       "      <td>2019-09-31</td>\n",
       "    </tr>\n",
       "    <tr>\n",
       "      <th>4</th>\n",
       "      <td>5</td>\n",
       "      <td>-8</td>\n",
       "      <td>4.7</td>\n",
       "      <td>2018-03-09</td>\n",
       "    </tr>\n",
       "  </tbody>\n",
       "</table>\n",
       "</div>"
      ],
      "text/plain": [
       "  object integer float    datetime\n",
       "0      A       1   0.6  2019-02-29\n",
       "1      B     4.5     A  2019-22-05\n",
       "2      C       1   5.6  2018-12-17\n",
       "3      D       b  15.9  2019-09-31\n",
       "4      5      -8   4.7  2018-03-09"
      ]
     },
     "metadata": {},
     "output_type": "display_data"
    }
   ],
   "source": [
    "ICD.display(dc_data.tables['df_convert.tsv'])\n",
    "ICD.display(dc_data.tables['df_convert_issues.tsv'])"
   ]
  },
  {
   "cell_type": "markdown",
   "metadata": {},
   "source": [
    "### Disable the logging messages\n",
    "<hr>"
   ]
  },
  {
   "cell_type": "markdown",
   "metadata": {},
   "source": [
    "Because the warning messages can get quick verbose in the notebook I will disable them, however in scripts the logging can be written out to a text file o be reviewed after or if there is a cause to debug"
   ]
  },
  {
   "cell_type": "code",
   "execution_count": 18,
   "metadata": {},
   "outputs": [],
   "source": [
    "logger.setLevel(logging.CRITICAL)\n",
    "# logger.setLevel(logging.INFO)  # To enable them logging messages again"
   ]
  },
  {
   "cell_type": "markdown",
   "metadata": {},
   "source": [
    "### Set the data\n",
    "<hr>"
   ]
  },
  {
   "cell_type": "markdown",
   "metadata": {},
   "source": [
    "Instead of reading in you can also just set the data in the class\n",
    "\n",
    "Initialise the class"
   ]
  },
  {
   "cell_type": "code",
   "execution_count": 19,
   "metadata": {},
   "outputs": [],
   "source": [
    "var_start_time = datetime.now()\n",
    "dc_alter = DataCuration(var_start_time, '2')"
   ]
  },
  {
   "cell_type": "markdown",
   "metadata": {},
   "source": [
    "Set the tables in the `dc_alter` object as a dictionary of two tables"
   ]
  },
  {
   "cell_type": "code",
   "execution_count": 20,
   "metadata": {},
   "outputs": [],
   "source": [
    "dc_alter.set_table(\n",
    "    {\n",
    "        'df_alterations.tsv': pd.DataFrame(\n",
    "            [\n",
    "                ('A', 2, 'key_1'),\n",
    "                ('B', 199, 'key_2'),\n",
    "                ('C', -1, 'key_1'),\n",
    "                ('D', 20, 'key_3'),\n",
    "                ('E', 6, 'key_2')\n",
    "            ],\n",
    "            columns=['to_map', 'add_1', 'merge_key']\n",
    "        ),\n",
    "        'df_alterations_issues.tsv': pd.DataFrame(\n",
    "            [\n",
    "                ('A', 2, 'key_1'),\n",
    "                ('B', 199, 2),\n",
    "                ('C', -1, 'key_1'),\n",
    "                (['D'], 'a', 'key_3'),\n",
    "                ('E', 6, 'key_2')\n",
    "            ],\n",
    "            columns=['to_map', 'add_1', 'merge_key']\n",
    "        )\n",
    "    }\n",
    ")"
   ]
  },
  {
   "cell_type": "markdown",
   "metadata": {},
   "source": [
    "Look at the tables"
   ]
  },
  {
   "cell_type": "code",
   "execution_count": 21,
   "metadata": {},
   "outputs": [
    {
     "data": {
      "text/plain": [
       "{'df_alterations.tsv':   to_map  add_1 merge_key\n",
       " 0      A      2     key_1\n",
       " 1      B    199     key_2\n",
       " 2      C     -1     key_1\n",
       " 3      D     20     key_3\n",
       " 4      E      6     key_2,\n",
       " 'df_alterations_issues.tsv':   to_map add_1 merge_key\n",
       " 0      A     2     key_1\n",
       " 1      B   199         2\n",
       " 2      C    -1     key_1\n",
       " 3    [D]     a     key_3\n",
       " 4      E     6     key_2}"
      ]
     },
     "execution_count": 21,
     "metadata": {},
     "output_type": "execute_result"
    }
   ],
   "source": [
    "dc_alter.tables"
   ]
  },
  {
   "cell_type": "markdown",
   "metadata": {},
   "source": [
    "### Alter existing columns\n",
    "<hr>"
   ]
  },
  {
   "cell_type": "markdown",
   "metadata": {},
   "source": [
    "Define the dictionary of information needed for altering the tables, this includes a DataFrame mapping and function to do something more complicated"
   ]
  },
  {
   "cell_type": "code",
   "execution_count": 22,
   "metadata": {},
   "outputs": [],
   "source": [
    "df_mapping = pd.DataFrame(\n",
    "    [\n",
    "        ('key_1', 1),\n",
    "        ('key_2', 2),\n",
    "        ('key_3', 3)\n",
    "    ], \n",
    "    columns=['merge_key', 'out_value']\n",
    ")\n",
    "\n",
    "\n",
    "def func_alter_merge(df, df_mapping):\n",
    "    df_mapped = pd.merge(\n",
    "        df,\n",
    "        df_mapping,\n",
    "        on='merge_key',\n",
    "        how='left'\n",
    "    )\n",
    "    if (\n",
    "        df_mapped['out_value'].isnull().sum() != \n",
    "        df['merge_key'].isnull().sum()\n",
    "    ):\n",
    "        raise ValueError\n",
    "    return df_mapped\n",
    "\n",
    "\n",
    "dict_alter = {\n",
    "    '01': {\n",
    "        'type': 'new_col',\n",
    "        'col_name': 'key',\n",
    "        'function': lambda df, keys, **kwargs: keys[0]\n",
    "    },\n",
    "    '02': {\n",
    "        'type': 'new_col',\n",
    "        'col_name': 'done_add_1',\n",
    "        'function': lambda df, keys, **kwargs: df['add_1'] + 1,\n",
    "        'idx_function': lambda df, keys, **kwargs: \n",
    "            df['add_1'].map(\n",
    "                lambda x: type(x).__name__).map(\n",
    "                lambda x: ('int' in x) | ('float' in x)).map(\n",
    "                {True: False, False: True})\n",
    "    },\n",
    "    '03': {\n",
    "        'type': 'new_col',\n",
    "        'col_name': 'mapped',\n",
    "        'function': lambda df, keys, **kwargs: df['to_map'].map({\n",
    "            'A': 1, 'B': 2, 'C': 3, 'D': 4, 'E': 5}),\n",
    "        'idx_function': lambda df, keys, **kwargs: \n",
    "            ~df['to_map'].astype(str).isin(['A', 'B', 'C', 'D', 'E'])\n",
    "    },\n",
    "    '04': {\n",
    "        'type': 'map_df',\n",
    "        'function': lambda df, keys, **kwargs: \n",
    "            func_alter_merge(df, kwargs['df_mapping']),\n",
    "        'idx_function': lambda df, keys, **kwargs: \n",
    "            ~df['merge_key'].isin(['key_1', 'key_2', 'key_3', np.nan])\n",
    "    }\n",
    "}"
   ]
  },
  {
   "cell_type": "markdown",
   "metadata": {},
   "source": [
    "Apply it to the `dc_alter` object to alter the data"
   ]
  },
  {
   "cell_type": "code",
   "execution_count": 23,
   "metadata": {},
   "outputs": [],
   "source": [
    "dc_alter.alter_tables(dictionary=dict_alter, df_mapping=df_mapping)"
   ]
  },
  {
   "cell_type": "markdown",
   "metadata": {},
   "source": [
    "Look at the issues log from the alterations"
   ]
  },
  {
   "cell_type": "code",
   "execution_count": 24,
   "metadata": {},
   "outputs": [
    {
     "data": {
      "text/html": [
       "<div>\n",
       "<style scoped>\n",
       "    .dataframe tbody tr th:only-of-type {\n",
       "        vertical-align: middle;\n",
       "    }\n",
       "\n",
       "    .dataframe tbody tr th {\n",
       "        vertical-align: top;\n",
       "    }\n",
       "\n",
       "    .dataframe thead th {\n",
       "        text-align: right;\n",
       "    }\n",
       "</style>\n",
       "<table border=\"1\" class=\"dataframe\">\n",
       "  <thead>\n",
       "    <tr style=\"text-align: right;\">\n",
       "      <th></th>\n",
       "      <th>key_1</th>\n",
       "      <th>key_2</th>\n",
       "      <th>key_3</th>\n",
       "      <th>file</th>\n",
       "      <th>sub_file</th>\n",
       "      <th>step_number</th>\n",
       "      <th>category</th>\n",
       "      <th>issue_short_desc</th>\n",
       "      <th>issue_long_desc</th>\n",
       "      <th>column</th>\n",
       "      <th>issue_count</th>\n",
       "      <th>issue_idx</th>\n",
       "      <th>grouping</th>\n",
       "    </tr>\n",
       "  </thead>\n",
       "  <tbody>\n",
       "    <tr>\n",
       "      <th>0</th>\n",
       "      <td>2</td>\n",
       "      <td>None</td>\n",
       "      <td>None</td>\n",
       "      <td>df_alterations_issues.tsv</td>\n",
       "      <td>NaN</td>\n",
       "      <td>0</td>\n",
       "      <td>NaN</td>\n",
       "      <td></td>\n",
       "      <td>For type new_col the function for alter_key 02...</td>\n",
       "      <td>done_add_1</td>\n",
       "      <td>1</td>\n",
       "      <td>3</td>\n",
       "      <td>2020-05-25 20:34:18.830713</td>\n",
       "    </tr>\n",
       "    <tr>\n",
       "      <th>1</th>\n",
       "      <td>2</td>\n",
       "      <td>None</td>\n",
       "      <td>None</td>\n",
       "      <td>df_alterations_issues.tsv</td>\n",
       "      <td>NaN</td>\n",
       "      <td>0</td>\n",
       "      <td>NaN</td>\n",
       "      <td></td>\n",
       "      <td>For type new_col the function for alter_key 03...</td>\n",
       "      <td>mapped</td>\n",
       "      <td>1</td>\n",
       "      <td>3</td>\n",
       "      <td>2020-05-25 20:34:18.830713</td>\n",
       "    </tr>\n",
       "    <tr>\n",
       "      <th>2</th>\n",
       "      <td>2</td>\n",
       "      <td>None</td>\n",
       "      <td>None</td>\n",
       "      <td>df_alterations_issues.tsv</td>\n",
       "      <td>NaN</td>\n",
       "      <td>0</td>\n",
       "      <td>NaN</td>\n",
       "      <td></td>\n",
       "      <td>For type map_df the function for alter_key 04 ...</td>\n",
       "      <td>NaN</td>\n",
       "      <td>1</td>\n",
       "      <td>1</td>\n",
       "      <td>2020-05-25 20:34:18.830713</td>\n",
       "    </tr>\n",
       "  </tbody>\n",
       "</table>\n",
       "</div>"
      ],
      "text/plain": [
       "  key_1 key_2 key_3                       file sub_file  step_number category  \\\n",
       "0     2  None  None  df_alterations_issues.tsv      NaN            0      NaN   \n",
       "1     2  None  None  df_alterations_issues.tsv      NaN            0      NaN   \n",
       "2     2  None  None  df_alterations_issues.tsv      NaN            0      NaN   \n",
       "\n",
       "  issue_short_desc                                    issue_long_desc  \\\n",
       "0                   For type new_col the function for alter_key 02...   \n",
       "1                   For type new_col the function for alter_key 03...   \n",
       "2                   For type map_df the function for alter_key 04 ...   \n",
       "\n",
       "       column issue_count issue_idx                   grouping  \n",
       "0  done_add_1           1         3 2020-05-25 20:34:18.830713  \n",
       "1      mapped           1         3 2020-05-25 20:34:18.830713  \n",
       "2         NaN           1         1 2020-05-25 20:34:18.830713  "
      ]
     },
     "execution_count": 24,
     "metadata": {},
     "output_type": "execute_result"
    }
   ],
   "source": [
    "dc_alter.df_issues"
   ]
  },
  {
   "cell_type": "markdown",
   "metadata": {},
   "source": [
    "And look at the tables stored in the object, we can see `df_alterations.tsv` didn't have any issues and now has more column while `df_alterations_issues.tsv` doesn't have all the new columns"
   ]
  },
  {
   "cell_type": "code",
   "execution_count": 25,
   "metadata": {},
   "outputs": [
    {
     "data": {
      "text/html": [
       "<div>\n",
       "<style scoped>\n",
       "    .dataframe tbody tr th:only-of-type {\n",
       "        vertical-align: middle;\n",
       "    }\n",
       "\n",
       "    .dataframe tbody tr th {\n",
       "        vertical-align: top;\n",
       "    }\n",
       "\n",
       "    .dataframe thead th {\n",
       "        text-align: right;\n",
       "    }\n",
       "</style>\n",
       "<table border=\"1\" class=\"dataframe\">\n",
       "  <thead>\n",
       "    <tr style=\"text-align: right;\">\n",
       "      <th></th>\n",
       "      <th>to_map</th>\n",
       "      <th>add_1</th>\n",
       "      <th>merge_key</th>\n",
       "      <th>key</th>\n",
       "      <th>done_add_1</th>\n",
       "      <th>mapped</th>\n",
       "      <th>out_value</th>\n",
       "    </tr>\n",
       "  </thead>\n",
       "  <tbody>\n",
       "    <tr>\n",
       "      <th>0</th>\n",
       "      <td>A</td>\n",
       "      <td>2</td>\n",
       "      <td>key_1</td>\n",
       "      <td>2</td>\n",
       "      <td>3</td>\n",
       "      <td>1</td>\n",
       "      <td>1</td>\n",
       "    </tr>\n",
       "    <tr>\n",
       "      <th>1</th>\n",
       "      <td>B</td>\n",
       "      <td>199</td>\n",
       "      <td>key_2</td>\n",
       "      <td>2</td>\n",
       "      <td>200</td>\n",
       "      <td>2</td>\n",
       "      <td>2</td>\n",
       "    </tr>\n",
       "    <tr>\n",
       "      <th>2</th>\n",
       "      <td>C</td>\n",
       "      <td>-1</td>\n",
       "      <td>key_1</td>\n",
       "      <td>2</td>\n",
       "      <td>0</td>\n",
       "      <td>3</td>\n",
       "      <td>1</td>\n",
       "    </tr>\n",
       "    <tr>\n",
       "      <th>3</th>\n",
       "      <td>D</td>\n",
       "      <td>20</td>\n",
       "      <td>key_3</td>\n",
       "      <td>2</td>\n",
       "      <td>21</td>\n",
       "      <td>4</td>\n",
       "      <td>3</td>\n",
       "    </tr>\n",
       "    <tr>\n",
       "      <th>4</th>\n",
       "      <td>E</td>\n",
       "      <td>6</td>\n",
       "      <td>key_2</td>\n",
       "      <td>2</td>\n",
       "      <td>7</td>\n",
       "      <td>5</td>\n",
       "      <td>2</td>\n",
       "    </tr>\n",
       "  </tbody>\n",
       "</table>\n",
       "</div>"
      ],
      "text/plain": [
       "  to_map  add_1 merge_key key  done_add_1  mapped  out_value\n",
       "0      A      2     key_1   2           3       1          1\n",
       "1      B    199     key_2   2         200       2          2\n",
       "2      C     -1     key_1   2           0       3          1\n",
       "3      D     20     key_3   2          21       4          3\n",
       "4      E      6     key_2   2           7       5          2"
      ]
     },
     "metadata": {},
     "output_type": "display_data"
    },
    {
     "data": {
      "text/html": [
       "<div>\n",
       "<style scoped>\n",
       "    .dataframe tbody tr th:only-of-type {\n",
       "        vertical-align: middle;\n",
       "    }\n",
       "\n",
       "    .dataframe tbody tr th {\n",
       "        vertical-align: top;\n",
       "    }\n",
       "\n",
       "    .dataframe thead th {\n",
       "        text-align: right;\n",
       "    }\n",
       "</style>\n",
       "<table border=\"1\" class=\"dataframe\">\n",
       "  <thead>\n",
       "    <tr style=\"text-align: right;\">\n",
       "      <th></th>\n",
       "      <th>to_map</th>\n",
       "      <th>add_1</th>\n",
       "      <th>merge_key</th>\n",
       "      <th>key</th>\n",
       "    </tr>\n",
       "  </thead>\n",
       "  <tbody>\n",
       "    <tr>\n",
       "      <th>0</th>\n",
       "      <td>A</td>\n",
       "      <td>2</td>\n",
       "      <td>key_1</td>\n",
       "      <td>2</td>\n",
       "    </tr>\n",
       "    <tr>\n",
       "      <th>1</th>\n",
       "      <td>B</td>\n",
       "      <td>199</td>\n",
       "      <td>2</td>\n",
       "      <td>2</td>\n",
       "    </tr>\n",
       "    <tr>\n",
       "      <th>2</th>\n",
       "      <td>C</td>\n",
       "      <td>-1</td>\n",
       "      <td>key_1</td>\n",
       "      <td>2</td>\n",
       "    </tr>\n",
       "    <tr>\n",
       "      <th>3</th>\n",
       "      <td>[D]</td>\n",
       "      <td>a</td>\n",
       "      <td>key_3</td>\n",
       "      <td>2</td>\n",
       "    </tr>\n",
       "    <tr>\n",
       "      <th>4</th>\n",
       "      <td>E</td>\n",
       "      <td>6</td>\n",
       "      <td>key_2</td>\n",
       "      <td>2</td>\n",
       "    </tr>\n",
       "  </tbody>\n",
       "</table>\n",
       "</div>"
      ],
      "text/plain": [
       "  to_map add_1 merge_key key\n",
       "0      A     2     key_1   2\n",
       "1      B   199         2   2\n",
       "2      C    -1     key_1   2\n",
       "3    [D]     a     key_3   2\n",
       "4      E     6     key_2   2"
      ]
     },
     "metadata": {},
     "output_type": "display_data"
    }
   ],
   "source": [
    "ICD.display(dc_alter.tables['df_alterations.tsv'])\n",
    "ICD.display(dc_alter.tables['df_alterations_issues.tsv'])"
   ]
  },
  {
   "cell_type": "markdown",
   "metadata": {},
   "source": [
    "### Assert nulls\n",
    "<hr>"
   ]
  },
  {
   "cell_type": "markdown",
   "metadata": {},
   "source": [
    "Instead of reading in you can also just set the data in the class\n",
    "\n",
    "Initialise the class"
   ]
  },
  {
   "cell_type": "code",
   "execution_count": 26,
   "metadata": {},
   "outputs": [],
   "source": [
    "var_start_time = datetime.now()\n",
    "dc_nulls = DataCuration(var_start_time, '3')"
   ]
  },
  {
   "cell_type": "markdown",
   "metadata": {},
   "source": [
    "Set the tables in the `dc_alter` object as a dictionary of two tables"
   ]
  },
  {
   "cell_type": "code",
   "execution_count": 27,
   "metadata": {},
   "outputs": [],
   "source": [
    "dc_nulls.set_table(\n",
    "    {\n",
    "        'df_nulls.tsv': pd.DataFrame(\n",
    "            [\n",
    "                ('A', 'key_1', 'key_1'),\n",
    "                ('B', 'key_2', 'key_2'),\n",
    "                ('C', 'key_1', 'key_1'),\n",
    "                ('D', 'key_3', 'key_3'),\n",
    "                ('E', 'key_2', 'key_2')\n",
    "            ],\n",
    "            columns=['to_map', 'key', 'key_duplicate']\n",
    "        )\n",
    "    }\n",
    ")"
   ]
  },
  {
   "cell_type": "markdown",
   "metadata": {},
   "source": [
    "Use the `list_nulls` argument to pass a list of nulls you want to encode to null"
   ]
  },
  {
   "cell_type": "code",
   "execution_count": 28,
   "metadata": {},
   "outputs": [],
   "source": [
    "dc_nulls.assert_nulls(list_nulls=['key_1'])"
   ]
  },
  {
   "cell_type": "markdown",
   "metadata": {},
   "source": [
    "Look at the table"
   ]
  },
  {
   "cell_type": "code",
   "execution_count": 29,
   "metadata": {},
   "outputs": [
    {
     "data": {
      "text/html": [
       "<div>\n",
       "<style scoped>\n",
       "    .dataframe tbody tr th:only-of-type {\n",
       "        vertical-align: middle;\n",
       "    }\n",
       "\n",
       "    .dataframe tbody tr th {\n",
       "        vertical-align: top;\n",
       "    }\n",
       "\n",
       "    .dataframe thead th {\n",
       "        text-align: right;\n",
       "    }\n",
       "</style>\n",
       "<table border=\"1\" class=\"dataframe\">\n",
       "  <thead>\n",
       "    <tr style=\"text-align: right;\">\n",
       "      <th></th>\n",
       "      <th>to_map</th>\n",
       "      <th>key</th>\n",
       "      <th>key_duplicate</th>\n",
       "    </tr>\n",
       "  </thead>\n",
       "  <tbody>\n",
       "    <tr>\n",
       "      <th>0</th>\n",
       "      <td>A</td>\n",
       "      <td>NaN</td>\n",
       "      <td>NaN</td>\n",
       "    </tr>\n",
       "    <tr>\n",
       "      <th>1</th>\n",
       "      <td>B</td>\n",
       "      <td>key_2</td>\n",
       "      <td>key_2</td>\n",
       "    </tr>\n",
       "    <tr>\n",
       "      <th>2</th>\n",
       "      <td>C</td>\n",
       "      <td>NaN</td>\n",
       "      <td>NaN</td>\n",
       "    </tr>\n",
       "    <tr>\n",
       "      <th>3</th>\n",
       "      <td>D</td>\n",
       "      <td>key_3</td>\n",
       "      <td>key_3</td>\n",
       "    </tr>\n",
       "    <tr>\n",
       "      <th>4</th>\n",
       "      <td>E</td>\n",
       "      <td>key_2</td>\n",
       "      <td>key_2</td>\n",
       "    </tr>\n",
       "  </tbody>\n",
       "</table>\n",
       "</div>"
      ],
      "text/plain": [
       "  to_map    key key_duplicate\n",
       "0      A    NaN           NaN\n",
       "1      B  key_2         key_2\n",
       "2      C    NaN           NaN\n",
       "3      D  key_3         key_3\n",
       "4      E  key_2         key_2"
      ]
     },
     "execution_count": 29,
     "metadata": {},
     "output_type": "execute_result"
    }
   ],
   "source": [
    "dc_nulls.tables['df_nulls.tsv']"
   ]
  },
  {
   "cell_type": "markdown",
   "metadata": {},
   "source": [
    "Reset the tables in the object"
   ]
  },
  {
   "cell_type": "code",
   "execution_count": 30,
   "metadata": {},
   "outputs": [],
   "source": [
    "dc_nulls.set_table(\n",
    "    {\n",
    "        'df_nulls.tsv': pd.DataFrame(\n",
    "            [\n",
    "                ('A', 'key_1', 'key_1'),\n",
    "                ('B', 'key_2', 'key_2'),\n",
    "                ('C', 'key_1', 'key_1'),\n",
    "                ('D', 'key_3', 'key_3'),\n",
    "                ('E', 'key_2', 'key_2')\n",
    "            ],\n",
    "            columns=['to_map', 'key', 'key_duplicate']\n",
    "        )\n",
    "    }\n",
    ")"
   ]
  },
  {
   "cell_type": "markdown",
   "metadata": {},
   "source": [
    "Use the `list_exclude_cols` argument to ignore certain columns so those column values are not considered"
   ]
  },
  {
   "cell_type": "code",
   "execution_count": 31,
   "metadata": {},
   "outputs": [],
   "source": [
    "dc_nulls.assert_nulls(list_nulls=['key_1'], list_exclude_cols=['key'])"
   ]
  },
  {
   "cell_type": "markdown",
   "metadata": {},
   "source": [
    "Look at the table"
   ]
  },
  {
   "cell_type": "code",
   "execution_count": 32,
   "metadata": {},
   "outputs": [
    {
     "data": {
      "text/html": [
       "<div>\n",
       "<style scoped>\n",
       "    .dataframe tbody tr th:only-of-type {\n",
       "        vertical-align: middle;\n",
       "    }\n",
       "\n",
       "    .dataframe tbody tr th {\n",
       "        vertical-align: top;\n",
       "    }\n",
       "\n",
       "    .dataframe thead th {\n",
       "        text-align: right;\n",
       "    }\n",
       "</style>\n",
       "<table border=\"1\" class=\"dataframe\">\n",
       "  <thead>\n",
       "    <tr style=\"text-align: right;\">\n",
       "      <th></th>\n",
       "      <th>to_map</th>\n",
       "      <th>key</th>\n",
       "      <th>key_duplicate</th>\n",
       "    </tr>\n",
       "  </thead>\n",
       "  <tbody>\n",
       "    <tr>\n",
       "      <th>0</th>\n",
       "      <td>A</td>\n",
       "      <td>key_1</td>\n",
       "      <td>NaN</td>\n",
       "    </tr>\n",
       "    <tr>\n",
       "      <th>1</th>\n",
       "      <td>B</td>\n",
       "      <td>key_2</td>\n",
       "      <td>key_2</td>\n",
       "    </tr>\n",
       "    <tr>\n",
       "      <th>2</th>\n",
       "      <td>C</td>\n",
       "      <td>key_1</td>\n",
       "      <td>NaN</td>\n",
       "    </tr>\n",
       "    <tr>\n",
       "      <th>3</th>\n",
       "      <td>D</td>\n",
       "      <td>key_3</td>\n",
       "      <td>key_3</td>\n",
       "    </tr>\n",
       "    <tr>\n",
       "      <th>4</th>\n",
       "      <td>E</td>\n",
       "      <td>key_2</td>\n",
       "      <td>key_2</td>\n",
       "    </tr>\n",
       "  </tbody>\n",
       "</table>\n",
       "</div>"
      ],
      "text/plain": [
       "  to_map    key key_duplicate\n",
       "0      A  key_1           NaN\n",
       "1      B  key_2         key_2\n",
       "2      C  key_1           NaN\n",
       "3      D  key_3         key_3\n",
       "4      E  key_2         key_2"
      ]
     },
     "execution_count": 32,
     "metadata": {},
     "output_type": "execute_result"
    }
   ],
   "source": [
    "dc_nulls.tables['df_nulls.tsv']"
   ]
  },
  {
   "cell_type": "markdown",
   "metadata": {},
   "source": [
    "### Forming summary tables\n",
    "<hr>"
   ]
  },
  {
   "cell_type": "markdown",
   "metadata": {},
   "source": [
    "Initialise the class"
   ]
  },
  {
   "cell_type": "code",
   "execution_count": 33,
   "metadata": {},
   "outputs": [],
   "source": [
    "var_start_time = datetime.now()\n",
    "dc_summary = DataCuration(var_start_time, '4')"
   ]
  },
  {
   "cell_type": "markdown",
   "metadata": {},
   "source": [
    "Set the data"
   ]
  },
  {
   "cell_type": "code",
   "execution_count": 34,
   "metadata": {},
   "outputs": [],
   "source": [
    "dc_summary.set_table(pickle.load(open('data/df_summary.pkl', 'rb')))"
   ]
  },
  {
   "cell_type": "markdown",
   "metadata": {},
   "source": [
    "Define the functions required to create all the different summaries"
   ]
  },
  {
   "cell_type": "code",
   "execution_count": 35,
   "metadata": {},
   "outputs": [],
   "source": [
    "def func_value_counts(df, col):\n",
    "    s_out = df[col].value_counts()\n",
    "    df_out = s_out.to_frame('count')\n",
    "    df_out.reset_index(inplace=True)\n",
    "    df_out.rename(columns={'index': col}, inplace=True)\n",
    "    \n",
    "    return df_out\n",
    "\n",
    "\n",
    "def func_form_tables(tables, formed_tables, grouping, key_1, key_2, key_3, key_separator, **kwargs):\n",
    "    dict_summaries = dict()\n",
    "    if type(tables).__name__ == 'DataFrame':\n",
    "        dict_summaries['original_table'] = tables\n",
    "    dict_summaries['value counts on `str`'] = func_value_counts(tables, 'str')\n",
    "    dict_summaries['value counts on `str_2`'] = func_value_counts(tables, 'str_2')\n",
    "    \n",
    "    return dict_summaries"
   ]
  },
  {
   "cell_type": "markdown",
   "metadata": {},
   "source": [
    "Apply it to the `dc_summary` object to summarise the data"
   ]
  },
  {
   "cell_type": "code",
   "execution_count": 36,
   "metadata": {},
   "outputs": [],
   "source": [
    "dc_summary.form_summary_tables(function=func_form_tables)"
   ]
  },
  {
   "cell_type": "markdown",
   "metadata": {},
   "source": [
    "Have a look at the resulting summary tables"
   ]
  },
  {
   "cell_type": "code",
   "execution_count": 37,
   "metadata": {},
   "outputs": [
    {
     "name": "stdout",
     "output_type": "stream",
     "text": [
      "original_table\n"
     ]
    },
    {
     "data": {
      "text/html": [
       "<div>\n",
       "<style scoped>\n",
       "    .dataframe tbody tr th:only-of-type {\n",
       "        vertical-align: middle;\n",
       "    }\n",
       "\n",
       "    .dataframe tbody tr th {\n",
       "        vertical-align: top;\n",
       "    }\n",
       "\n",
       "    .dataframe thead th {\n",
       "        text-align: right;\n",
       "    }\n",
       "</style>\n",
       "<table border=\"1\" class=\"dataframe\">\n",
       "  <thead>\n",
       "    <tr style=\"text-align: right;\">\n",
       "      <th></th>\n",
       "      <th>str</th>\n",
       "      <th>str_2</th>\n",
       "      <th>count</th>\n",
       "      <th>int_max</th>\n",
       "    </tr>\n",
       "  </thead>\n",
       "  <tbody>\n",
       "    <tr>\n",
       "      <th>0</th>\n",
       "      <td>b</td>\n",
       "      <td>c</td>\n",
       "      <td>1</td>\n",
       "      <td>6</td>\n",
       "    </tr>\n",
       "    <tr>\n",
       "      <th>1</th>\n",
       "      <td>d</td>\n",
       "      <td>b</td>\n",
       "      <td>1</td>\n",
       "      <td>9</td>\n",
       "    </tr>\n",
       "    <tr>\n",
       "      <th>2</th>\n",
       "      <td>c</td>\n",
       "      <td>b</td>\n",
       "      <td>1</td>\n",
       "      <td>0</td>\n",
       "    </tr>\n",
       "    <tr>\n",
       "      <th>3</th>\n",
       "      <td>d</td>\n",
       "      <td>d</td>\n",
       "      <td>1</td>\n",
       "      <td>9</td>\n",
       "    </tr>\n",
       "    <tr>\n",
       "      <th>4</th>\n",
       "      <td>c</td>\n",
       "      <td>b</td>\n",
       "      <td>1</td>\n",
       "      <td>1</td>\n",
       "    </tr>\n",
       "    <tr>\n",
       "      <th>5</th>\n",
       "      <td>a</td>\n",
       "      <td>d</td>\n",
       "      <td>1</td>\n",
       "      <td>3</td>\n",
       "    </tr>\n",
       "    <tr>\n",
       "      <th>...</th>\n",
       "      <td>...</td>\n",
       "      <td>...</td>\n",
       "      <td>...</td>\n",
       "      <td>...</td>\n",
       "    </tr>\n",
       "    <tr>\n",
       "      <th>44</th>\n",
       "      <td>d</td>\n",
       "      <td>b</td>\n",
       "      <td>1</td>\n",
       "      <td>8</td>\n",
       "    </tr>\n",
       "    <tr>\n",
       "      <th>45</th>\n",
       "      <td>d</td>\n",
       "      <td>b</td>\n",
       "      <td>1</td>\n",
       "      <td>10</td>\n",
       "    </tr>\n",
       "    <tr>\n",
       "      <th>46</th>\n",
       "      <td>d</td>\n",
       "      <td>e</td>\n",
       "      <td>1</td>\n",
       "      <td>10</td>\n",
       "    </tr>\n",
       "    <tr>\n",
       "      <th>47</th>\n",
       "      <td>a</td>\n",
       "      <td>c</td>\n",
       "      <td>1</td>\n",
       "      <td>5</td>\n",
       "    </tr>\n",
       "    <tr>\n",
       "      <th>48</th>\n",
       "      <td>a</td>\n",
       "      <td>d</td>\n",
       "      <td>1</td>\n",
       "      <td>5</td>\n",
       "    </tr>\n",
       "    <tr>\n",
       "      <th>49</th>\n",
       "      <td>d</td>\n",
       "      <td>c</td>\n",
       "      <td>1</td>\n",
       "      <td>10</td>\n",
       "    </tr>\n",
       "  </tbody>\n",
       "</table>\n",
       "<p>50 rows × 4 columns</p>\n",
       "</div>"
      ],
      "text/plain": [
       "   str str_2  count  int_max\n",
       "0    b     c      1        6\n",
       "1    d     b      1        9\n",
       "2    c     b      1        0\n",
       "3    d     d      1        9\n",
       "4    c     b      1        1\n",
       "5    a     d      1        3\n",
       "..  ..   ...    ...      ...\n",
       "44   d     b      1        8\n",
       "45   d     b      1       10\n",
       "46   d     e      1       10\n",
       "47   a     c      1        5\n",
       "48   a     d      1        5\n",
       "49   d     c      1       10\n",
       "\n",
       "[50 rows x 4 columns]"
      ]
     },
     "metadata": {},
     "output_type": "display_data"
    },
    {
     "name": "stdout",
     "output_type": "stream",
     "text": [
      "value counts on `str`\n"
     ]
    },
    {
     "data": {
      "text/html": [
       "<div>\n",
       "<style scoped>\n",
       "    .dataframe tbody tr th:only-of-type {\n",
       "        vertical-align: middle;\n",
       "    }\n",
       "\n",
       "    .dataframe tbody tr th {\n",
       "        vertical-align: top;\n",
       "    }\n",
       "\n",
       "    .dataframe thead th {\n",
       "        text-align: right;\n",
       "    }\n",
       "</style>\n",
       "<table border=\"1\" class=\"dataframe\">\n",
       "  <thead>\n",
       "    <tr style=\"text-align: right;\">\n",
       "      <th></th>\n",
       "      <th>str</th>\n",
       "      <th>count</th>\n",
       "    </tr>\n",
       "  </thead>\n",
       "  <tbody>\n",
       "    <tr>\n",
       "      <th>0</th>\n",
       "      <td>a</td>\n",
       "      <td>17</td>\n",
       "    </tr>\n",
       "    <tr>\n",
       "      <th>1</th>\n",
       "      <td>d</td>\n",
       "      <td>14</td>\n",
       "    </tr>\n",
       "    <tr>\n",
       "      <th>2</th>\n",
       "      <td>c</td>\n",
       "      <td>10</td>\n",
       "    </tr>\n",
       "    <tr>\n",
       "      <th>3</th>\n",
       "      <td>b</td>\n",
       "      <td>9</td>\n",
       "    </tr>\n",
       "  </tbody>\n",
       "</table>\n",
       "</div>"
      ],
      "text/plain": [
       "  str  count\n",
       "0   a     17\n",
       "1   d     14\n",
       "2   c     10\n",
       "3   b      9"
      ]
     },
     "metadata": {},
     "output_type": "display_data"
    },
    {
     "name": "stdout",
     "output_type": "stream",
     "text": [
      "value counts on `str_2`\n"
     ]
    },
    {
     "data": {
      "text/html": [
       "<div>\n",
       "<style scoped>\n",
       "    .dataframe tbody tr th:only-of-type {\n",
       "        vertical-align: middle;\n",
       "    }\n",
       "\n",
       "    .dataframe tbody tr th {\n",
       "        vertical-align: top;\n",
       "    }\n",
       "\n",
       "    .dataframe thead th {\n",
       "        text-align: right;\n",
       "    }\n",
       "</style>\n",
       "<table border=\"1\" class=\"dataframe\">\n",
       "  <thead>\n",
       "    <tr style=\"text-align: right;\">\n",
       "      <th></th>\n",
       "      <th>str_2</th>\n",
       "      <th>count</th>\n",
       "    </tr>\n",
       "  </thead>\n",
       "  <tbody>\n",
       "    <tr>\n",
       "      <th>0</th>\n",
       "      <td>c</td>\n",
       "      <td>16</td>\n",
       "    </tr>\n",
       "    <tr>\n",
       "      <th>1</th>\n",
       "      <td>e</td>\n",
       "      <td>14</td>\n",
       "    </tr>\n",
       "    <tr>\n",
       "      <th>2</th>\n",
       "      <td>b</td>\n",
       "      <td>11</td>\n",
       "    </tr>\n",
       "    <tr>\n",
       "      <th>3</th>\n",
       "      <td>d</td>\n",
       "      <td>9</td>\n",
       "    </tr>\n",
       "  </tbody>\n",
       "</table>\n",
       "</div>"
      ],
      "text/plain": [
       "  str_2  count\n",
       "0     c     16\n",
       "1     e     14\n",
       "2     b     11\n",
       "3     d      9"
      ]
     },
     "metadata": {},
     "output_type": "display_data"
    }
   ],
   "source": [
    "for key in dc_summary.formed_tables.keys():\n",
    "    print(key)\n",
    "    ICD.display(dc_summary.formed_tables[key])"
   ]
  },
  {
   "cell_type": "markdown",
   "metadata": {},
   "source": [
    "---\n",
    "**GigiSR**"
   ]
  }
 ],
 "metadata": {
  "kernelspec": {
   "display_name": "Python 3",
   "language": "python",
   "name": "python3"
  },
  "language_info": {
   "codemirror_mode": {
    "name": "ipython",
    "version": 3
   },
   "file_extension": ".py",
   "mimetype": "text/x-python",
   "name": "python",
   "nbconvert_exporter": "python",
   "pygments_lexer": "ipython3",
   "version": "3.6.10"
  }
 },
 "nbformat": 4,
 "nbformat_minor": 2
}
