{
 "cells": [
  {
   "cell_type": "markdown",
   "metadata": {},
   "source": [
    "# Create data\n",
    "\n",
    "This notebook creates the data that is used in the examples\n",
    "\n",
    "There is a data set that will process without problems in the examples and one that will have issues to see the difference. There are also some excel outputs for the scripts example.\n",
    "\n",
    "The specific sections for creating tables are: \n",
    "+ [Conversions](#Conversions), converting column dtypes\n",
    "+ [Altering](#Altering), changing the values in the DataFrame, adding new columns, dropping rows or columns etc\n",
    "+ [Checks](#Checks), looking for outliers or rows that data does not follow the prescribed rules\n",
    "+ [For summary tables](#For-summary-tables), there is one table here and it's for a summary output\n",
    "\n",
    "## Setup\n",
    "<ht>"
   ]
  },
  {
   "cell_type": "markdown",
   "metadata": {},
   "source": [
    "Import and settings options"
   ]
  },
  {
   "cell_type": "code",
   "execution_count": 1,
   "metadata": {},
   "outputs": [],
   "source": [
    "import sqlite3\n",
    "import pickle\n",
    "import datetime\n",
    "\n",
    "import pandas as pd\n",
    "import numpy as np"
   ]
  },
  {
   "cell_type": "code",
   "execution_count": 2,
   "metadata": {},
   "outputs": [],
   "source": [
    "pd.set_option('display.max_rows', 10)\n",
    "pd.set_option('display.max_columns', 10)"
   ]
  },
  {
   "cell_type": "markdown",
   "metadata": {},
   "source": [
    "## Create tables\n",
    "<hr>\n",
    "\n",
    "There are lots of different but small tables used in the examples\n",
    "\n",
    "### Conversions\n",
    "<hr>"
   ]
  },
  {
   "cell_type": "code",
   "execution_count": 3,
   "metadata": {},
   "outputs": [],
   "source": [
    "df_convert = pd.DataFrame(\n",
    "    [\n",
    "        ('A', '1', '0.6', '2019-01-01'),\n",
    "        ('B', '4', '5.2', '2019-02-05'),\n",
    "        ('C', '1', '5.6', '2018-12-17'),\n",
    "        ('D', '10', '15.9', '2019-07-18'),\n",
    "        ('E', '-8', '4.7', '2018-03-09')\n",
    "    ],\n",
    "    columns=['object', 'int', 'float', 'date']\n",
    ")"
   ]
  },
  {
   "cell_type": "code",
   "execution_count": 4,
   "metadata": {},
   "outputs": [],
   "source": [
    "df_convert_issues = pd.DataFrame(\n",
    "    [\n",
    "        ('A', '1', '0.6', '2019-02-29'),\n",
    "        ('B', '4.5', 'A', '2019-22-05'),\n",
    "        ('C', '1', '5.6', '2018-12-17'),\n",
    "        ('D', 'b', '15.9', '2019-09-31'),\n",
    "        (5, '-8', '4.7', '2018-03-09')\n",
    "    ],\n",
    "    columns=['object', 'int', 'float', 'date']\n",
    ")"
   ]
  },
  {
   "cell_type": "markdown",
   "metadata": {},
   "source": [
    "### Altering\n",
    "<hr>"
   ]
  },
  {
   "cell_type": "code",
   "execution_count": 5,
   "metadata": {},
   "outputs": [],
   "source": [
    "df_alterations = pd.DataFrame(\n",
    "    [\n",
    "        ('A', 2, 'key_1'),\n",
    "        ('B', 199, 'key_2'),\n",
    "        ('C', -1, 'key_1'),\n",
    "        ('D', 20, 'key_3'),\n",
    "        ('E', 6, 'key_2')\n",
    "    ],\n",
    "    columns=['to_map', 'add_1', 'merge_key']\n",
    ")"
   ]
  },
  {
   "cell_type": "code",
   "execution_count": 6,
   "metadata": {},
   "outputs": [],
   "source": [
    "df_alterations_issues = pd.DataFrame(\n",
    "    [\n",
    "        ('A', 2, 'key_1'),\n",
    "        ('B', 199, 2),\n",
    "        ('C', -1, 'key_1'),\n",
    "        (['D'], 'a', 'key_3'),\n",
    "        ('E', 6, 'key_2')\n",
    "    ],\n",
    "    columns=['to_map', 'add_1', 'merge_key']\n",
    ")"
   ]
  },
  {
   "cell_type": "markdown",
   "metadata": {},
   "source": [
    "### Checks\n",
    "<hr>"
   ]
  },
  {
   "cell_type": "code",
   "execution_count": 7,
   "metadata": {},
   "outputs": [],
   "source": [
    "df_checks = pd.DataFrame(\n",
    "    [\n",
    "        (3, 'A', 'a'),\n",
    "        (10, 'A', 'z'),\n",
    "        (9, 'B', 'b'),\n",
    "        (4, 'D', 'd'),\n",
    "        (7, 'C', 'c')\n",
    "    ],\n",
    "    columns=['number', 'category_1', 'category_2']\n",
    ")"
   ]
  },
  {
   "cell_type": "code",
   "execution_count": 8,
   "metadata": {},
   "outputs": [],
   "source": [
    "df_checks_issues = pd.DataFrame(\n",
    "    [\n",
    "        (1, 'Z', 'y'),\n",
    "        (10, 'A', 'a'),\n",
    "        (9, 'Y', 'b'),\n",
    "        (4, 'B', 'b'),\n",
    "        (-1, 'C', 'c')\n",
    "    ],\n",
    "    columns=['number', 'category_1', 'category_2']\n",
    ")"
   ]
  },
  {
   "cell_type": "markdown",
   "metadata": {},
   "source": [
    "### For summary tables\n",
    "<hr>"
   ]
  },
  {
   "cell_type": "code",
   "execution_count": 9,
   "metadata": {},
   "outputs": [],
   "source": [
    "df_summary = pd.DataFrame(\n",
    "    [\n",
    "        ('b', 'c', 1, 6),\n",
    "        ('d', 'b', 1, 9),\n",
    "        ('c', 'b', 1, 0),\n",
    "        ('d', 'd', 1, 9),\n",
    "        ('c', 'b', 1, 1),\n",
    "        ('a', 'd', 1, 3),\n",
    "        ('c', 'c', 1, 0),\n",
    "        ('c', 'd', 1, 0),\n",
    "        ('c', 'c', 1, 0),\n",
    "        ('a', 'e', 1, 4),\n",
    "        ('b', 'e', 1, 7),\n",
    "        ('a', 'd', 1, 4),\n",
    "        ('b', 'e', 1, 6),\n",
    "        ('b', 'c', 1, 8),\n",
    "        ('b', 'c', 1, 7),\n",
    "        ('d', 'e', 1, 9),\n",
    "        ('a', 'b', 1, 5),\n",
    "        ('a', 'd', 1, 5),\n",
    "        ('a', 'b', 1, 4),\n",
    "        ('d', 'b', 1, 10),\n",
    "        ('b', 'c', 1, 6),\n",
    "        ('b', 'e', 1, 7),\n",
    "        ('a', 'e', 1, 4),\n",
    "        ('a', 'c', 1, 3),\n",
    "        ('c', 'c', 1, 0),\n",
    "        ('c', 'd', 1, 2),\n",
    "        ('a', 'b', 1, 3),\n",
    "        ('a', 'e', 1, 5),\n",
    "        ('a', 'c', 1, 3),\n",
    "        ('a', 'e', 1, 4),\n",
    "        ('b', 'd', 1, 6),\n",
    "        ('c', 'e', 1, 1),\n",
    "        ('b', 'e', 1, 7),\n",
    "        ('c', 'c', 1, 0),\n",
    "        ('a', 'c', 1, 5),\n",
    "        ('c', 'b', 1, 0),\n",
    "        ('d', 'b', 1, 8),\n",
    "        ('d', 'e', 1, 10),\n",
    "        ('d', 'c', 1, 8),\n",
    "        ('a', 'd', 1, 3),\n",
    "        ('d', 'e', 1, 10),\n",
    "        ('d', 'c', 1, 8),\n",
    "        ('d', 'e', 1, 10),\n",
    "        ('a', 'c', 1, 4),\n",
    "        ('d', 'b', 1, 8),\n",
    "        ('d', 'b', 1, 10),\n",
    "        ('d', 'e', 1, 10),\n",
    "        ('a', 'c', 1, 5),\n",
    "        ('a', 'd', 1, 5),\n",
    "        ('d', 'c', 1, 10)\n",
    "    ],\n",
    "    columns=['str', 'str_2', 'count', 'int_max']\n",
    ")"
   ]
  },
  {
   "cell_type": "markdown",
   "metadata": {},
   "source": [
    "### For scripts\n",
    "<hr>"
   ]
  },
  {
   "cell_type": "code",
   "execution_count": 10,
   "metadata": {},
   "outputs": [],
   "source": [
    "df_data = pd.DataFrame(\n",
    "    [\n",
    "        (1, datetime.datetime(2019, 1, 1, 0, 0), datetime.datetime(2018, 7, 7, 0, 0), \n",
    "         'A string this is', 51.5074, 0.1278),\n",
    "        (1, datetime.datetime(2019, 1, 1, 0, 0), datetime.datetime(2018, 4, 9, 0, 0), \n",
    "         'Test', 51.5084, 0.1268),\n",
    "        (1, datetime.datetime(2019, 1, 1, 0, 0), datetime.datetime(2018, 1, 10, 0, 0), \n",
    "         'testing', 51.5094, 0.1258),\n",
    "        (3, datetime.datetime(2019, 1, 1, 0, 0), datetime.datetime(2017, 10, 13, 0, 0),\n",
    "         'test test test', 51.5104, 0.1248),\n",
    "        (4, datetime.datetime(2019, 1, 1, 0, 0), datetime.datetime(2017, 7, 16, 0, 0),\n",
    "         np.nan, 51.5114, 0.1238),\n",
    "        (5, datetime.datetime(2019, 1, 1, 0, 0), datetime.datetime(2017, 4, 18, 0, 0), \n",
    "         np.nan, 51.5124, 0.1228),\n",
    "        (6, datetime.datetime(2019, 1, 1, 0, 0), datetime.datetime(2017, 1, 19, 0, 0),\n",
    "         'Blah', 51.5134, 0.1218),\n",
    "        (7, datetime.datetime(2019, 1, 1, 0, 0), datetime.datetime(2016, 10, 22, 0, 0),\n",
    "         'Dah', 51.5144, 0.1208),\n",
    "        (1234, datetime.datetime(2019, 1, 1, 0, 0), datetime.datetime(2016, 7, 25, 0, 0), \n",
    "         'Doh', 51.5154, 0.1198),\n",
    "        (3, datetime.datetime(2019, 1, 1, 0, 0), datetime.datetime(2016, 4, 27, 0, 0),\n",
    "         'Boh', 51.5164, 0.1188),\n",
    "        (2341243, datetime.datetime(2019, 1, 1, 0, 0), datetime.datetime(2016, 1, 29, 0, 0),\n",
    "         'Pho', 51.5174, 0.1178)\n",
    "    ],\n",
    "    columns=['Number', 'A date', 'Another date£', '   StringStringString   ', 'lat', 'lng']\n",
    ")"
   ]
  },
  {
   "cell_type": "code",
   "execution_count": 11,
   "metadata": {},
   "outputs": [],
   "source": [
    "df_headers_1 = pd.DataFrame(\n",
    "    [\n",
    "        ('Header', 'Number', 'A date', 'Another date£', '   StringStringString   ', 'lat', 'lng'), \n",
    "        ('New name', 'a_number', 'date_1', 'date_2', 'string', 'lat', 'lng'),\n",
    "        ('Remove', np.nan, np.nan, np.nan, np.nan, np.nan, np.nan),\n",
    "        ('Notes', np.nan, np.nan, np.nan, np.nan, np.nan, np.nan)\n",
    "    ]\n",
    ")"
   ]
  },
  {
   "cell_type": "code",
   "execution_count": 12,
   "metadata": {},
   "outputs": [],
   "source": [
    "df_ideal_headers = pd.DataFrame(\n",
    "    [\n",
    "        ('a_number', 'date_1', 'date_2', 'string', 'testing', 'a', 'b', 'lat', 'lng')\n",
    "    ]\n",
    ")"
   ]
  },
  {
   "cell_type": "markdown",
   "metadata": {},
   "source": [
    "## Write out data\n",
    "<hr>"
   ]
  },
  {
   "cell_type": "code",
   "execution_count": 13,
   "metadata": {},
   "outputs": [],
   "source": [
    "df_convert.to_csv('data/df_convert.tsv', sep='\\t', index=False)\n",
    "df_convert_issues.to_csv('data/df_convert_issues.tsv', sep='\\t', index=False)\n",
    "\n",
    "df_alterations.to_csv('data/df_alterations.tsv', sep='\\t', index=False)\n",
    "df_alterations_issues.to_csv('data/df_alterations_issues.tsv', sep='\\t', index=False)\n",
    "\n",
    "pickle.dump(df_checks, open('data/df_checks.pkl', 'wb'))\n",
    "pickle.dump(df_checks_issues, open('data/df_checks_issues.pkl', 'wb'))\n",
    "\n",
    "pickle.dump(df_summary, open('data/df_summary.pkl', 'wb'))\n",
    "\n",
    "df_data.to_excel('data/A.xlsx', index=False)\n",
    "xl_writer = pd.ExcelWriter('data/headers.xlsx')\n",
    "df_headers_1.to_excel(xl_writer, index=False, sheet_name='A 1', header=None)\n",
    "df_ideal_headers.to_excel(xl_writer, index=False, sheet_name='IdealHeaders', header=None)\n",
    "xl_writer.save()\n",
    "xl_writer.close()"
   ]
  },
  {
   "cell_type": "markdown",
   "metadata": {},
   "source": [
    "---\n",
    "\n",
    "**GigiSR**"
   ]
  }
 ],
 "metadata": {
  "kernelspec": {
   "display_name": "Python 3",
   "language": "python",
   "name": "python3"
  },
  "language_info": {
   "codemirror_mode": {
    "name": "ipython",
    "version": 3
   },
   "file_extension": ".py",
   "mimetype": "text/x-python",
   "name": "python",
   "nbconvert_exporter": "python",
   "pygments_lexer": "ipython3",
   "version": "3.6.10"
  }
 },
 "nbformat": 4,
 "nbformat_minor": 2
}
