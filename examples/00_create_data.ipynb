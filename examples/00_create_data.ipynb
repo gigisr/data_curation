{
 "cells": [
  {
   "cell_type": "markdown",
   "metadata": {},
   "source": [
    "# Create data"
   ]
  },
  {
   "cell_type": "markdown",
   "metadata": {},
   "source": [
    "## Setup"
   ]
  },
  {
   "cell_type": "code",
   "execution_count": 1,
   "metadata": {},
   "outputs": [],
   "source": [
    "import sqlite3\n",
    "import pickle\n",
    "\n",
    "import pandas as pd\n",
    "import numpy as np"
   ]
  },
  {
   "cell_type": "code",
   "execution_count": 2,
   "metadata": {},
   "outputs": [],
   "source": [
    "pd.set_option('display.max_rows', 10)\n",
    "pd.set_option('display.max_columns', 10)"
   ]
  },
  {
   "cell_type": "markdown",
   "metadata": {},
   "source": [
    "## Initialise DB for errors and tables"
   ]
  },
  {
   "cell_type": "code",
   "execution_count": 3,
   "metadata": {},
   "outputs": [],
   "source": [
    "cnx = sqlite3.connect('00_db.db')\n",
    "cnx.close()"
   ]
  },
  {
   "cell_type": "code",
   "execution_count": 4,
   "metadata": {},
   "outputs": [],
   "source": [
    "cnx = sqlite3.connect('00_db.db')\n",
    "\n",
    "cursor = cnx.cursor()\n",
    "cursor.execute('SELECT name from sqlite_master where type= \"table\"')\n",
    "\n",
    "if 'df_issues' not in [x[0] for x in cursor.fetchall()]:\n",
    "    pd.DataFrame(\n",
    "        columns=[\n",
    "            \"key_1\", \"key_2\", \"key_3\", \"file\", \"sub_file\", \"step_number\",\n",
    "            \"category\", \"issue_short_desc\", \"issue_long_desc\", \"column\",\n",
    "            \"issue_count\", \"issue_idx\", \"grouping\"\n",
    "        ]\n",
    "    ).to_sql('df_issues', cnx)\n",
    "\n",
    "cnx.close()"
   ]
  },
  {
   "cell_type": "markdown",
   "metadata": {},
   "source": [
    "## Create tables"
   ]
  },
  {
   "cell_type": "markdown",
   "metadata": {},
   "source": [
    "### Conversions"
   ]
  },
  {
   "cell_type": "code",
   "execution_count": 5,
   "metadata": {},
   "outputs": [],
   "source": [
    "df_convert = pd.DataFrame(\n",
    "    [\n",
    "        ('A', '1', '0.6', '2019-01-01'),\n",
    "        ('B', '4', '5.2', '2019-02-05'),\n",
    "        ('C', '1', '5.6', '2018-12-17'),\n",
    "        ('D', '10', '15.9', '2019-07-18'),\n",
    "        ('E', '-8', '4.7', '2018-03-09')\n",
    "    ],\n",
    "    columns=['object', 'int', 'float', 'date']\n",
    ")"
   ]
  },
  {
   "cell_type": "code",
   "execution_count": 6,
   "metadata": {},
   "outputs": [],
   "source": [
    "df_convert_issues = pd.DataFrame(\n",
    "    [\n",
    "        ('A', '1', '0.6', '2019-02-29'),\n",
    "        ('B', '4.5', 'A', '2019-22-05'),\n",
    "        ('C', '1', '5.6', '2018-12-17'),\n",
    "        ('D', 'b', '15.9', '2019-09-31'),\n",
    "        (5, '-8', '4.7', '2018-03-09')\n",
    "    ],\n",
    "    columns=['object', 'int', 'float', 'date']\n",
    ")"
   ]
  },
  {
   "cell_type": "markdown",
   "metadata": {},
   "source": [
    "### Altering"
   ]
  },
  {
   "cell_type": "code",
   "execution_count": 7,
   "metadata": {},
   "outputs": [],
   "source": [
    "df_alterations = pd.DataFrame(\n",
    "    [\n",
    "        ('A', 2, 'key_1'),\n",
    "        ('B', 199, 'key_2'),\n",
    "        ('C', -1, 'key_1'),\n",
    "        ('D', 20, 'key_3'),\n",
    "        ('E', 6, 'key_2')\n",
    "    ],\n",
    "    columns=['to_map', 'add_1', 'merge_key']\n",
    ")"
   ]
  },
  {
   "cell_type": "code",
   "execution_count": 8,
   "metadata": {},
   "outputs": [],
   "source": [
    "df_alterations_issues = pd.DataFrame(\n",
    "    [\n",
    "        ('A', 2, 'key_1'),\n",
    "        ('B', 199, 2),\n",
    "        ('C', -1, 'key_1'),\n",
    "        (['D'], 'a', 'key_3'),\n",
    "        ('E', 6, 'key_2')\n",
    "    ],\n",
    "    columns=['to_map', 'add_1', 'merge_key']\n",
    ")"
   ]
  },
  {
   "cell_type": "markdown",
   "metadata": {},
   "source": [
    "### Checks"
   ]
  },
  {
   "cell_type": "code",
   "execution_count": 9,
   "metadata": {},
   "outputs": [],
   "source": [
    "df_checks = pd.DataFrame(\n",
    "    [\n",
    "        (3, 'A', 'a'),\n",
    "        (10, 'A', 'z'),\n",
    "        (9, 'B', 'b'),\n",
    "        (4, 'D', 'd'),\n",
    "        (7, 'C', 'c')\n",
    "    ],\n",
    "    columns=['number', 'category_1', 'category_2']\n",
    ")"
   ]
  },
  {
   "cell_type": "code",
   "execution_count": 10,
   "metadata": {},
   "outputs": [],
   "source": [
    "df_checks_issues = pd.DataFrame(\n",
    "    [\n",
    "        (1, 'Z', 'y'),\n",
    "        (10, 'A', 'a'),\n",
    "        (9, 'Y', 'b'),\n",
    "        (4, 'B', 'b'),\n",
    "        (-1, 'C', 'c')\n",
    "    ],\n",
    "    columns=['number', 'category_1', 'category_2']\n",
    ")"
   ]
  },
  {
   "cell_type": "markdown",
   "metadata": {},
   "source": [
    "### For summary tables"
   ]
  },
  {
   "cell_type": "code",
   "execution_count": 11,
   "metadata": {},
   "outputs": [],
   "source": [
    "df_summary = pd.DataFrame(\n",
    "    [\n",
    "        ('b', 'c', 1, 6),\n",
    "        ('d', 'b', 1, 9),\n",
    "        ('c', 'b', 1, 0),\n",
    "        ('d', 'd', 1, 9),\n",
    "        ('c', 'b', 1, 1),\n",
    "        ('a', 'd', 1, 3),\n",
    "        ('c', 'c', 1, 0),\n",
    "        ('c', 'd', 1, 0),\n",
    "        ('c', 'c', 1, 0),\n",
    "        ('a', 'e', 1, 4),\n",
    "        ('b', 'e', 1, 7),\n",
    "        ('a', 'd', 1, 4),\n",
    "        ('b', 'e', 1, 6),\n",
    "        ('b', 'c', 1, 8),\n",
    "        ('b', 'c', 1, 7),\n",
    "        ('d', 'e', 1, 9),\n",
    "        ('a', 'b', 1, 5),\n",
    "        ('a', 'd', 1, 5),\n",
    "        ('a', 'b', 1, 4),\n",
    "        ('d', 'b', 1, 10),\n",
    "        ('b', 'c', 1, 6),\n",
    "        ('b', 'e', 1, 7),\n",
    "        ('a', 'e', 1, 4),\n",
    "        ('a', 'c', 1, 3),\n",
    "        ('c', 'c', 1, 0),\n",
    "        ('c', 'd', 1, 2),\n",
    "        ('a', 'b', 1, 3),\n",
    "        ('a', 'e', 1, 5),\n",
    "        ('a', 'c', 1, 3),\n",
    "        ('a', 'e', 1, 4),\n",
    "        ('b', 'd', 1, 6),\n",
    "        ('c', 'e', 1, 1),\n",
    "        ('b', 'e', 1, 7),\n",
    "        ('c', 'c', 1, 0),\n",
    "        ('a', 'c', 1, 5),\n",
    "        ('c', 'b', 1, 0),\n",
    "        ('d', 'b', 1, 8),\n",
    "        ('d', 'e', 1, 10),\n",
    "        ('d', 'c', 1, 8),\n",
    "        ('a', 'd', 1, 3),\n",
    "        ('d', 'e', 1, 10),\n",
    "        ('d', 'c', 1, 8),\n",
    "        ('d', 'e', 1, 10),\n",
    "        ('a', 'c', 1, 4),\n",
    "        ('d', 'b', 1, 8),\n",
    "        ('d', 'b', 1, 10),\n",
    "        ('d', 'e', 1, 10),\n",
    "        ('a', 'c', 1, 5),\n",
    "        ('a', 'd', 1, 5),\n",
    "        ('d', 'c', 1, 10)\n",
    "    ],\n",
    "    columns=['str', 'str_2', 'count', 'int_max']\n",
    ")"
   ]
  },
  {
   "cell_type": "markdown",
   "metadata": {},
   "source": [
    "## Write out data"
   ]
  },
  {
   "cell_type": "code",
   "execution_count": 12,
   "metadata": {},
   "outputs": [],
   "source": [
    "df_convert.to_csv('data/df_convert.tsv', sep='\\t', index=False)\n",
    "df_convert_issues.to_csv('data/df_convert_issues.tsv', sep='\\t', index=False)\n",
    "\n",
    "df_alterations.to_csv('data/df_alterations.tsv', sep='\\t', index=False)\n",
    "df_alterations_issues.to_csv('data/df_alterations_issues.tsv', sep='\\t', index=False)\n",
    "\n",
    "pickle.dump(df_checks, open('data/df_checks.pkl', 'wb'))\n",
    "pickle.dump(df_checks_issues, open('data/df_checks_issues.pkl', 'wb'))\n",
    "\n",
    "pickle.dump(df_summary, open('data/df_summary.pkl', 'wb'))"
   ]
  },
  {
   "cell_type": "markdown",
   "metadata": {},
   "source": [
    "---\n",
    "\n",
    "**GigiSR**"
   ]
  }
 ],
 "metadata": {
  "kernelspec": {
   "display_name": "Python 3",
   "language": "python",
   "name": "python3"
  },
  "language_info": {
   "codemirror_mode": {
    "name": "ipython",
    "version": 3
   },
   "file_extension": ".py",
   "mimetype": "text/x-python",
   "name": "python",
   "nbconvert_exporter": "python",
   "pygments_lexer": "ipython3",
   "version": "3.6.7"
  }
 },
 "nbformat": 4,
 "nbformat_minor": 2
}
